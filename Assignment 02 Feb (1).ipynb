{
 "cells": [
  {
   "cell_type": "markdown",
   "id": "e67910f2-65bc-42d7-81ff-d041a48b3170",
   "metadata": {},
   "source": [
    "#Q1.What are the characterstics of the tuples? Is tuple immutables? "
   ]
  },
  {
   "cell_type": "markdown",
   "id": "02bf40f3-d39e-413d-97a1-33ea71bb7f9a",
   "metadata": {},
   "source": [
    "#Ans1. A tuple is collection of objects which is ordered. Tupleas are immutable."
   ]
  },
  {
   "cell_type": "markdown",
   "id": "27d9068e-245c-4a02-8e9c-272a70521bf2",
   "metadata": {},
   "source": [
    "#--------------------------- "
   ]
  },
  {
   "cell_type": "markdown",
   "id": "9ad9e418-fc93-4890-b6eb-91b7987522e3",
   "metadata": {},
   "source": [
    "#Q2. What are the two tuple methods in python? Give an example of each method . Give a reason why tuples have only two in-built methods as compared to list. "
   ]
  },
  {
   "cell_type": "markdown",
   "id": "a62f1f61-afff-4a14-8b86-9009d34547b0",
   "metadata": {},
   "source": [
    "#Ans2. The two tuple methods are count and index and exapmles are below:"
   ]
  },
  {
   "cell_type": "code",
   "execution_count": 2,
   "id": "97dfd556-a5b0-447c-83e2-5bc08f56dd5d",
   "metadata": {},
   "outputs": [
    {
     "name": "stdout",
     "output_type": "stream",
     "text": [
      "1\n"
     ]
    }
   ],
   "source": [
    "t1=(13,18,11,16,18,14)\n",
    "print(t1.index(18))"
   ]
  },
  {
   "cell_type": "code",
   "execution_count": 4,
   "id": "9a3d62a1-23fd-49d1-91b9-597f1fb37a5d",
   "metadata": {},
   "outputs": [
    {
     "data": {
      "text/plain": [
       "1"
      ]
     },
     "execution_count": 4,
     "metadata": {},
     "output_type": "execute_result"
    }
   ],
   "source": [
    "t1.count(11)"
   ]
  },
  {
   "cell_type": "markdown",
   "id": "56394440-51fc-42d6-85e5-2349741a892e",
   "metadata": {},
   "source": [
    "#--------------------------------------------- "
   ]
  },
  {
   "cell_type": "markdown",
   "id": "65473c34-797b-48ce-ad70-81c04ba4730b",
   "metadata": {},
   "source": [
    "#Q3.Whcih collection datatypes in python do not allow duplicate items? Write a code using a set to remove duplicate from the given list:\n",
    "list=[1,1,1,2,1,3,1,4,2,1,2,2,2,3,2,4,3,1,3,2,3,3,3,4,4,1,4,2,4,3,4,4]"
   ]
  },
  {
   "cell_type": "markdown",
   "id": "61c381f6-1473-4071-9578-49fcb4ab5f4b",
   "metadata": {},
   "source": [
    "#Ans3. Sets do not allow duplciate items in python. "
   ]
  },
  {
   "cell_type": "code",
   "execution_count": 5,
   "id": "ddf261d5-f915-46a6-b57d-3b7a339512c3",
   "metadata": {},
   "outputs": [],
   "source": [
    "list=[1,1,1,2,1,3,1,4,2,1,2,2,2,3,2,4,3,1,3,2,3,3,3,4,4,1,4,2,4,3,4,4]"
   ]
  },
  {
   "cell_type": "code",
   "execution_count": 11,
   "id": "74162358-9631-4878-8476-308b754678f6",
   "metadata": {},
   "outputs": [],
   "source": [
    "list= set(list)"
   ]
  },
  {
   "cell_type": "code",
   "execution_count": 12,
   "id": "01bb480a-5c3c-49aa-85a9-497a46f441d3",
   "metadata": {},
   "outputs": [
    {
     "name": "stdout",
     "output_type": "stream",
     "text": [
      "list without duplicates {1, 2, 3, 4}\n"
     ]
    }
   ],
   "source": [
    "print(\"list without duplicates\", list)"
   ]
  },
  {
   "cell_type": "markdown",
   "id": "794bec64-26fc-463d-8277-1a003a4c1151",
   "metadata": {},
   "source": [
    "#----------------------------------- "
   ]
  },
  {
   "cell_type": "markdown",
   "id": "c5c29e07-cbc7-4384-9c4d-1fa06f3eacf2",
   "metadata": {},
   "source": [
    "#Q4.Explain the difference between the union() and update() methods for a set. Give an example of each method."
   ]
  },
  {
   "cell_type": "markdown",
   "id": "c3705fd6-fda0-484b-aa35-e3e78fbfb74e",
   "metadata": {},
   "source": [
    "#Ans.4  The first one adds all missing elements to the set on which it is called and returns none , while the latter creates and returns a new set. Examples are below: "
   ]
  },
  {
   "cell_type": "code",
   "execution_count": 17,
   "id": "0219f529-eea3-454e-b694-33f91804fc27",
   "metadata": {},
   "outputs": [],
   "source": [
    "A = {1, 2, 3, 4, 5}\n",
    "B = {4, 5, 6, 7, 8, 9}\n",
    "\n",
    "C= A.union(B)"
   ]
  },
  {
   "cell_type": "code",
   "execution_count": 32,
   "id": "d5c36049-490c-44f6-8a02-5cfa60920f29",
   "metadata": {},
   "outputs": [
    {
     "data": {
      "text/plain": [
       "{1, 2, 3, 4, 5, 'a', 'b'}"
      ]
     },
     "execution_count": 32,
     "metadata": {},
     "output_type": "execute_result"
    }
   ],
   "source": [
    "C"
   ]
  },
  {
   "cell_type": "code",
   "execution_count": 34,
   "id": "fbc580d4-2272-4505-a884-b4699bb67ae9",
   "metadata": {},
   "outputs": [
    {
     "name": "stdout",
     "output_type": "stream",
     "text": [
      "{'red', 'orange', 'blue', 'yellow', 'green'}\n"
     ]
    }
   ],
   "source": [
    "D = {'red', 'green', 'blue'}\n",
    "E = {'yellow', 'red', 'orange'}\n",
    "\n",
    "D.update(E)\n",
    "print(D)"
   ]
  },
  {
   "cell_type": "markdown",
   "id": "08df7a3b-217f-4e10-97a8-53d41c3cbd1a",
   "metadata": {},
   "source": [
    "#------------------------------------- "
   ]
  },
  {
   "cell_type": "markdown",
   "id": "bca4f487-e95e-496d-b8de-2e82ddd89ec9",
   "metadata": {},
   "source": [
    "#Q5. What is a dictionary? Give an example. Also, state whether a dictionary is ordered or unordered."
   ]
  },
  {
   "cell_type": "markdown",
   "id": "4a93b3c9-13ba-435f-be3f-cdd6835bc726",
   "metadata": {},
   "source": [
    "#Ans5. The dictionary is an unordered collection that contains key:value pairs separated by commas inside curly brackets. Example of dictionary :"
   ]
  },
  {
   "cell_type": "code",
   "execution_count": 37,
   "id": "8709fdfe-fbc4-4715-8cfb-43f4487d2055",
   "metadata": {},
   "outputs": [],
   "source": [
    "d= {\"Fruit\":[\"Mango\",\"Banana\"], \"Color\":[\"Blue\", \"Red\"]}"
   ]
  },
  {
   "cell_type": "code",
   "execution_count": 38,
   "id": "c4719256-2a3b-4686-a0fa-b9962048612c",
   "metadata": {},
   "outputs": [
    {
     "data": {
      "text/plain": [
       "{'Fruit': ['Mango', 'Banana'], 'Color': ['Blue', 'Red']}"
      ]
     },
     "execution_count": 38,
     "metadata": {},
     "output_type": "execute_result"
    }
   ],
   "source": [
    "d"
   ]
  },
  {
   "cell_type": "markdown",
   "id": "36d625e4-2a53-400e-a8b3-c8373bf4b0db",
   "metadata": {},
   "source": [
    "#--------------------------------------- "
   ]
  },
  {
   "cell_type": "markdown",
   "id": "158947d7-1b86-4194-a00c-a216fb99eaeb",
   "metadata": {},
   "source": [
    "#Q6. Can we create a nested dictionary? if so, please give an example by creating a simple onle-level nested dictionary. "
   ]
  },
  {
   "cell_type": "markdown",
   "id": "2249510c-c775-4fe3-af92-eff3201ced31",
   "metadata": {},
   "source": [
    "#Ans6. Yes we can create a nested dictionary. Example :"
   ]
  },
  {
   "cell_type": "code",
   "execution_count": 40,
   "id": "4725b99a-4652-4f53-b9f6-f6e6e9ed6320",
   "metadata": {},
   "outputs": [],
   "source": [
    "myfamily = {\"child1\" : {\"name\" : \"Emil\",\"year\" : 2004},\"child2\" : {\"name\" : \"Tobias\",\"year\" : 2007},\"child3\" : {\"name\" : \"Linus\",\"year\" : 2011}}"
   ]
  },
  {
   "cell_type": "code",
   "execution_count": 41,
   "id": "5b19d3e6-ac09-4875-9175-5fa9bbfe7abd",
   "metadata": {},
   "outputs": [
    {
     "data": {
      "text/plain": [
       "{'child1': {'name': 'Emil', 'year': 2004},\n",
       " 'child2': {'name': 'Tobias', 'year': 2007},\n",
       " 'child3': {'name': 'Linus', 'year': 2011}}"
      ]
     },
     "execution_count": 41,
     "metadata": {},
     "output_type": "execute_result"
    }
   ],
   "source": [
    "myfamily"
   ]
  },
  {
   "cell_type": "markdown",
   "id": "6b8c2bd3-1561-4294-9207-f56f52817f71",
   "metadata": {},
   "source": [
    "#---------------------------------- "
   ]
  },
  {
   "cell_type": "markdown",
   "id": "a4341c6f-8d09-4fbd-aee2-0b1a5ea5c7f4",
   "metadata": {},
   "source": [
    "#Q7. Using setdefault() method, create key named topics in the given dictionary and also add the value of the key as this list[\"Python\", \"Machine Learning\", \"Deep Learning\"]\n",
    "\n",
    "dict1= {\"language\":\"Python\", \"course\":\"Data Science Masters\"}"
   ]
  },
  {
   "cell_type": "code",
   "execution_count": 6,
   "id": "ef6f7294-32ad-45b6-a471-bc965ac81c44",
   "metadata": {},
   "outputs": [
    {
     "name": "stdout",
     "output_type": "stream",
     "text": [
      "{'language': 'Python', 'course': 'Data Science Masters', 'Topics': ['Python', 'Machine Learning', 'Deep Learning']}\n"
     ]
    }
   ],
   "source": [
    "d={\"language\":\"Python\", \"course\":\"Data Science Masters\"}\n",
    "x=d.setdefault(\"Topics\",[\"Python\", \"Machine Learning\", \"Deep Learning\"])\n",
    "print(d)"
   ]
  },
  {
   "cell_type": "code",
   "execution_count": 48,
   "id": "0c824b65-1ad3-4244-a529-7e60c7c0559d",
   "metadata": {},
   "outputs": [
    {
     "data": {
      "text/plain": [
       "'Data Science Masters'"
      ]
     },
     "execution_count": 48,
     "metadata": {},
     "output_type": "execute_result"
    }
   ],
   "source": [
    "d.setdefault(\"course\", \"Machine learning\")"
   ]
  },
  {
   "cell_type": "markdown",
   "id": "0c21c36d-e9e9-41a3-8efe-5331d3498e93",
   "metadata": {},
   "source": [
    "#--------------------------------- "
   ]
  },
  {
   "cell_type": "markdown",
   "id": "a4844d24-6c45-4641-a49c-6dd886964e07",
   "metadata": {},
   "source": [
    "#Q8. What are the three view objects in dictionaries? Use the three in-built methods in python to display these three view objects for the given dictionary.\n",
    "dict1= {\"sport\":\"cricket,\"teams\":[\"India,\"Australia\",\"England\",\"South Africa\",\"Sri Lanka\",\"New Zealand\"]}"
   ]
  },
  {
   "cell_type": "markdown",
   "id": "7ba6e106-884c-4ebb-ad88-70286ed06f25",
   "metadata": {},
   "source": [
    "#Ans8. The main view objects of dictionary in python are keys, values and items. "
   ]
  },
  {
   "cell_type": "code",
   "execution_count": 56,
   "id": "bafb7c5e-fc33-4f96-807f-8cc262e64aaf",
   "metadata": {},
   "outputs": [],
   "source": [
    "d= {\"sport\":\"cricket\",\"teams\":[\"India\",\"Australia\",\"England\",\"South Africa\",\"Sri Lanka\",\"New Zealand\"]}"
   ]
  },
  {
   "cell_type": "code",
   "execution_count": 3,
   "id": "e6f29675-927b-4e9a-9519-bd9442942356",
   "metadata": {},
   "outputs": [
    {
     "data": {
      "text/plain": [
       "dict_keys(['language', 'course'])"
      ]
     },
     "execution_count": 3,
     "metadata": {},
     "output_type": "execute_result"
    }
   ],
   "source": [
    "d.keys()"
   ]
  },
  {
   "cell_type": "code",
   "execution_count": 4,
   "id": "afb38032-0656-4a0d-8ce9-bb1f86cfc3ea",
   "metadata": {},
   "outputs": [
    {
     "data": {
      "text/plain": [
       "dict_values(['Python', 'Data Science Masters'])"
      ]
     },
     "execution_count": 4,
     "metadata": {},
     "output_type": "execute_result"
    }
   ],
   "source": [
    "d.values()"
   ]
  },
  {
   "cell_type": "code",
   "execution_count": 5,
   "id": "731c9f21-23f5-44f4-a86f-1375dcb7e779",
   "metadata": {},
   "outputs": [
    {
     "data": {
      "text/plain": [
       "dict_items([('language', 'Python'), ('course', 'Data Science Masters')])"
      ]
     },
     "execution_count": 5,
     "metadata": {},
     "output_type": "execute_result"
    }
   ],
   "source": [
    "d.items()"
   ]
  },
  {
   "cell_type": "markdown",
   "id": "9678364c-1e22-422e-9afb-9ee83ea9e782",
   "metadata": {},
   "source": [
    "#Thank you!!!! "
   ]
  },
  {
   "cell_type": "code",
   "execution_count": null,
   "id": "aec7ae72-555e-4854-adc2-dd4b12d2d0ef",
   "metadata": {},
   "outputs": [],
   "source": []
  }
 ],
 "metadata": {
  "kernelspec": {
   "display_name": "Python 3 (ipykernel)",
   "language": "python",
   "name": "python3"
  },
  "language_info": {
   "codemirror_mode": {
    "name": "ipython",
    "version": 3
   },
   "file_extension": ".py",
   "mimetype": "text/x-python",
   "name": "python",
   "nbconvert_exporter": "python",
   "pygments_lexer": "ipython3",
   "version": "3.10.8"
  }
 },
 "nbformat": 4,
 "nbformat_minor": 5
}
