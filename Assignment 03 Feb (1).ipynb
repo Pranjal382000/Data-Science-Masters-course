{
 "cells": [
  {
   "cell_type": "markdown",
   "id": "9a256872-1b8c-4f8d-b6a5-20b9d0ae0a49",
   "metadata": {},
   "source": [
    "#Q1.Which keyword is used to create a function? Create a function to return a list of odd number in the range of 1 to 25. "
   ]
  },
  {
   "cell_type": "markdown",
   "id": "41099332-3dd1-4e7b-b6a1-b4ffed17bc61",
   "metadata": {},
   "source": [
    "#Ans1. The def keyowrd is used to craete a function. "
   ]
  },
  {
   "cell_type": "code",
   "execution_count": 32,
   "id": "56da5dfc-1e6f-4a68-a209-9462be30e762",
   "metadata": {},
   "outputs": [],
   "source": [
    "def odd_numbers(n):\n",
    "    return [x for x in range(0, n) if x%2 != 0]"
   ]
  },
  {
   "cell_type": "code",
   "execution_count": 33,
   "id": "54e9b722-2e59-49f9-85cc-cf5f378c3e67",
   "metadata": {},
   "outputs": [
    {
     "name": "stdout",
     "output_type": "stream",
     "text": [
      "[1, 3, 5, 7, 9, 11, 13, 15, 17, 19, 21, 23]\n"
     ]
    }
   ],
   "source": [
    "print(odd_numbers(25))"
   ]
  },
  {
   "cell_type": "markdown",
   "id": "6aae4f89-f651-426a-8427-5874c55237de",
   "metadata": {},
   "source": [
    "#----------------------------------- "
   ]
  },
  {
   "cell_type": "markdown",
   "id": "3ebfc4ed-98e8-4b0e-82bc-8e0f8f4f1efb",
   "metadata": {},
   "source": [
    "#Q2. Why *args and **kwargs is used in some functions? Create a  function each for *args and **kwargs to demonstrate their use. "
   ]
  },
  {
   "cell_type": "markdown",
   "id": "a5d1ff06-fc62-459a-aa8f-b7d38e3b746c",
   "metadata": {},
   "source": [
    "#Ans2. We use *args and **kwargs as an argument when we are unsure about the number of arguments to pass in the functions."
   ]
  },
  {
   "cell_type": "code",
   "execution_count": 37,
   "id": "09b602bb-c689-407c-a06e-e486f2c30052",
   "metadata": {},
   "outputs": [],
   "source": [
    "def addition(*args):\n",
    "    result = 0\n",
    "    for i in args:\n",
    "        result += i\n",
    "    return result"
   ]
  },
  {
   "cell_type": "code",
   "execution_count": 38,
   "id": "6a1519ae-c5f1-4361-b3c5-9cc0d48f55ff",
   "metadata": {},
   "outputs": [
    {
     "name": "stdout",
     "output_type": "stream",
     "text": [
      "5\n"
     ]
    }
   ],
   "source": [
    "print(addition(1,4))"
   ]
  },
  {
   "cell_type": "code",
   "execution_count": 39,
   "id": "75d1f676-95b2-44e5-9c9a-e6e793e64842",
   "metadata": {},
   "outputs": [
    {
     "name": "stdout",
     "output_type": "stream",
     "text": [
      "{'kwargs_1': 'Shark', 'kwargs_2': 4.5, 'kwargs_3': True}\n"
     ]
    }
   ],
   "source": [
    "def print_kwargs(**kwargs):\n",
    "        print(kwargs)\n",
    "\n",
    "print_kwargs(kwargs_1=\"Shark\", kwargs_2=4.5, kwargs_3=True)"
   ]
  },
  {
   "cell_type": "markdown",
   "id": "9702cb98-2c19-48c9-8a7f-dc28d5d7139e",
   "metadata": {},
   "source": [
    "#-------------------------------- "
   ]
  },
  {
   "cell_type": "markdown",
   "id": "f8244352-0061-4368-86f9-e8b6756dabf6",
   "metadata": {},
   "source": [
    "#Q3. What is an iterator in python?Name the method used to initialise the iterator object and the method used for iteration. Use these methods to print the first five elements of the given list[2,4,6,8,10,12,14,16,18,20]. "
   ]
  },
  {
   "cell_type": "markdown",
   "id": "c008b9ee-0eee-4a4f-a39b-b6f015499ae4",
   "metadata": {},
   "source": [
    "#Ans3. An iterator is an object that contains a countable number of values."
   ]
  },
  {
   "cell_type": "code",
   "execution_count": 3,
   "id": "c07df499-d6ce-4e3a-9623-c9fe23bb4d42",
   "metadata": {},
   "outputs": [
    {
     "name": "stdout",
     "output_type": "stream",
     "text": [
      "2\n",
      "4\n",
      "6\n",
      "8\n",
      "10\n"
     ]
    }
   ],
   "source": [
    "l= [2,4,6,8,10,12,14,16,18,20]\n",
    "\n",
    "for i in range(5):\n",
    "    print(l[i])"
   ]
  },
  {
   "cell_type": "markdown",
   "id": "e64964d5-3656-45bb-b923-4df31872ba61",
   "metadata": {},
   "source": [
    "#Q4. What is a generator function in python? Why yield keyword is used? Give an example of a generator function. "
   ]
  },
  {
   "cell_type": "markdown",
   "id": "6ad86591-2ba4-4a13-8f26-de0a550fa53c",
   "metadata": {},
   "source": [
    "#Ans4.  Generator functions allow to declare a function that behaves likes an iterator, allowing programmers to make an iterator in a fast, easy, and clean way.\n",
    "yield keyword is used to create a generator function."
   ]
  },
  {
   "cell_type": "code",
   "execution_count": 60,
   "id": "f1178d8c-c5a7-421c-a9c2-2cc40f077be7",
   "metadata": {},
   "outputs": [],
   "source": [
    "def mygenerator(n):\n",
    "    for i in range(1, n, 2):\n",
    "        yield i**3"
   ]
  },
  {
   "cell_type": "code",
   "execution_count": 61,
   "id": "b242fa68-9460-4036-bd62-00e341544269",
   "metadata": {},
   "outputs": [
    {
     "name": "stdout",
     "output_type": "stream",
     "text": [
      "1\n",
      "27\n",
      "125\n",
      "343\n",
      "729\n"
     ]
    }
   ],
   "source": [
    "for i in mygenerator(10):\n",
    "    print(i)"
   ]
  },
  {
   "cell_type": "markdown",
   "id": "77c0fec1-4450-4768-a793-4d3630de15f4",
   "metadata": {},
   "source": [
    "# Thank You!!!!"
   ]
  },
  {
   "cell_type": "code",
   "execution_count": null,
   "id": "720bf0a1-3778-405d-b49e-bbae04c44d5b",
   "metadata": {},
   "outputs": [],
   "source": []
  }
 ],
 "metadata": {
  "kernelspec": {
   "display_name": "Python 3 (ipykernel)",
   "language": "python",
   "name": "python3"
  },
  "language_info": {
   "codemirror_mode": {
    "name": "ipython",
    "version": 3
   },
   "file_extension": ".py",
   "mimetype": "text/x-python",
   "name": "python",
   "nbconvert_exporter": "python",
   "pygments_lexer": "ipython3",
   "version": "3.10.8"
  }
 },
 "nbformat": 4,
 "nbformat_minor": 5
}
