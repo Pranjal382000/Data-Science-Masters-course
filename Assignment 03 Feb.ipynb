{
 "cells": [
  {
   "cell_type": "markdown",
   "id": "9a256872-1b8c-4f8d-b6a5-20b9d0ae0a49",
   "metadata": {},
   "source": [
    "#Q1.Which keyword is used to create a function? Create a function to return a list of odd number in the range of 1 to 25. "
   ]
  },
  {
   "cell_type": "markdown",
   "id": "41099332-3dd1-4e7b-b6a1-b4ffed17bc61",
   "metadata": {},
   "source": [
    "#Ans1. The def keyowrd is used to craete a function. "
   ]
  },
  {
   "cell_type": "code",
   "execution_count": 32,
   "id": "56da5dfc-1e6f-4a68-a209-9462be30e762",
   "metadata": {},
   "outputs": [],
   "source": [
    "def odd_numbers(n):\n",
    "    return [x for x in range(0, n) if x%2 != 0]"
   ]
  },
  {
   "cell_type": "code",
   "execution_count": 33,
   "id": "54e9b722-2e59-49f9-85cc-cf5f378c3e67",
   "metadata": {},
   "outputs": [
    {
     "name": "stdout",
     "output_type": "stream",
     "text": [
      "[1, 3, 5, 7, 9, 11, 13, 15, 17, 19, 21, 23]\n"
     ]
    }
   ],
   "source": [
    "print(odd_numbers(25))"
   ]
  },
  {
   "cell_type": "markdown",
   "id": "6aae4f89-f651-426a-8427-5874c55237de",
   "metadata": {},
   "source": [
    "#----------------------------------- "
   ]
  },
  {
   "cell_type": "markdown",
   "id": "3ebfc4ed-98e8-4b0e-82bc-8e0f8f4f1efb",
   "metadata": {},
   "source": [
    "#Q2. Why *args and **kwargs is used in some functions? Create a  function each for *args and **kwargs to demonstrate their use. "
   ]
  },
  {
   "cell_type": "markdown",
   "id": "a5d1ff06-fc62-459a-aa8f-b7d38e3b746c",
   "metadata": {},
   "source": [
    "#Ans2. We use *args and **kwargs as an argument when we are unsure about the number of arguments to pass in the functions."
   ]
  },
  {
   "cell_type": "code",
   "execution_count": 37,
   "id": "09b602bb-c689-407c-a06e-e486f2c30052",
   "metadata": {},
   "outputs": [],
   "source": [
    "def addition(*args):\n",
    "    result = 0\n",
    "    for i in args:\n",
    "        result += i\n",
    "    return result"
   ]
  },
  {
   "cell_type": "code",
   "execution_count": 38,
   "id": "6a1519ae-c5f1-4361-b3c5-9cc0d48f55ff",
   "metadata": {},
   "outputs": [
    {
     "name": "stdout",
     "output_type": "stream",
     "text": [
      "5\n"
     ]
    }
   ],
   "source": [
    "print(addition(1,4))"
   ]
  },
  {
   "cell_type": "code",
   "execution_count": 39,
   "id": "75d1f676-95b2-44e5-9c9a-e6e793e64842",
   "metadata": {},
   "outputs": [
    {
     "name": "stdout",
     "output_type": "stream",
     "text": [
      "{'kwargs_1': 'Shark', 'kwargs_2': 4.5, 'kwargs_3': True}\n"
     ]
    }
   ],
   "source": [
    "def print_kwargs(**kwargs):\n",
    "        print(kwargs)\n",
    "\n",
    "print_kwargs(kwargs_1=\"Shark\", kwargs_2=4.5, kwargs_3=True)"
   ]
  },
  {
   "cell_type": "markdown",
   "id": "9702cb98-2c19-48c9-8a7f-dc28d5d7139e",
   "metadata": {},
   "source": [
    "#-------------------------------- "
   ]
  },
  {
   "cell_type": "markdown",
   "id": "f8244352-0061-4368-86f9-e8b6756dabf6",
   "metadata": {},
   "source": [
    "#Q3. What is an iterator in python?Name the method used to initialise the iterator object and the method used for iteration. Use these methods to print the first five elements of the given list[2,4,6,8,10,12,14,16,18,20]. "
   ]
  },
  {
   "cell_type": "markdown",
   "id": "c008b9ee-0eee-4a4f-a39b-b6f015499ae4",
   "metadata": {},
   "source": [
    "#Ans3. An iterator is an object that contains a countable number of values."
   ]
  },
  {
   "cell_type": "code",
   "execution_count": 3,
   "id": "c07df499-d6ce-4e3a-9623-c9fe23bb4d42",
   "metadata": {},
   "outputs": [
    {
     "name": "stdout",
     "output_type": "stream",
     "text": [
      "2\n",
      "4\n",
      "6\n",
      "8\n",
      "10\n"
     ]
    }
   ],
   "source": [
    "l= [2,4,6,8,10,12,14,16,18,20]\n",
    "\n",
    "for i in range(5):\n",
    "    print(l[i])"
   ]
  },
  {
   "cell_type": "markdown",
   "id": "e64964d5-3656-45bb-b923-4df31872ba61",
   "metadata": {},
   "source": [
    "#Q4. What is a generator function in python? Why yield keyword is used? Give an example of a generator function. "
   ]
  },
  {
   "cell_type": "markdown",
   "id": "6ad86591-2ba4-4a13-8f26-de0a550fa53c",
   "metadata": {},
   "source": [
    "#Ans4.  Generator functions allow to declare a function that behaves likes an iterator, allowing programmers to make an iterator in a fast, easy, and clean way.\n",
    "yield keyword is used to create a generator function."
   ]
  },
  {
   "cell_type": "code",
   "execution_count": 60,
   "id": "f1178d8c-c5a7-421c-a9c2-2cc40f077be7",
   "metadata": {},
   "outputs": [],
   "source": [
    "def mygenerator(n):\n",
    "    for i in range(1, n, 2):\n",
    "        yield i**3"
   ]
  },
  {
   "cell_type": "code",
   "execution_count": 61,
   "id": "b242fa68-9460-4036-bd62-00e341544269",
   "metadata": {},
   "outputs": [
    {
     "name": "stdout",
     "output_type": "stream",
     "text": [
      "1\n",
      "27\n",
      "125\n",
      "343\n",
      "729\n"
     ]
    }
   ],
   "source": [
    "for i in mygenerator(10):\n",
    "    print(i)"
   ]
  },
  {
   "cell_type": "markdown",
   "id": "ecdd7799-ee52-401b-a177-74089c6e8d09",
   "metadata": {},
   "source": [
    "#Q5. Create a generator function for prime numbers less than 1000. Use the next() method to print the first 20 prime numbers. "
   ]
  },
  {
   "cell_type": "code",
   "execution_count": 5,
   "id": "607e4ae8-436a-4461-a43e-3acf83868d97",
   "metadata": {},
   "outputs": [
    {
     "name": "stdin",
     "output_type": "stream",
     "text": [
      "Please, Enter the Lowest Range Value:  0\n",
      "Please, Enter the Upper Range Value:  1000\n"
     ]
    },
    {
     "name": "stdout",
     "output_type": "stream",
     "text": [
      "The Prime Numbers in the range are: \n",
      "2\n",
      "3\n",
      "5\n",
      "7\n",
      "11\n",
      "13\n",
      "17\n",
      "19\n",
      "23\n",
      "29\n",
      "31\n",
      "37\n",
      "41\n",
      "43\n",
      "47\n",
      "53\n",
      "59\n",
      "61\n",
      "67\n",
      "71\n",
      "73\n",
      "79\n",
      "83\n",
      "89\n",
      "97\n",
      "101\n",
      "103\n",
      "107\n",
      "109\n",
      "113\n",
      "127\n",
      "131\n",
      "137\n",
      "139\n",
      "149\n",
      "151\n",
      "157\n",
      "163\n",
      "167\n",
      "173\n",
      "179\n",
      "181\n",
      "191\n",
      "193\n",
      "197\n",
      "199\n",
      "211\n",
      "223\n",
      "227\n",
      "229\n",
      "233\n",
      "239\n",
      "241\n",
      "251\n",
      "257\n",
      "263\n",
      "269\n",
      "271\n",
      "277\n",
      "281\n",
      "283\n",
      "293\n",
      "307\n",
      "311\n",
      "313\n",
      "317\n",
      "331\n",
      "337\n",
      "347\n",
      "349\n",
      "353\n",
      "359\n",
      "367\n",
      "373\n",
      "379\n",
      "383\n",
      "389\n",
      "397\n",
      "401\n",
      "409\n",
      "419\n",
      "421\n",
      "431\n",
      "433\n",
      "439\n",
      "443\n",
      "449\n",
      "457\n",
      "461\n",
      "463\n",
      "467\n",
      "479\n",
      "487\n",
      "491\n",
      "499\n",
      "503\n",
      "509\n",
      "521\n",
      "523\n",
      "541\n",
      "547\n",
      "557\n",
      "563\n",
      "569\n",
      "571\n",
      "577\n",
      "587\n",
      "593\n",
      "599\n",
      "601\n",
      "607\n",
      "613\n",
      "617\n",
      "619\n",
      "631\n",
      "641\n",
      "643\n",
      "647\n",
      "653\n",
      "659\n",
      "661\n",
      "673\n",
      "677\n",
      "683\n",
      "691\n",
      "701\n",
      "709\n",
      "719\n",
      "727\n",
      "733\n",
      "739\n",
      "743\n",
      "751\n",
      "757\n",
      "761\n",
      "769\n",
      "773\n",
      "787\n",
      "797\n",
      "809\n",
      "811\n",
      "821\n",
      "823\n",
      "827\n",
      "829\n",
      "839\n",
      "853\n",
      "857\n",
      "859\n",
      "863\n",
      "877\n",
      "881\n",
      "883\n",
      "887\n",
      "907\n",
      "911\n",
      "919\n",
      "929\n",
      "937\n",
      "941\n",
      "947\n",
      "953\n",
      "967\n",
      "971\n",
      "977\n",
      "983\n",
      "991\n",
      "997\n"
     ]
    }
   ],
   "source": [
    "lower_value = int(input (\"Please, Enter the Lowest Range Value: \"))  \n",
    "upper_value = int(input (\"Please, Enter the Upper Range Value: \"))  \n",
    "  \n",
    "print (\"The Prime Numbers in the range are: \")  \n",
    "for number in range (lower_value, upper_value + 1):  \n",
    "    if number > 1:  \n",
    "        for i in range (2, number):  \n",
    "            if (number % i) == 0:  \n",
    "                break  \n",
    "        else:  \n",
    "            print (number)  "
   ]
  },
  {
   "cell_type": "code",
   "execution_count": null,
   "id": "544c1dcb-3a15-45f3-884d-ef4f995a2821",
   "metadata": {},
   "outputs": [],
   "source": []
  }
 ],
 "metadata": {
  "kernelspec": {
   "display_name": "Python 3 (ipykernel)",
   "language": "python",
   "name": "python3"
  },
  "language_info": {
   "codemirror_mode": {
    "name": "ipython",
    "version": 3
   },
   "file_extension": ".py",
   "mimetype": "text/x-python",
   "name": "python",
   "nbconvert_exporter": "python",
   "pygments_lexer": "ipython3",
   "version": "3.10.8"
  }
 },
 "nbformat": 4,
 "nbformat_minor": 5
}
