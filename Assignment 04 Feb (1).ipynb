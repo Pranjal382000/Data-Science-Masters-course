{
 "cells": [
  {
   "cell_type": "markdown",
   "id": "9278cc2e-c4f6-4474-bef8-f8a4013e9567",
   "metadata": {},
   "source": [
    "#Q1. Create a python program to sort the given list of tuples based on integer value using a lambda function.\n",
    "[(\"Sachin Tendulkar\", 34357), (\"Ricky Ponting\", 27483), (\"Jack Kallis\", 25534), (\"Virat Kohli\",24936)]"
   ]
  },
  {
   "cell_type": "markdown",
   "id": "aa9d1531-0840-4ecc-a903-77db9fcf184d",
   "metadata": {},
   "source": [
    "#Ans1.  below"
   ]
  },
  {
   "cell_type": "code",
   "execution_count": 77,
   "id": "ce0fee68-8354-4479-8040-993793c7ae25",
   "metadata": {},
   "outputs": [],
   "source": [
    "l5= [(\"Sachin Tendulkar\", 34357), (\"Ricky Ponting\", 27483), (\"Jack Kallis\", 25534), (\"Virat Kohli\",24936)]"
   ]
  },
  {
   "cell_type": "code",
   "execution_count": 79,
   "id": "ba8d72b6-a997-44bb-ac87-7d3c62c9bbc7",
   "metadata": {},
   "outputs": [],
   "source": [
    "l5.sort(key = lambda x: x[1])"
   ]
  },
  {
   "cell_type": "code",
   "execution_count": 80,
   "id": "b8ab69f6-747f-4554-a505-685a33c1a09e",
   "metadata": {},
   "outputs": [
    {
     "data": {
      "text/plain": [
       "[('Virat Kohli', 24936),\n",
       " ('Jack Kallis', 25534),\n",
       " ('Ricky Ponting', 27483),\n",
       " ('Sachin Tendulkar', 34357)]"
      ]
     },
     "execution_count": 80,
     "metadata": {},
     "output_type": "execute_result"
    }
   ],
   "source": [
    "l5"
   ]
  },
  {
   "cell_type": "markdown",
   "id": "2dba2b5e-7a18-4980-afa3-371d365a5dfd",
   "metadata": {},
   "source": [
    "#Q2. Write a python program to find the squares of all the numbers in the given list of integers using lambda and map functions.\n",
    "[1,2,3,4,5,6,7,8,9,10]"
   ]
  },
  {
   "cell_type": "markdown",
   "id": "70b096c0-b6d0-4e1e-8d0b-e0f32ec262bd",
   "metadata": {},
   "source": [
    "#Ans2. below "
   ]
  },
  {
   "cell_type": "code",
   "execution_count": 3,
   "id": "821b8116-eafb-481d-864f-49cbf3eb5a98",
   "metadata": {},
   "outputs": [],
   "source": [
    "l= [1,2,3,4,5,6,7,8,9,10]"
   ]
  },
  {
   "cell_type": "code",
   "execution_count": 6,
   "id": "d6951799-c3fc-42ec-948c-8326f6037323",
   "metadata": {},
   "outputs": [
    {
     "data": {
      "text/plain": [
       "[1, 4, 9, 16, 25, 36, 49, 64, 81, 100]"
      ]
     },
     "execution_count": 6,
     "metadata": {},
     "output_type": "execute_result"
    }
   ],
   "source": [
    "list(map(lambda x: x**2, l))"
   ]
  },
  {
   "cell_type": "markdown",
   "id": "a4e8d3dd-4d37-4d98-807e-75bd9407b2b0",
   "metadata": {},
   "source": [
    "#Q3. Writa a python program to convert the given list of integers into a tuple of strings. Use map and lambda functions.\n",
    "Given string= [1,2,3,4,5,6,7,8,9,10]"
   ]
  },
  {
   "cell_type": "markdown",
   "id": "843f3427-0d92-4ebf-bd6e-42c3e70c7b26",
   "metadata": {},
   "source": [
    "#Ans3. "
   ]
  },
  {
   "cell_type": "code",
   "execution_count": 7,
   "id": "4590a79d-80a7-40a6-857b-43b9f221de3f",
   "metadata": {},
   "outputs": [],
   "source": [
    "l1=[1,2,3,4,5,6,7,8,9,10]"
   ]
  },
  {
   "cell_type": "code",
   "execution_count": 52,
   "id": "96c33e12-9e3b-4ac8-b568-1e00e8b56c8e",
   "metadata": {},
   "outputs": [
    {
     "data": {
      "text/plain": [
       "['1', '2', '3', '4', '5', '6', '7', '8', '9', '10']"
      ]
     },
     "execution_count": 52,
     "metadata": {},
     "output_type": "execute_result"
    }
   ],
   "source": [
    "list(map(str, l1))"
   ]
  },
  {
   "cell_type": "markdown",
   "id": "5705abe6-cbff-47a0-944c-42ef7952b846",
   "metadata": {},
   "source": [
    "#Q4. Write a python program using reduce function to compute the product of a list containing numbers from 1 to 25."
   ]
  },
  {
   "cell_type": "markdown",
   "id": "d866cd34-1222-4d58-ab36-b6342e02a793",
   "metadata": {},
   "source": [
    "#Ans4."
   ]
  },
  {
   "cell_type": "code",
   "execution_count": 53,
   "id": "c4355e05-f297-47fa-85fa-13d1218a4128",
   "metadata": {},
   "outputs": [],
   "source": [
    "l2=[1,2,3,4,5,6,7,8,9,10,11,12,13,14,15,16,17,18,19,20,21,22,23,24,25]"
   ]
  },
  {
   "cell_type": "code",
   "execution_count": 55,
   "id": "d7a88679-055e-45b7-8078-b26d8656210f",
   "metadata": {},
   "outputs": [],
   "source": [
    "from functools import reduce"
   ]
  },
  {
   "cell_type": "code",
   "execution_count": 56,
   "id": "4b2b8206-a21c-47d4-8c3e-714e649974a3",
   "metadata": {},
   "outputs": [
    {
     "data": {
      "text/plain": [
       "3628800"
      ]
     },
     "execution_count": 56,
     "metadata": {},
     "output_type": "execute_result"
    }
   ],
   "source": [
    "reduce(lambda x,y : x*y, l)"
   ]
  },
  {
   "cell_type": "markdown",
   "id": "07cd7f72-d0f7-4789-93ba-0dec0cb19b19",
   "metadata": {},
   "source": [
    "#Q5. Write a python program to filter the numbers in a given list that are divisible by 2 and 3 using the filter function.\n",
    "l=[2,3,6,9,27,60,90,120,55,46]"
   ]
  },
  {
   "cell_type": "markdown",
   "id": "c873cf84-a806-4b48-891d-473060c33d21",
   "metadata": {},
   "source": [
    "#Ans5. "
   ]
  },
  {
   "cell_type": "code",
   "execution_count": 57,
   "id": "c922a873-ee03-4b40-8306-2d7d89da443d",
   "metadata": {},
   "outputs": [],
   "source": [
    "l3=[2,3,6,9,27,60,90,120,55,46]"
   ]
  },
  {
   "cell_type": "code",
   "execution_count": 70,
   "id": "73251b63-83cf-4330-9ec6-2e5622cefd3b",
   "metadata": {},
   "outputs": [
    {
     "data": {
      "text/plain": [
       "[6, 60, 90, 120]"
      ]
     },
     "execution_count": 70,
     "metadata": {},
     "output_type": "execute_result"
    }
   ],
   "source": [
    "list(filter(lambda x : x%2==0 and x%3==0, l3))"
   ]
  },
  {
   "cell_type": "markdown",
   "id": "e1e0ee76-13e8-406d-9494-5959598b27dd",
   "metadata": {},
   "source": [
    "#Q6. Write a python program to find palindromes in the given list of strings using lambda and filter function.\n",
    "[\"python\", \"php\", \"aba\", \"radar\", \"level\"]"
   ]
  },
  {
   "cell_type": "markdown",
   "id": "cd32e908-7cc2-4ace-bf64-97195e995e30",
   "metadata": {},
   "source": [
    "#Ans6. "
   ]
  },
  {
   "cell_type": "code",
   "execution_count": 71,
   "id": "27b2eb40-34a6-40b2-b1ef-df843d43586c",
   "metadata": {},
   "outputs": [],
   "source": [
    "l4= [\"python\", \"php\", \"aba\", \"radar\", \"level\"]"
   ]
  },
  {
   "cell_type": "code",
   "execution_count": 73,
   "id": "959f0d14-9634-4647-aa44-3a92b4fe28a3",
   "metadata": {},
   "outputs": [
    {
     "data": {
      "text/plain": [
       "['php', 'aba', 'radar', 'level']"
      ]
     },
     "execution_count": 73,
     "metadata": {},
     "output_type": "execute_result"
    }
   ],
   "source": [
    "list(filter(lambda x: (x == \"\".join(reversed(x))), l4)) "
   ]
  },
  {
   "cell_type": "markdown",
   "id": "08d4dbf4-42df-4be6-9200-9e3065c988c9",
   "metadata": {},
   "source": [
    "# Thank You!!!!!!!!!!!! "
   ]
  },
  {
   "cell_type": "code",
   "execution_count": null,
   "id": "62ebc95b-d925-4549-a084-3e8a28cd9591",
   "metadata": {},
   "outputs": [],
   "source": []
  }
 ],
 "metadata": {
  "kernelspec": {
   "display_name": "Python 3 (ipykernel)",
   "language": "python",
   "name": "python3"
  },
  "language_info": {
   "codemirror_mode": {
    "name": "ipython",
    "version": 3
   },
   "file_extension": ".py",
   "mimetype": "text/x-python",
   "name": "python",
   "nbconvert_exporter": "python",
   "pygments_lexer": "ipython3",
   "version": "3.10.8"
  }
 },
 "nbformat": 4,
 "nbformat_minor": 5
}
