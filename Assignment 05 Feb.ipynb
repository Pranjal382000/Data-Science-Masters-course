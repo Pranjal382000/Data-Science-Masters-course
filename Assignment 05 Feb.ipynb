{
 "cells": [
  {
   "cell_type": "markdown",
   "id": "12e2e415-8d8e-4f9f-b816-141d12be4348",
   "metadata": {},
   "source": [
    "#Q1. Explain class and object with respect to Object oriented programming system. Give a suitable example."
   ]
  },
  {
   "cell_type": "markdown",
   "id": "33042f1e-aff1-41f2-ae5e-df3acd606fa7",
   "metadata": {},
   "source": [
    "#Ans1.  A class is considered as a blueprint of objects. We can think of the class as a sketch (prototype) of a house. It contains all the details about the floors, doors, windows, etc. Based on these descriptions we build the house. House is the object."
   ]
  },
  {
   "cell_type": "code",
   "execution_count": 2,
   "id": "afe588b6-95e0-4eee-aa0c-dbe3403b7b50",
   "metadata": {},
   "outputs": [],
   "source": [
    "class Bike:\n",
    "    def __init__(self, bike_name, gear):\n",
    "        \n",
    "        self.bike_name = bike_name\n",
    "        self.gear = gear\n",
    "        \n",
    "    def return_bike_details(self):\n",
    "        return self.bike_name, self.gear"
   ]
  },
  {
   "cell_type": "code",
   "execution_count": 5,
   "id": "e210ff4c-c4b6-4e78-b631-52a2213fe92f",
   "metadata": {},
   "outputs": [],
   "source": [
    "rohan =Bike(\"Mountain bike\", 11)"
   ]
  },
  {
   "cell_type": "code",
   "execution_count": 6,
   "id": "c95968cd-84d4-4e27-bde3-3ea3310aecaa",
   "metadata": {},
   "outputs": [
    {
     "data": {
      "text/plain": [
       "'Mountain bike'"
      ]
     },
     "execution_count": 6,
     "metadata": {},
     "output_type": "execute_result"
    }
   ],
   "source": [
    "rohan.bike_name"
   ]
  },
  {
   "cell_type": "code",
   "execution_count": 7,
   "id": "40a65e1a-d227-48e5-9d0b-b96c34d3e009",
   "metadata": {},
   "outputs": [
    {
     "data": {
      "text/plain": [
       "11"
      ]
     },
     "execution_count": 7,
     "metadata": {},
     "output_type": "execute_result"
    }
   ],
   "source": [
    "rohan.gear"
   ]
  },
  {
   "cell_type": "markdown",
   "id": "a0165c36-4432-4e44-95f0-d4a7f2a8a8e0",
   "metadata": {},
   "source": [
    "#Q2. Name the four pillars of OOPS?"
   ]
  },
  {
   "cell_type": "markdown",
   "id": "4fbbea1e-d1eb-4153-8e5e-39e896aae3a1",
   "metadata": {},
   "source": [
    "#Ans2.   Inheritance, Polymorphism, Encapsulation and Abstraction."
   ]
  },
  {
   "cell_type": "markdown",
   "id": "2b3cf8c9-3921-4a0f-bcc1-216c7fc08354",
   "metadata": {},
   "source": [
    "#Q3. Explain why the __init__() function is used. Give a suitable example."
   ]
  },
  {
   "cell_type": "markdown",
   "id": "54382a08-2a77-4485-938f-61b7088a05c8",
   "metadata": {},
   "source": [
    "#Ans3.  Constructors are used to initializing the object’s state. The task of constructors is to initialize(assign values) to the data members of the class when an object of the class is created. Like methods, a constructor also contains a collection of statements(i.e. instructions) that are executed at the time of Object creation. It is run as soon as an object of a class is instantiated. The method is useful to do any initialization you want to do with your object."
   ]
  },
  {
   "cell_type": "code",
   "execution_count": 14,
   "id": "a51c4e9b-9984-496c-8fef-cef3eaea2720",
   "metadata": {},
   "outputs": [],
   "source": [
    "class Dog:\n",
    "    def __init__(self,dog_breed,dog_eyecolor):\n",
    "        self.dog_breed = dog_breed       \n",
    "        self.dog_eyecolor = dog_eyecolor\n",
    "        \n",
    "    def return_dog_details(self):\n",
    "        return self.dog_breed, self.dog_eyecolor"
   ]
  },
  {
   "cell_type": "code",
   "execution_count": 15,
   "id": "7b303b5a-9a92-4500-baa2-71170c4c1523",
   "metadata": {},
   "outputs": [],
   "source": [
    "Tomita = Dog(\"Fox Terrier\",\"brown\")"
   ]
  },
  {
   "cell_type": "code",
   "execution_count": 16,
   "id": "352858c0-8096-4da9-977d-89d058e24a1e",
   "metadata": {},
   "outputs": [
    {
     "data": {
      "text/plain": [
       "'Fox Terrier'"
      ]
     },
     "execution_count": 16,
     "metadata": {},
     "output_type": "execute_result"
    }
   ],
   "source": [
    "Tomita.dog_breed"
   ]
  },
  {
   "cell_type": "markdown",
   "id": "8bb6bac9-6db6-4bf4-a6b2-8728185abddf",
   "metadata": {},
   "source": [
    "#Q4. Why self is used in OOPS? "
   ]
  },
  {
   "cell_type": "markdown",
   "id": "fdfa689e-6ed8-4004-b676-0329b58edb2b",
   "metadata": {},
   "source": [
    "#Ans4. The self variable is used to represent the instance of the class which is often used in object-oriented programming. It works as a reference to the object. Python uses the self parameter to refer to instance attributes and methods of the class."
   ]
  },
  {
   "cell_type": "markdown",
   "id": "c3339d30-65e6-47a8-94df-786a9c855f28",
   "metadata": {},
   "source": [
    "#Q5. What is inheritance? Give ad example for each type of inheritace."
   ]
  },
  {
   "cell_type": "markdown",
   "id": "56c5147f-5316-4f25-8978-ae1231469ead",
   "metadata": {},
   "source": [
    "#Ans5.  "
   ]
  }
 ],
 "metadata": {
  "kernelspec": {
   "display_name": "Python 3 (ipykernel)",
   "language": "python",
   "name": "python3"
  },
  "language_info": {
   "codemirror_mode": {
    "name": "ipython",
    "version": 3
   },
   "file_extension": ".py",
   "mimetype": "text/x-python",
   "name": "python",
   "nbconvert_exporter": "python",
   "pygments_lexer": "ipython3",
   "version": "3.10.8"
  }
 },
 "nbformat": 4,
 "nbformat_minor": 5
}
