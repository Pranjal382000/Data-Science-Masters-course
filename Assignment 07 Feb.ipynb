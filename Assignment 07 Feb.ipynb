{
 "cells": [
  {
   "cell_type": "markdown",
   "id": "5d0550d9-6b0a-4598-974e-3cc01cc3fa2e",
   "metadata": {},
   "source": [
    "#Q1. You are writing code for a company. The requirement of the company is that you create a python\n",
    "function that will check whether the password entered by the user is correct or not. The function should\n",
    "take the password as input and return the string “Valid Password” if the entered password follows the\n",
    "below-given password guidelines else it should return “Invalid Password”.\n",
    "Note: 1. The Password should contain at least two uppercase letters and at least two lowercase letters.\n",
    "2. The Password should contain at least a number and three special characters.\n",
    "3. The length of the password should be 10 characters long."
   ]
  },
  {
   "cell_type": "markdown",
   "id": "ac13d8c0-b8f8-445b-b594-6caf9d6fefbd",
   "metadata": {},
   "source": [
    "#Ans1. "
   ]
  },
  {
   "cell_type": "code",
   "execution_count": 93,
   "id": "d1bf5d72-74a7-4a99-8a6b-da85cd0c4c71",
   "metadata": {},
   "outputs": [],
   "source": [
    "def check_password(password):\n",
    "    \n",
    "    upper_count = 0\n",
    "    lower_count = 0\n",
    "    digit_count = 0\n",
    "    special_count = 0\n",
    "    \n",
    "    special_chars = ['$', '@', '#', '%', '!', '^', '&', '*', '(', ')', '-', '+']\n",
    "    \n",
    "    for char in password:\n",
    "        if char.isupper():\n",
    "            upper_count += 1\n",
    "        elif char.islower():\n",
    "            lower_count += 1\n",
    "        elif char.isdigit():\n",
    "            digit_count += 1\n",
    "        elif char in special_chars:\n",
    "            special_count += 1\n",
    "            \n",
    "    if (upper_count >= 2 and lower_count >= 2 and digit_count >= 1 and special_count >= 3 and len(password) >= 10):\n",
    "        return \"Valid Password\"\n",
    "    else:\n",
    "        return \"Invalid Password\""
   ]
  },
  {
   "cell_type": "code",
   "execution_count": 94,
   "id": "541d8b75-7b5d-474a-8e43-4f9092406f2c",
   "metadata": {},
   "outputs": [
    {
     "data": {
      "text/plain": [
       "'Valid Password'"
      ]
     },
     "execution_count": 94,
     "metadata": {},
     "output_type": "execute_result"
    }
   ],
   "source": [
    "check_password(\"PRanjal$#@1\")"
   ]
  },
  {
   "cell_type": "markdown",
   "id": "ed6d6003-1327-4421-9dd8-998b897c7416",
   "metadata": {},
   "source": [
    "#Q2. Solve the below-given questions using at least one of the following:\n",
    "1. Lambda function\n",
    "2. Filter function\n",
    "3. Zap function\n",
    "4. List Comprehension\n",
    "\n",
    "Check if the string starts with a particular letter.\n",
    "\n",
    "Check if the string is numeric.\n",
    "\n",
    "Sort a list of tuples having fruit names and their quantity. [(\"mango\",99),(\"orange\",80), (\"grapes\", 1000)\n",
    "\n",
    "Find the squares of numbers from 1 to 10\n",
    "\n",
    "Find the cube root of numbers from 1 to 10\n",
    "\n",
    "Check if a given number is even\n",
    "\n",
    "Filter odd numbers from the given list.\n",
    "[1,2,3,4,5,6,7,8,9,10-\n",
    "\n",
    "Sort a list of integers into positive and negative integers lists.\n",
    "[1,2,3,4,5,6,-1,-2,-3,-4,-5,0]"
   ]
  },
  {
   "cell_type": "markdown",
   "id": "33ff5e13-2412-4990-b558-4bd5943c9ce4",
   "metadata": {},
   "source": [
    "#Ans2. "
   ]
  },
  {
   "cell_type": "code",
   "execution_count": 96,
   "id": "61097bfa-f7cd-413f-9423-4e82a0dfc9f2",
   "metadata": {},
   "outputs": [
    {
     "name": "stdout",
     "output_type": "stream",
     "text": [
      "True\n"
     ]
    }
   ],
   "source": [
    "string = \"Hello World!\"\n",
    "letter = \"H\"\n",
    "check = lambda s, l: s.startswith(l)\n",
    "print(check(string, letter)) "
   ]
  },
  {
   "cell_type": "code",
   "execution_count": 97,
   "id": "900a62a4-ece8-430d-be03-d61d2d141387",
   "metadata": {},
   "outputs": [
    {
     "name": "stdout",
     "output_type": "stream",
     "text": [
      "True\n"
     ]
    }
   ],
   "source": [
    "string = \"12345\"\n",
    "check = lambda s: s.isnumeric()\n",
    "print(check(string))"
   ]
  },
  {
   "cell_type": "code",
   "execution_count": 98,
   "id": "878839d6-0bbd-424d-9076-27816328f555",
   "metadata": {},
   "outputs": [
    {
     "name": "stdout",
     "output_type": "stream",
     "text": [
      "[('orange', 80), ('mango', 99), ('grapes', 1000)]\n"
     ]
    }
   ],
   "source": [
    "fruits = [(\"mango\",99),(\"orange\",80), (\"grapes\", 1000)]\n",
    "sort = sorted(fruits, key=lambda x: x[1])\n",
    "print(sort)"
   ]
  },
  {
   "cell_type": "code",
   "execution_count": 99,
   "id": "f0339627-36be-49ea-a65b-a94ae200ecb5",
   "metadata": {},
   "outputs": [
    {
     "name": "stdout",
     "output_type": "stream",
     "text": [
      "[1, 4, 9, 16, 25, 36, 49, 64, 81, 100]\n"
     ]
    }
   ],
   "source": [
    "squares = [x**2 for x in range(1, 11)]\n",
    "print(squares)  "
   ]
  },
  {
   "cell_type": "code",
   "execution_count": 100,
   "id": "1f9e683b-77a3-45df-b474-2eb840529b24",
   "metadata": {},
   "outputs": [
    {
     "name": "stdout",
     "output_type": "stream",
     "text": [
      "[1.0, 1.2599210498948732, 1.4422495703074083, 1.5874010519681994, 1.7099759466766968, 1.8171205928321397, 1.912931182772389, 2.0, 2.080083823051904, 2.154434690031884]\n"
     ]
    }
   ],
   "source": [
    "cubes = list(map(lambda x: x**(1/3), range(1, 11)))\n",
    "print(cubes)"
   ]
  },
  {
   "cell_type": "code",
   "execution_count": 101,
   "id": "fbbe7c9f-7df4-465d-a394-1156fc0b1614",
   "metadata": {},
   "outputs": [
    {
     "name": "stdout",
     "output_type": "stream",
     "text": [
      "True\n"
     ]
    }
   ],
   "source": [
    "num = 4\n",
    "check = lambda n: n%2 == 0\n",
    "print(check(num))"
   ]
  },
  {
   "cell_type": "code",
   "execution_count": 102,
   "id": "fbccd1b2-65a7-460e-98f9-e16880ea10af",
   "metadata": {},
   "outputs": [
    {
     "name": "stdout",
     "output_type": "stream",
     "text": [
      "[1, 3, 5, 7, 9]\n"
     ]
    }
   ],
   "source": [
    "numbers = [1,2,3,4,5,6,7,8,9,10]\n",
    "odd_numbers = list(filter(lambda x: x%2!=0, numbers))\n",
    "print(odd_numbers)"
   ]
  },
  {
   "cell_type": "code",
   "execution_count": 103,
   "id": "8549bae7-aa6e-46c5-9abd-c565725dc5d6",
   "metadata": {},
   "outputs": [
    {
     "name": "stdout",
     "output_type": "stream",
     "text": [
      "[1, 2, 3, 4, 5, 6]\n",
      "[-1, -2, -3, -4, -5]\n"
     ]
    }
   ],
   "source": [
    "lst = [1, 2, 3, 4, 5, 6, -1, -2, -3, -4, -5, 0]\n",
    "positive_lst = [num for num in lst if num > 0]\n",
    "negative_lst = [num for num in lst if num < 0]\n",
    "\n",
    "print(positive_lst)\n",
    "print(negative_lst)"
   ]
  },
  {
   "cell_type": "code",
   "execution_count": null,
   "id": "9116cd5b-2a79-4b16-a5c3-deaa7e24367e",
   "metadata": {},
   "outputs": [],
   "source": []
  }
 ],
 "metadata": {
  "kernelspec": {
   "display_name": "Python 3 (ipykernel)",
   "language": "python",
   "name": "python3"
  },
  "language_info": {
   "codemirror_mode": {
    "name": "ipython",
    "version": 3
   },
   "file_extension": ".py",
   "mimetype": "text/x-python",
   "name": "python",
   "nbconvert_exporter": "python",
   "pygments_lexer": "ipython3",
   "version": "3.10.8"
  }
 },
 "nbformat": 4,
 "nbformat_minor": 5
}
