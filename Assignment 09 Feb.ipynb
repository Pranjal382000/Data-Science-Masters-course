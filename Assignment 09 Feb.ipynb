{
 "cells": [
  {
   "cell_type": "markdown",
   "id": "20b26bf3-6f3a-49d4-b9b3-9ee891728d7a",
   "metadata": {},
   "source": [
    "#Q1. Create a vehicle class with an init method having instance variables as name_of_vehicle, max_speed\n",
    "and average_of_vehicle."
   ]
  },
  {
   "cell_type": "markdown",
   "id": "06cb5b0c-60fc-4f7d-a2be-668d1ae4dbff",
   "metadata": {},
   "source": [
    "#Ans1. "
   ]
  },
  {
   "cell_type": "code",
   "execution_count": 30,
   "id": "cdf8c2cf-f911-4b48-9fc0-1d8d2097ba60",
   "metadata": {},
   "outputs": [],
   "source": [
    "class car:\n",
    "    \n",
    "    def __init__(self, name_of_vehicle, max_speed, average_of_vehicle):\n",
    "        self.name_of_vehicle = name_of_vehicle\n",
    "        self.max_speed =  max_speed\n",
    "        self.average_of_vehicle = average_of_vehicle\n",
    "       "
   ]
  },
  {
   "cell_type": "markdown",
   "id": "2d4424e5-ed73-4422-a8a8-1e1dce9a05bd",
   "metadata": {},
   "source": [
    "#Q2. Create a child class car from the vehicle class created in Que 1, which will inherit the vehicle class.\n",
    "Create a method named seating_capacity which takes capacity as an argument and returns the name of\n",
    "the vehicle and its seating capacity."
   ]
  },
  {
   "cell_type": "markdown",
   "id": "51ce9815-ea8a-44a5-aaae-73152473e52b",
   "metadata": {},
   "source": [
    "#Ans2. "
   ]
  },
  {
   "cell_type": "code",
   "execution_count": 37,
   "id": "ebbab9d6-2721-4f86-95cb-7cd34392ce59",
   "metadata": {},
   "outputs": [],
   "source": [
    "class child(car):\n",
    "    def seating_capacity(self, capacity):\n",
    "        return f\"{self.name_of_vehicle} has a seating capacity of {capacity} people.\"\n",
    "    "
   ]
  },
  {
   "cell_type": "code",
   "execution_count": 38,
   "id": "20169d65-3802-4286-8670-511a04ada77f",
   "metadata": {},
   "outputs": [],
   "source": [
    "obj_child = child(\"innova\", 80, 12)"
   ]
  },
  {
   "cell_type": "code",
   "execution_count": 41,
   "id": "cebf23f7-4da2-4f26-93d4-2b63bee26a90",
   "metadata": {},
   "outputs": [
    {
     "name": "stdout",
     "output_type": "stream",
     "text": [
      "innova has a seating capacity of 5 people.\n"
     ]
    }
   ],
   "source": [
    "print(obj_child.seating_capacity(5))"
   ]
  },
  {
   "cell_type": "markdown",
   "id": "e4ac010c-cb28-4372-87e9-06be43d63885",
   "metadata": {},
   "source": [
    "#Q3. What is multiple inheritance? Write a python code to demonstrate multiple inheritance."
   ]
  },
  {
   "cell_type": "markdown",
   "id": "06699a1c-588a-425d-b114-b0a44263bcde",
   "metadata": {},
   "source": [
    "#Ans3.  Multiple inheritance is a feature in object-oriented programming where a class can inherit properties and methods from more than one parent class. It allows a subclass to inherit from multiple superclasses, and thus to combine the properties and methods of those classes."
   ]
  },
  {
   "cell_type": "code",
   "execution_count": 42,
   "id": "98a2de7e-53f5-43c3-a782-061025e5224c",
   "metadata": {},
   "outputs": [],
   "source": [
    "class A:\n",
    "    def methodA(self):\n",
    "        print(\"This is method A\")\n",
    "\n",
    "class B:\n",
    "    def methodB(self):\n",
    "        print(\"This is method B\")\n",
    "\n",
    "class C(A, B):\n",
    "    def methodC(self):\n",
    "        print(\"This is method C\")"
   ]
  },
  {
   "cell_type": "markdown",
   "id": "3d5b0b29-71f6-441d-ac26-5f6b475ff2f7",
   "metadata": {},
   "source": [
    "#Q4. What are getter and setter in python? Create a class and create a getter and a setter method in this\n",
    "class."
   ]
  },
  {
   "cell_type": "markdown",
   "id": "8fbfae8d-b678-4ba6-983b-31c8f602da46",
   "metadata": {},
   "source": [
    "#Ans4.  Getter and setter methods are used in object-oriented programming to encapsulate the fields or attributes of a class. They provide a way to access and modify the values of private variables of a class."
   ]
  },
  {
   "cell_type": "code",
   "execution_count": 43,
   "id": "bdf289d9-07f8-4961-94c0-b7163a07d5ee",
   "metadata": {},
   "outputs": [],
   "source": [
    "class Person:\n",
    "    def __init__(self, name, age):\n",
    "        self.name = name\n",
    "        self.__age = age\n",
    "        \n",
    "    def set_age(self, age):\n",
    "        self.__age = 0 if age < 0 else age\n",
    "        \n",
    "    def get_name(self):\n",
    "        return self.__name"
   ]
  },
  {
   "cell_type": "code",
   "execution_count": 44,
   "id": "2db5635a-c239-473c-b7a4-d7d2bd9d57f7",
   "metadata": {},
   "outputs": [],
   "source": [
    "p = Person(\"John\", 30)"
   ]
  },
  {
   "cell_type": "code",
   "execution_count": 49,
   "id": "008ef6dc-f0fa-4ba7-bfc7-1887fa1e2191",
   "metadata": {},
   "outputs": [
    {
     "data": {
      "text/plain": [
       "35"
      ]
     },
     "execution_count": 49,
     "metadata": {},
     "output_type": "execute_result"
    }
   ],
   "source": [
    "p.age"
   ]
  },
  {
   "cell_type": "markdown",
   "id": "3a59b1ff-f7c7-407e-bb59-c2a97dd157d4",
   "metadata": {},
   "source": [
    "#Q5. What is method overriding in python? Write a python code to demonstrate method overriding."
   ]
  },
  {
   "cell_type": "markdown",
   "id": "c3567893-26d9-4ba4-a9ec-d47d098039fc",
   "metadata": {},
   "source": [
    "#Ans5. Method overriding is a feature in object-oriented programming that allows a subclass to provide its own implementation of a method that is already defined in its superclass. This feature is used to modify the behavior of the inherited method to suit the needs of the subclass."
   ]
  },
  {
   "cell_type": "code",
   "execution_count": null,
   "id": "8fae5516-5a28-452e-83e7-988bdbda46ca",
   "metadata": {},
   "outputs": [],
   "source": [
    "class Animal:\n",
    "    def __init__(self, name):\n",
    "        self.name = name\n",
    "\n",
    "    def make_sound(self):\n",
    "        print(\"Generic animal sound\")\n",
    "\n",
    "class Cat(Animal):\n",
    "    def __init__(self, name):\n",
    "        super().__init__(name)\n",
    "\n",
    "    def make_sound(self):\n",
    "        print(\"Meow\")\n",
    "\n",
    "class Dog(Animal):\n",
    "    def __init__(self, name):\n",
    "        super().__init__(name)\n",
    "\n",
    "    def make_sound(self):\n",
    "        print(\"Woof\")"
   ]
  }
 ],
 "metadata": {
  "kernelspec": {
   "display_name": "Python 3 (ipykernel)",
   "language": "python",
   "name": "python3"
  },
  "language_info": {
   "codemirror_mode": {
    "name": "ipython",
    "version": 3
   },
   "file_extension": ".py",
   "mimetype": "text/x-python",
   "name": "python",
   "nbconvert_exporter": "python",
   "pygments_lexer": "ipython3",
   "version": "3.10.8"
  }
 },
 "nbformat": 4,
 "nbformat_minor": 5
}
