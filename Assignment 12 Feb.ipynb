{
 "cells": [
  {
   "cell_type": "markdown",
   "id": "5d48df29-fe2e-456b-8c10-877f955bbfb9",
   "metadata": {},
   "source": [
    "#Q1. What is an Exception in python? Write the difference between Exceptions and syntax errors. "
   ]
  },
  {
   "cell_type": "markdown",
   "id": "f2c3a7e4-2a9d-45a2-9b4a-ff2da21172e0",
   "metadata": {},
   "source": [
    "#Ans1. In Python, an exception is an event that occurs during the execution of a program that disrupts the normal flow of program execution. When an exception is raised, the program execution is immediately stopped, and Python interpreter looks for an appropriate exception handler to handle the exception.\n",
    "\n",
    "A syntax error, on the other hand, is a type of error that occurs when the Python interpreter cannot understand the code due to incorrect syntax or grammar. Syntax errors are typically caught by the interpreter before the code is even executed."
   ]
  },
  {
   "cell_type": "markdown",
   "id": "267e18ed-0149-4956-b3f4-d7662da12fc2",
   "metadata": {},
   "source": [
    "#Q2. What happens when an exception is not handled? Explain with an example. "
   ]
  },
  {
   "cell_type": "markdown",
   "id": "e3a5678d-f0c7-4db2-b7c7-fb6190633778",
   "metadata": {},
   "source": [
    "#Ans2. When an exception is not handled, it will propagate up the call stack until it reaches the highest level of the program, where it will cause the program to terminate abruptly. This behavior is known as an \"unhandled exception\".\n",
    "\n",
    "Here's an example to illustrate this:"
   ]
  },
  {
   "cell_type": "code",
   "execution_count": 1,
   "id": "c1e1351a-5644-4c5e-95ec-000e0a272bae",
   "metadata": {},
   "outputs": [
    {
     "name": "stdin",
     "output_type": "stream",
     "text": [
      "Enter the first number:  100\n",
      "Enter the second number:  0\n"
     ]
    },
    {
     "ename": "ZeroDivisionError",
     "evalue": "division by zero",
     "output_type": "error",
     "traceback": [
      "\u001b[0;31m---------------------------------------------------------------------------\u001b[0m",
      "\u001b[0;31mZeroDivisionError\u001b[0m                         Traceback (most recent call last)",
      "Cell \u001b[0;32mIn[1], line 10\u001b[0m\n\u001b[1;32m      7\u001b[0m     result \u001b[38;5;241m=\u001b[39m divide(num1, num2)\n\u001b[1;32m      8\u001b[0m     \u001b[38;5;28mprint\u001b[39m(\u001b[38;5;124mf\u001b[39m\u001b[38;5;124m\"\u001b[39m\u001b[38;5;124mThe result is \u001b[39m\u001b[38;5;132;01m{\u001b[39;00mresult\u001b[38;5;132;01m}\u001b[39;00m\u001b[38;5;124m\"\u001b[39m)\n\u001b[0;32m---> 10\u001b[0m \u001b[43mcalculate\u001b[49m\u001b[43m(\u001b[49m\u001b[43m)\u001b[49m\n",
      "Cell \u001b[0;32mIn[1], line 7\u001b[0m, in \u001b[0;36mcalculate\u001b[0;34m()\u001b[0m\n\u001b[1;32m      5\u001b[0m num1 \u001b[38;5;241m=\u001b[39m \u001b[38;5;28mint\u001b[39m(\u001b[38;5;28minput\u001b[39m(\u001b[38;5;124m\"\u001b[39m\u001b[38;5;124mEnter the first number: \u001b[39m\u001b[38;5;124m\"\u001b[39m))\n\u001b[1;32m      6\u001b[0m num2 \u001b[38;5;241m=\u001b[39m \u001b[38;5;28mint\u001b[39m(\u001b[38;5;28minput\u001b[39m(\u001b[38;5;124m\"\u001b[39m\u001b[38;5;124mEnter the second number: \u001b[39m\u001b[38;5;124m\"\u001b[39m))\n\u001b[0;32m----> 7\u001b[0m result \u001b[38;5;241m=\u001b[39m \u001b[43mdivide\u001b[49m\u001b[43m(\u001b[49m\u001b[43mnum1\u001b[49m\u001b[43m,\u001b[49m\u001b[43m \u001b[49m\u001b[43mnum2\u001b[49m\u001b[43m)\u001b[49m\n\u001b[1;32m      8\u001b[0m \u001b[38;5;28mprint\u001b[39m(\u001b[38;5;124mf\u001b[39m\u001b[38;5;124m\"\u001b[39m\u001b[38;5;124mThe result is \u001b[39m\u001b[38;5;132;01m{\u001b[39;00mresult\u001b[38;5;132;01m}\u001b[39;00m\u001b[38;5;124m\"\u001b[39m)\n",
      "Cell \u001b[0;32mIn[1], line 2\u001b[0m, in \u001b[0;36mdivide\u001b[0;34m(a, b)\u001b[0m\n\u001b[1;32m      1\u001b[0m \u001b[38;5;28;01mdef\u001b[39;00m \u001b[38;5;21mdivide\u001b[39m(a, b):\n\u001b[0;32m----> 2\u001b[0m     \u001b[38;5;28;01mreturn\u001b[39;00m \u001b[43ma\u001b[49m\u001b[38;5;241;43m/\u001b[39;49m\u001b[43mb\u001b[49m\n",
      "\u001b[0;31mZeroDivisionError\u001b[0m: division by zero"
     ]
    }
   ],
   "source": [
    "def divide(a, b):\n",
    "    return a/b\n",
    "\n",
    "def calculate():\n",
    "    num1 = int(input(\"Enter the first number: \"))\n",
    "    num2 = int(input(\"Enter the second number: \"))\n",
    "    result = divide(num1, num2)\n",
    "    print(f\"The result is {result}\")\n",
    "\n",
    "calculate()"
   ]
  },
  {
   "cell_type": "markdown",
   "id": "c01ecbd6-b487-4f9f-a84a-7d613eedab1b",
   "metadata": {},
   "source": [
    "#Q3. Which Python statements are used to catch and handle exceptions? Explain with an example."
   ]
  },
  {
   "cell_type": "markdown",
   "id": "0ebef9cd-1ff8-46b4-baee-0439caa55e09",
   "metadata": {},
   "source": [
    "#Ans3. Python provides a try-except block for catching and handling exceptions. The try block contains the code that may raise an exception, while the except block contains the code that handles the exception if it occurs. "
   ]
  },
  {
   "cell_type": "code",
   "execution_count": 2,
   "id": "20e005ce-6f25-4e62-91fe-c3024f234f21",
   "metadata": {},
   "outputs": [
    {
     "name": "stdout",
     "output_type": "stream",
     "text": [
      "The result is 5.0\n",
      "Error: division by zero\n"
     ]
    }
   ],
   "source": [
    "def divide(a, b):\n",
    "    try:\n",
    "        result = a / b\n",
    "        print(f\"The result is {result}\")\n",
    "    except ZeroDivisionError:\n",
    "        print(\"Error: division by zero\")\n",
    "\n",
    "divide(10, 2)  \n",
    "divide(10, 0)"
   ]
  },
  {
   "cell_type": "markdown",
   "id": "ea9b7ca1-767d-43e8-a663-0390cf75f09c",
   "metadata": {},
   "source": [
    "#Q4. Explain with an example:\n",
    "\n",
    "try and else\n",
    "\n",
    "finally\n",
    "\n",
    "raise"
   ]
  },
  {
   "cell_type": "markdown",
   "id": "1d1d526c-d5dd-4e45-97d8-d4ddc89ac0ab",
   "metadata": {},
   "source": [
    "#Ans4. "
   ]
  },
  {
   "cell_type": "markdown",
   "id": "30a0c130-18c2-4b3a-afd2-499169aacbd4",
   "metadata": {},
   "source": [
    "#try and else:\n",
    "\n",
    "The else block in a try-except statement is executed when the try block completes without raising an exception. This block is optional and follows all the except blocks."
   ]
  },
  {
   "cell_type": "code",
   "execution_count": 3,
   "id": "dd121ffa-9683-41ac-ab72-64fb232faf84",
   "metadata": {},
   "outputs": [
    {
     "name": "stdin",
     "output_type": "stream",
     "text": [
      "Enter a number:  100\n",
      "Enter another number:  5\n"
     ]
    },
    {
     "name": "stdout",
     "output_type": "stream",
     "text": [
      "The result is 20.0.\n"
     ]
    }
   ],
   "source": [
    "try:\n",
    "    num1 = int(input(\"Enter a number: \"))\n",
    "    num2 = int(input(\"Enter another number: \"))\n",
    "    result = num1 / num2\n",
    "except ValueError:\n",
    "    print(\"Please enter only integers.\")\n",
    "except ZeroDivisionError:\n",
    "    print(\"Cannot divide by zero.\")\n",
    "else:\n",
    "    print(f\"The result is {result}.\")"
   ]
  },
  {
   "cell_type": "markdown",
   "id": "66b1b414-ed04-4c3f-8738-b91ab07a8b55",
   "metadata": {},
   "source": [
    "#finally:\n",
    "\n",
    "The finally block in a try-except statement is executed after the try and except blocks, regardless of whether an exception was raised or not. This block is optional and follows all the except and else blocks."
   ]
  },
  {
   "cell_type": "code",
   "execution_count": 5,
   "id": "9b3780f6-cd55-4b84-ad79-159175d604fd",
   "metadata": {},
   "outputs": [
    {
     "name": "stdout",
     "output_type": "stream",
     "text": [
      "File not found.\n"
     ]
    },
    {
     "ename": "NameError",
     "evalue": "name 'f' is not defined",
     "output_type": "error",
     "traceback": [
      "\u001b[0;31m---------------------------------------------------------------------------\u001b[0m",
      "\u001b[0;31mNameError\u001b[0m                                 Traceback (most recent call last)",
      "Cell \u001b[0;32mIn[5], line 9\u001b[0m\n\u001b[1;32m      7\u001b[0m     \u001b[38;5;28mprint\u001b[39m(content)\n\u001b[1;32m      8\u001b[0m \u001b[38;5;28;01mfinally\u001b[39;00m:\n\u001b[0;32m----> 9\u001b[0m     \u001b[43mf\u001b[49m\u001b[38;5;241m.\u001b[39mclose()\n",
      "\u001b[0;31mNameError\u001b[0m: name 'f' is not defined"
     ]
    }
   ],
   "source": [
    "try:\n",
    "    f = open(\"example.txt\", \"r\")\n",
    "    content = file.read()\n",
    "except FileNotFoundError:\n",
    "    print(\"File not found.\")\n",
    "else:\n",
    "    print(content)\n",
    "finally:\n",
    "    f.close()"
   ]
  },
  {
   "cell_type": "markdown",
   "id": "029bef89-0c7c-4288-a85c-d48b64828828",
   "metadata": {},
   "source": [
    "#raise:\n",
    "\n",
    "The raise statement is used to raise an exception explicitly in Python. It is commonly used to indicate that an error has occurred in a program."
   ]
  },
  {
   "cell_type": "code",
   "execution_count": 6,
   "id": "e9f2cc94-8202-4436-837e-1bf718c78ad6",
   "metadata": {},
   "outputs": [
    {
     "name": "stdout",
     "output_type": "stream",
     "text": [
      "Cannot divide by zero.\n"
     ]
    }
   ],
   "source": [
    "def divide(a, b):\n",
    "    if b == 0:\n",
    "        raise ZeroDivisionError(\"Cannot divide by zero.\")\n",
    "    return a / b\n",
    "\n",
    "try:\n",
    "    result = divide(10, 0)\n",
    "except ZeroDivisionError as e:\n",
    "    print(e)"
   ]
  },
  {
   "cell_type": "markdown",
   "id": "59565f6b-7210-41b3-8721-dcb30d158c45",
   "metadata": {},
   "source": [
    "#Q5. What are Custom Exceptions in python? Why do we need Custom Exceptions? Explain with an example."
   ]
  },
  {
   "cell_type": "markdown",
   "id": "8b2768e1-fc59-49d0-93b7-94a6859e2587",
   "metadata": {},
   "source": [
    "#Ans5. Custom Exceptions, also known as user-defined exceptions, are exceptions that are created by the user to handle specific errors that are not covered by the built-in exceptions in Python.\n",
    "\n",
    "We may need to create custom exceptions when we want to handle specific errors in our code or when we want to make our code more readable and easier to maintain. Custom exceptions can provide more descriptive error messages and help us debug our code more easily."
   ]
  },
  {
   "cell_type": "code",
   "execution_count": 7,
   "id": "9d4f5f8f-d58c-484d-909b-16f16779d4c8",
   "metadata": {},
   "outputs": [
    {
     "name": "stdout",
     "output_type": "stream",
     "text": [
      "Registered user John with age 25.\n"
     ]
    },
    {
     "ename": "InvalidAgeError",
     "evalue": "Invalid age: 15. The age must be between 18 and 100.",
     "output_type": "error",
     "traceback": [
      "\u001b[0;31m---------------------------------------------------------------------------\u001b[0m",
      "\u001b[0;31mInvalidAgeError\u001b[0m                           Traceback (most recent call last)",
      "Cell \u001b[0;32mIn[7], line 12\u001b[0m\n\u001b[1;32m      9\u001b[0m     \u001b[38;5;28mprint\u001b[39m(\u001b[38;5;124mf\u001b[39m\u001b[38;5;124m\"\u001b[39m\u001b[38;5;124mRegistered user \u001b[39m\u001b[38;5;132;01m{\u001b[39;00mname\u001b[38;5;132;01m}\u001b[39;00m\u001b[38;5;124m with age \u001b[39m\u001b[38;5;132;01m{\u001b[39;00mage\u001b[38;5;132;01m}\u001b[39;00m\u001b[38;5;124m.\u001b[39m\u001b[38;5;124m\"\u001b[39m)\n\u001b[1;32m     11\u001b[0m register_user(\u001b[38;5;124m\"\u001b[39m\u001b[38;5;124mJohn\u001b[39m\u001b[38;5;124m\"\u001b[39m, \u001b[38;5;241m25\u001b[39m)  \n\u001b[0;32m---> 12\u001b[0m \u001b[43mregister_user\u001b[49m\u001b[43m(\u001b[49m\u001b[38;5;124;43m\"\u001b[39;49m\u001b[38;5;124;43mMary\u001b[39;49m\u001b[38;5;124;43m\"\u001b[39;49m\u001b[43m,\u001b[49m\u001b[43m \u001b[49m\u001b[38;5;241;43m15\u001b[39;49m\u001b[43m)\u001b[49m\n",
      "Cell \u001b[0;32mIn[7], line 8\u001b[0m, in \u001b[0;36mregister_user\u001b[0;34m(name, age)\u001b[0m\n\u001b[1;32m      6\u001b[0m \u001b[38;5;28;01mdef\u001b[39;00m \u001b[38;5;21mregister_user\u001b[39m(name, age):\n\u001b[1;32m      7\u001b[0m     \u001b[38;5;28;01mif\u001b[39;00m age \u001b[38;5;241m<\u001b[39m \u001b[38;5;241m18\u001b[39m \u001b[38;5;129;01mor\u001b[39;00m age \u001b[38;5;241m>\u001b[39m \u001b[38;5;241m100\u001b[39m:\n\u001b[0;32m----> 8\u001b[0m         \u001b[38;5;28;01mraise\u001b[39;00m InvalidAgeError(age)\n\u001b[1;32m      9\u001b[0m     \u001b[38;5;28mprint\u001b[39m(\u001b[38;5;124mf\u001b[39m\u001b[38;5;124m\"\u001b[39m\u001b[38;5;124mRegistered user \u001b[39m\u001b[38;5;132;01m{\u001b[39;00mname\u001b[38;5;132;01m}\u001b[39;00m\u001b[38;5;124m with age \u001b[39m\u001b[38;5;132;01m{\u001b[39;00mage\u001b[38;5;132;01m}\u001b[39;00m\u001b[38;5;124m.\u001b[39m\u001b[38;5;124m\"\u001b[39m)\n",
      "\u001b[0;31mInvalidAgeError\u001b[0m: Invalid age: 15. The age must be between 18 and 100."
     ]
    }
   ],
   "source": [
    "class InvalidAgeError(Exception):\n",
    "    def __init__(self, age):\n",
    "        self.age = age\n",
    "        super().__init__(f\"Invalid age: {age}. The age must be between 18 and 100.\")\n",
    "\n",
    "def register_user(name, age):\n",
    "    if age < 18 or age > 100:\n",
    "        raise InvalidAgeError(age)\n",
    "    print(f\"Registered user {name} with age {age}.\")\n",
    "\n",
    "register_user(\"John\", 25)  \n",
    "register_user(\"Mary\", 15)"
   ]
  },
  {
   "cell_type": "markdown",
   "id": "d692cc5b-3610-4073-aaba-c6633a1ce864",
   "metadata": {},
   "source": [
    "#Q6. Create custom exception class. Use this class to handle an exception."
   ]
  },
  {
   "cell_type": "markdown",
   "id": "a12bcbd4-519e-440e-bf9c-78c4dd2ab23e",
   "metadata": {},
   "source": [
    "#Ans6. "
   ]
  },
  {
   "cell_type": "code",
   "execution_count": 8,
   "id": "a9dd98b2-02f0-4215-a4ff-cc6e071d2218",
   "metadata": {},
   "outputs": [
    {
     "name": "stdout",
     "output_type": "stream",
     "text": [
      "Negative number not allowed: -4. Please enter a positive number.\n"
     ]
    }
   ],
   "source": [
    "class NegativeNumberError(Exception):\n",
    "    def __init__(self, num):\n",
    "        self.num = num\n",
    "        super().__init__(f\"Negative number not allowed: {num}. Please enter a positive number.\")\n",
    "\n",
    "def square_root(num):\n",
    "    if num < 0:\n",
    "        raise NegativeNumberError(num)\n",
    "    return num ** 0.5\n",
    "\n",
    "try:\n",
    "    result = square_root(-4)\n",
    "except NegativeNumberError as e:\n",
    "    print(e)\n"
   ]
  },
  {
   "cell_type": "markdown",
   "id": "57a3b49b-2f13-4b16-b89d-439c770da0eb",
   "metadata": {},
   "source": [
    "# Thanks You!!!!"
   ]
  },
  {
   "cell_type": "code",
   "execution_count": null,
   "id": "1415183b-4ed8-4f2d-b7ba-2e1a462e6257",
   "metadata": {},
   "outputs": [],
   "source": []
  }
 ],
 "metadata": {
  "kernelspec": {
   "display_name": "Python 3 (ipykernel)",
   "language": "python",
   "name": "python3"
  },
  "language_info": {
   "codemirror_mode": {
    "name": "ipython",
    "version": 3
   },
   "file_extension": ".py",
   "mimetype": "text/x-python",
   "name": "python",
   "nbconvert_exporter": "python",
   "pygments_lexer": "ipython3",
   "version": "3.10.8"
  }
 },
 "nbformat": 4,
 "nbformat_minor": 5
}
