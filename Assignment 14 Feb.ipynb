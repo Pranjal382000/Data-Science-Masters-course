{
 "cells": [
  {
   "cell_type": "markdown",
   "id": "63294548-b440-40ea-b731-67eac9f2040a",
   "metadata": {},
   "source": [
    "#Q1. What is multithreading in python? hy is it used? Name the module used to handle threads in python."
   ]
  },
  {
   "cell_type": "markdown",
   "id": "c8d661c8-065a-469e-85b4-58eaff103c51",
   "metadata": {},
   "source": [
    "#Ans1.Multithreading in Python is a mechanism that allows multiple threads of execution to run concurrently within a single process. A thread is a lightweight subprocess that can perform a specific task while sharing the same memory space as the main process. Multithreading is used to improve the performance of programs that require concurrent execution of multiple tasks, such as running I/O operations and processing data simultaneously.\n",
    "\n",
    "Python has a built-in module called threading that is used to handle threads in Python. The threading module provides a simple way to create and manage threads, including starting and stopping threads, communicating between threads, and synchronizing access to shared resources. The threading module also includes support for locks, semaphores, events, and condition variables, which are used to ensure thread safety and prevent race conditions in concurrent programs."
   ]
  },
  {
   "cell_type": "markdown",
   "id": "6daee635-7f86-4215-9e66-95eb074ae7bf",
   "metadata": {},
   "source": [
    "#Q2. Why threading module used? rite the use of the following functions\n",
    "\n",
    "activeCount()\n",
    "\n",
    "currentThread()\n",
    "\n",
    "enumerate()"
   ]
  },
  {
   "cell_type": "markdown",
   "id": "92686f1e-42b7-486d-8686-45099a5bc90f",
   "metadata": {},
   "source": [
    "#Ans2. The threading module is used in Python to create and manage threads in a program. It provides a way to run multiple threads simultaneously, which can improve the performance of programs that require concurrent execution of multiple tasks. The module provides several functions and classes for creating and managing threads."
   ]
  },
  {
   "cell_type": "markdown",
   "id": "03ef4b30-0f3d-4b60-9484-02788dd1dd31",
   "metadata": {},
   "source": [
    "#activeCount(): This function returns the number of currently active threads in the current process. It is useful for debugging and monitoring the number of threads in a program."
   ]
  },
  {
   "cell_type": "code",
   "execution_count": 1,
   "id": "45318b1f-d67c-425d-843c-93162738eb4e",
   "metadata": {},
   "outputs": [
    {
     "name": "stdout",
     "output_type": "stream",
     "text": [
      "8\n"
     ]
    }
   ],
   "source": [
    "import threading\n",
    "\n",
    "print(threading.active_count())"
   ]
  },
  {
   "cell_type": "markdown",
   "id": "877c4804-7924-4841-84a9-97c746755a27",
   "metadata": {},
   "source": [
    "#currentThread(): This function returns a reference to the current thread object. It can be used to identify the current thread and obtain information about it, such as its name, ID, and status. "
   ]
  },
  {
   "cell_type": "code",
   "execution_count": 2,
   "id": "7d306db4-cf85-4243-b66f-301b8d8e2df1",
   "metadata": {},
   "outputs": [
    {
     "name": "stdout",
     "output_type": "stream",
     "text": [
      "Thread-5 (my_function)\n"
     ]
    },
    {
     "name": "stderr",
     "output_type": "stream",
     "text": [
      "/tmp/ipykernel_624/1262404070.py:2: DeprecationWarning: getName() is deprecated, get the name attribute instead\n",
      "  print(threading.current_thread().getName())\n"
     ]
    }
   ],
   "source": [
    "def my_function():\n",
    "    print(threading.current_thread().getName())\n",
    "\n",
    "thread1 = threading.Thread(target=my_function)\n",
    "thread1.start() "
   ]
  },
  {
   "cell_type": "markdown",
   "id": "b35fb39b-b295-4d43-89a5-2dd6b1a53095",
   "metadata": {},
   "source": [
    "#enumerate(): This function returns a list of all the active Thread objects in the current process. It is useful for iterating over all the threads and performing operations on them, such as stopping or joining them."
   ]
  },
  {
   "cell_type": "code",
   "execution_count": null,
   "id": "9a8ed939-131c-4106-be9c-a2f2c55bf310",
   "metadata": {},
   "outputs": [],
   "source": [
    "import time\n",
    "\n",
    "def worker():\n",
    "    print(f\"{threading.current_thread().name} starting\")\n",
    "    time.sleep(1)\n",
    "    print(f\"{threading.current_thread().name} exiting\")\n",
    "\n",
    "def main():\n",
    "    threads = []\n",
    "    for i in range(5):\n",
    "        thread = threading.Thread(target=worker)\n",
    "        threads.append(thread)\n",
    "        thread.start()\n",
    "        \n",
    "        for thread in threading.enumerate():\n",
    "            if thread is not threading.current_thread():\n",
    "                thread.join()\n",
    "\n",
    "    print(\"All threads have completed\")\n",
    "\n",
    "if __name__ == '__main__':\n",
    "    main()"
   ]
  },
  {
   "cell_type": "markdown",
   "id": "f9026c46-b9d8-4a0f-aab0-b47c604e3534",
   "metadata": {},
   "source": [
    "#Q3. Explain the following functions\n",
    "\n",
    "run()\n",
    "\n",
    "start()\n",
    "\n",
    "join()\n",
    " \n",
    "isAlive()"
   ]
  },
  {
   "cell_type": "markdown",
   "id": "5e8437f6-5e3c-4ac4-ab87-f0c58a2339eb",
   "metadata": {},
   "source": [
    "#Ans3. The following are the descriptions and use cases of some common functions used with threads in Python:\n",
    "\n",
    "run(): This function is the entry point for a thread when it is started. It contains the code that will be executed by the thread. It is called automatically when the thread is started using the start() method.\n",
    "\n",
    "start(): This function is used to start a new thread. When called, it creates a new thread and calls the run() function to begin executing the thread's code. The new thread runs concurrently with the main thread.\n",
    "\n",
    "join(): This function is used to wait for a thread to complete before continuing with the main thread. When called, it blocks the main thread until the thread being joined completes its execution. This is useful when you need to ensure that a thread has finished its work before continuing with the rest of the program.\n",
    "\n",
    "isAlive(): This function is used to check whether a thread is currently running. When called, it returns True if the thread is running and False if it has completed its execution. This can be useful when you need to check the status of a thread from another thread.\n",
    "\n",
    "Here is an example of using these functions in a simple program:\n"
   ]
  },
  {
   "cell_type": "code",
   "execution_count": 5,
   "id": "75ffc66a-128e-4df9-83b6-9badf60edf85",
   "metadata": {},
   "outputs": [
    {
     "name": "stdout",
     "output_type": "stream",
     "text": [
      "Before starting thread\n",
      "Worker started\n",
      "After starting thread\n",
      "Worker finished\n",
      "Thread has completed\n"
     ]
    },
    {
     "ename": "AttributeError",
     "evalue": "'Thread' object has no attribute 'isAlive'",
     "output_type": "error",
     "traceback": [
      "\u001b[0;31m---------------------------------------------------------------------------\u001b[0m",
      "\u001b[0;31mAttributeError\u001b[0m                            Traceback (most recent call last)",
      "Cell \u001b[0;32mIn[5], line 18\u001b[0m\n\u001b[1;32m     14\u001b[0m thread\u001b[38;5;241m.\u001b[39mjoin()\n\u001b[1;32m     16\u001b[0m \u001b[38;5;28mprint\u001b[39m(\u001b[38;5;124m\"\u001b[39m\u001b[38;5;124mThread has completed\u001b[39m\u001b[38;5;124m\"\u001b[39m)\n\u001b[0;32m---> 18\u001b[0m \u001b[38;5;28;01mif\u001b[39;00m \u001b[43mthread\u001b[49m\u001b[38;5;241;43m.\u001b[39;49m\u001b[43misAlive\u001b[49m():\n\u001b[1;32m     19\u001b[0m     \u001b[38;5;28mprint\u001b[39m(\u001b[38;5;124m\"\u001b[39m\u001b[38;5;124mThread is still running\u001b[39m\u001b[38;5;124m\"\u001b[39m)\n\u001b[1;32m     20\u001b[0m \u001b[38;5;28;01melse\u001b[39;00m:\n",
      "\u001b[0;31mAttributeError\u001b[0m: 'Thread' object has no attribute 'isAlive'"
     ]
    }
   ],
   "source": [
    "import time\n",
    "\n",
    "def worker():\n",
    "    print(\"Worker started\")\n",
    "    time.sleep(2)\n",
    "    print(\"Worker finished\")\n",
    "\n",
    "thread = threading.Thread(target=worker)\n",
    "\n",
    "print(\"Before starting thread\")\n",
    "thread.start()\n",
    "print(\"After starting thread\")\n",
    "\n",
    "thread.join()\n",
    "\n",
    "print(\"Thread has completed\")\n",
    "\n",
    "if thread.isAlive():\n",
    "    print(\"Thread is still running\")\n",
    "else:\n",
    "    print(\"Thread has completed\")\n"
   ]
  },
  {
   "cell_type": "markdown",
   "id": "6988da25-3c2c-4fba-bec8-6f22b3f01b77",
   "metadata": {},
   "source": [
    "#Q4. Write a python program to create two threads. Thread one must print the list of squares and thread\n",
    "two must print the list of cubes"
   ]
  },
  {
   "cell_type": "markdown",
   "id": "88faa0c9-7bf7-4fd2-a28f-c70eb1adb2e7",
   "metadata": {},
   "source": [
    "#Ans4. "
   ]
  },
  {
   "cell_type": "code",
   "execution_count": 6,
   "id": "f7de3eae-ce44-4cfc-87cf-df9c55fd3ea4",
   "metadata": {},
   "outputs": [
    {
     "name": "stdout",
     "output_type": "stream",
     "text": [
      "1 squared is 1\n",
      "2 squared is 4\n",
      "3 squared is 9\n",
      "4 squared is 16\n",
      "5 squared is 25\n",
      "6 squared is 36\n",
      "7 squared is 49\n",
      "8 squared is 64\n",
      "9 squared is 81\n",
      "10 squared is 100\n",
      "1 cubed is 1\n",
      "2 cubed is 8\n",
      "3 cubed is 27\n",
      "4 cubed is 64\n",
      "5 cubed is 125\n",
      "6 cubed is 216\n",
      "7 cubed is 343\n",
      "8 cubed is 512\n",
      "9 cubed is 729\n",
      "10 cubed is 1000\n",
      "Finished\n"
     ]
    }
   ],
   "source": [
    "def print_squares():\n",
    "    for i in range(1, 11):\n",
    "        print(f\"{i} squared is {i ** 2}\")\n",
    "\n",
    "def print_cubes():\n",
    "    for i in range(1, 11):\n",
    "        print(f\"{i} cubed is {i ** 3}\")\n",
    "\n",
    "if __name__ == '__main__':\n",
    "    t1 = threading.Thread(target=print_squares)\n",
    "    t2 = threading.Thread(target=print_cubes)\n",
    "\n",
    "    t1.start()\n",
    "    t2.start()\n",
    "\n",
    "    t1.join()\n",
    "    t2.join()\n",
    "\n",
    "    print(\"Finished\")\n"
   ]
  },
  {
   "cell_type": "markdown",
   "id": "2a69f044-a5e5-4f49-860f-7034d2fcfb90",
   "metadata": {},
   "source": [
    "#Q5. State advantages and disadvantages of multithreading "
   ]
  },
  {
   "cell_type": "markdown",
   "id": "d5fd040d-2e7e-478c-81ce-8bb7d1aac153",
   "metadata": {},
   "source": [
    "#Ans5. Multithreading has both advantages and disadvantages. Here are some of the key advantages and disadvantages of using multithreading:\n",
    "\n",
    "Advantages:\n",
    "\n",
    "Improved performance: Multithreading can significantly improve the performance of a program by allowing multiple tasks to be executed simultaneously.\n",
    "\n",
    "Responsiveness: Multithreading allows a program to remain responsive to user input, even when performing time-consuming tasks in the background.\n",
    "\n",
    "Resource sharing: Multithreading can improve resource utilization by allowing multiple threads to share resources such as memory, file handles, and CPU time.\n",
    "\n",
    "Scalability: Multithreading allows a program to scale up to handle larger workloads by utilizing multiple cores or processors.\n",
    "\n",
    "Better utilization of idle time: Multithreading allows a program to perform other tasks while waiting for input/output operations to complete.\n",
    "\n",
    "Disadvantages:\n",
    "\n",
    "Increased complexity: Multithreading can make a program more complex and harder to debug, especially when dealing with shared resources and synchronization.\n",
    "\n",
    "Synchronization: When multiple threads access shared resources, synchronization must be used to prevent data corruption and race conditions. This can add overhead and complexity to the program.\n",
    "\n",
    "Overhead: Creating and managing threads can add overhead to a program, especially when dealing with a large number of threads.\n",
    "\n",
    "Deadlocks: Multithreading can lead to deadlocks, where two or more threads are blocked waiting for each other to release resources.\n",
    "\n",
    "Difficulty in testing: Multithreaded programs can be difficult to test, as it can be hard to reproduce race conditions and other synchronization issues in a controlled environment.\n"
   ]
  },
  {
   "cell_type": "markdown",
   "id": "1e84df41-1a2d-44b4-8a81-6eb89c658301",
   "metadata": {},
   "source": [
    "#Q6. Explain deadlocks and race conditions. "
   ]
  },
  {
   "cell_type": "markdown",
   "id": "5c87976b-2227-4f4a-8aa5-8ad5ba51528b",
   "metadata": {},
   "source": [
    "#Ans6. Deadlocks and race conditions are two types of synchronization problems that can occur in multithreaded programs. Here's a brief explanation of each:\n",
    "\n",
    "Deadlocks:\n",
    "Deadlocks occur when two or more threads are blocked waiting for each other to release resources. This can happen when multiple threads are competing for limited resources such as memory, file handles, or network connections, and each thread holds onto a resource while waiting for another resource to become available.\n",
    "\n",
    "For example, consider two threads A and B. Thread A holds a lock on resource X and waits for a lock on resource Y, while thread B holds a lock on resource Y and waits for a lock on resource X. This can result in a deadlock, where neither thread can proceed and the program becomes unresponsive.\n",
    "\n",
    "Deadlocks can be difficult to detect and resolve, as they may only occur under certain conditions and can be hard to reproduce in a controlled environment.\n",
    "\n",
    "Race conditions:\n",
    "Race conditions occur when the outcome of a program depends on the relative timing or order of events between two or more threads. This can happen when multiple threads access shared resources such as memory or files, and the behavior of the program depends on the order in which the threads execute.\n",
    "\n",
    "For example, consider two threads A and B. Thread A reads the value of a variable x, increments it, and writes it back to memory, while thread B reads the same variable, increments it, and writes it back to memory. If both threads execute simultaneously, the final value of the variable may depend on the order in which the threads execute, leading to unexpected behavior.\n",
    "\n",
    "Race conditions can be difficult to detect and reproduce, as they may only occur under certain conditions and may be dependent on the timing or scheduling of threads.\n",
    "\n",
    "To avoid these synchronization problems, multithreaded programs must use synchronization mechanisms such as locks, semaphores, or monitors to control access to shared resources and prevent race conditions and deadlocks. It is important to carefully design and test multithreaded programs to avoid these common pitfalls."
   ]
  },
  {
   "cell_type": "markdown",
   "id": "029af5bf-49d7-4b08-b4d8-c61fc8d7bdf4",
   "metadata": {},
   "source": [
    "# Thank you!!!!!"
   ]
  },
  {
   "cell_type": "code",
   "execution_count": null,
   "id": "49c7ca3b-4ccf-4975-b568-11af076e2d8e",
   "metadata": {},
   "outputs": [],
   "source": []
  }
 ],
 "metadata": {
  "kernelspec": {
   "display_name": "Python 3 (ipykernel)",
   "language": "python",
   "name": "python3"
  },
  "language_info": {
   "codemirror_mode": {
    "name": "ipython",
    "version": 3
   },
   "file_extension": ".py",
   "mimetype": "text/x-python",
   "name": "python",
   "nbconvert_exporter": "python",
   "pygments_lexer": "ipython3",
   "version": "3.10.8"
  }
 },
 "nbformat": 4,
 "nbformat_minor": 5
}
