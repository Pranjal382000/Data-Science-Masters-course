{
 "cells": [
  {
   "cell_type": "markdown",
   "id": "7dee5af9-fded-4e89-8c68-7a7a091b08c0",
   "metadata": {},
   "source": [
    "#Q1. What is multiprocessing in python? Why is it useful?"
   ]
  },
  {
   "cell_type": "markdown",
   "id": "7c69b1c2-c706-417e-9138-fabd979572ec",
   "metadata": {},
   "source": [
    "#Ans1.  Multiprocessing is a module in Python that allows you to run multiple processes in parallel, taking advantage of multiple CPUs or cores on your machine. It is useful for improving the performance of computationally intensive tasks, such as data processing or machine learning, by distributing the workload across multiple processors.\n",
    "\n",
    "With multiprocessing, you can create new processes that can run concurrently with the main process, each executing its own code and having its own memory space. These processes can communicate with each other using pipes and queues, making it possible to share data and coordinate their activities.\n",
    "\n",
    "One of the advantages of using multiprocessing in Python is that it is easy to use and comes with a high-level API that abstracts away many of the low-level details of process management. It also provides a simple and efficient way to take advantage of multi-core systems without having to deal with the complexities of thread-based parallelism.\n",
    "\n",
    "Overall, multiprocessing is a powerful tool for improving the performance of Python programs and making them more scalable, allowing them to take advantage of the increasing number of cores in modern hardware."
   ]
  },
  {
   "cell_type": "markdown",
   "id": "3c4f5a26-6f09-4009-b624-e3398480542f",
   "metadata": {},
   "source": [
    "#Q2. What are the differences between multiprocessing and multithreading?"
   ]
  },
  {
   "cell_type": "markdown",
   "id": "89989439-068c-49f2-bd01-62ae2b65eb79",
   "metadata": {},
   "source": [
    "#Ans2. Multiprocessing and multithreading are both techniques for achieving parallelism in Python, but they differ in several important ways.\n",
    "\n",
    "Multiprocessing involves running multiple processes simultaneously, each with its own memory space and Python interpreter. Each process runs independently of the others and can communicate with them using pipes, queues, or other interprocess communication mechanisms. Multiprocessing is well suited for computationally intensive tasks, where the workload can be divided into independent subtasks that can be executed in parallel.\n",
    "\n",
    "Multithreading, on the other hand, involves running multiple threads within the same process, all sharing the same memory space and Python interpreter. Each thread can execute independently, but they all share the same memory, which can lead to synchronization and concurrency issues. Multithreading is better suited for tasks that involve a lot of I/O or other operations that can be executed concurrently, but not necessarily in parallel.\n",
    "\n",
    "Some of the key differences between multiprocessing and multithreading include:\n",
    "\n",
    "Memory usage: Multiprocessing uses more memory than multithreading because each process has its own memory space. In contrast, threads share the same memory space, which can lead to memory contention and synchronization issues.\n",
    "\n",
    "Communication overhead: Multiprocessing involves more communication overhead than multithreading because processes need to communicate using interprocess communication mechanisms, such as pipes or queues, which are more expensive than thread synchronization primitives.\n",
    "\n",
    "Scalability: Multiprocessing is more scalable than multithreading because it can take advantage of multiple CPUs or cores, while multithreading is limited by the Python Global Interpreter Lock (GIL), which prevents multiple threads from executing Python code in parallel.\n",
    "\n",
    "Complexity: Multiprocessing is generally more complex than multithreading because it involves managing multiple processes, each with its own memory space and execution context, while multithreading involves managing multiple threads within the same process."
   ]
  },
  {
   "cell_type": "markdown",
   "id": "abb59df6-fd12-4538-960a-8c4a0e1c7389",
   "metadata": {},
   "source": [
    "#Q3. Write a python code to create a process using the multiprocessing module. "
   ]
  },
  {
   "cell_type": "markdown",
   "id": "ea2c6d52-1e03-443f-a113-1eddb107d1f3",
   "metadata": {},
   "source": [
    "#Ans3."
   ]
  },
  {
   "cell_type": "code",
   "execution_count": 1,
   "id": "22a1d20c-da5d-4381-88fa-2da4ad35f4cc",
   "metadata": {},
   "outputs": [
    {
     "name": "stdout",
     "output_type": "stream",
     "text": [
      "Worker process started\n",
      "Worker process finished\n",
      "Main process finished\n"
     ]
    }
   ],
   "source": [
    "import multiprocessing\n",
    "\n",
    "def worker():\n",
    "    \"\"\"This is the worker function that will be run in a separate process.\"\"\"\n",
    "    print(\"Worker process started\")\n",
    "    print(\"Worker process finished\")\n",
    "\n",
    "if __name__ == '__main__':\n",
    "    process = multiprocessing.Process(target=worker)\n",
    "    process.start()\n",
    "    process.join()\n",
    "\n",
    "    print(\"Main process finished\")\n"
   ]
  },
  {
   "cell_type": "markdown",
   "id": "12fa4d5a-f971-4722-a9b2-d43d3271f605",
   "metadata": {},
   "source": [
    "#Q4. What is a multiprocessing pool in python? Why is it used?"
   ]
  },
  {
   "cell_type": "markdown",
   "id": "1ef0d632-46ae-4fed-8673-08cdde88480d",
   "metadata": {},
   "source": [
    "#Ans4. A multiprocessing pool in Python is a collection of worker processes that can be used to execute a set of tasks in parallel. The multiprocessing.Pool class provides a high-level interface for creating and managing a pool of worker processes.\n",
    "\n",
    "When you create a Pool, you specify the number of worker processes to create, and then you can submit tasks to the pool using the apply, map, or imap methods. Each task is executed in a separate process, and the results are collected and returned to the parent process.\n",
    "\n",
    "The Pool class is useful for executing a large number of tasks in parallel, especially when the tasks are independent of each other and can be executed in any order. By using a pool of worker processes, you can take advantage of multiple CPUs or cores on your machine to speed up the execution of your program."
   ]
  },
  {
   "cell_type": "markdown",
   "id": "b902f771-5dd7-4135-ab77-2442bba46dd6",
   "metadata": {},
   "source": [
    "#Q5. How can we create a pool of worker processes in python using the multiprocessing module?"
   ]
  },
  {
   "cell_type": "markdown",
   "id": "e7b0a248-3a75-4202-b3bb-1928ab5dd8e8",
   "metadata": {},
   "source": [
    "#Ans5."
   ]
  },
  {
   "cell_type": "code",
   "execution_count": 4,
   "id": "5681b26a-f95b-426b-8c57-d1af7ec3a646",
   "metadata": {},
   "outputs": [
    {
     "name": "stdout",
     "output_type": "stream",
     "text": [
      "Worker 0 startedWorker 2 startedWorker 1 startedWorker 3 started\n",
      "\n",
      "\n",
      "\n",
      "Worker 0 finishedWorker 2 finishedWorker 3 finishedWorker 1 finished\n",
      "\n",
      "Worker 5 startedWorker 4 startedWorker 6 started\n",
      "Worker 7 started\n",
      "\n",
      "\n",
      "\n",
      "Worker 4 finished\n",
      "Worker 5 finished\n",
      "Worker 6 finishedWorker 7 finished\n",
      "Worker 8 started\n",
      "\n",
      "\n",
      "Worker 9 started\n",
      "Worker 8 finished\n",
      "Worker 9 finished\n",
      "All workers finished\n"
     ]
    }
   ],
   "source": [
    "import multiprocessing\n",
    "\n",
    "def worker(num):\n",
    "    \"\"\"This is the worker function that will be run in a separate process.\"\"\"\n",
    "    print(f\"Worker {num} started\")\n",
    "    print(f\"Worker {num} finished\")\n",
    "\n",
    "if __name__ == '__main__':\n",
    "    with multiprocessing.Pool(processes=4) as pool:\n",
    "        for i in range(10):\n",
    "            pool.apply_async(worker, args=(i,))\n",
    "            \n",
    "        pool.close()\n",
    "        pool.join()\n",
    "\n",
    "    print(\"All workers finished\")\n"
   ]
  },
  {
   "cell_type": "markdown",
   "id": "ddc0235d-758d-4c1b-a0f5-0e683e5daee1",
   "metadata": {},
   "source": [
    "#Q6. Write a python program to create 4 processes, each process should print a different number using the\n",
    "multiprocessing module in python."
   ]
  },
  {
   "cell_type": "markdown",
   "id": "c538de2b-98e8-4f9e-9bbb-dcba06e82d6e",
   "metadata": {},
   "source": [
    "#Ans6. "
   ]
  },
  {
   "cell_type": "code",
   "execution_count": 5,
   "id": "157d7572-84ac-4123-bad4-b307f982e149",
   "metadata": {},
   "outputs": [
    {
     "name": "stdout",
     "output_type": "stream",
     "text": [
      "Process0  startedProcess\n",
      " Number1  Process0started\n",
      " \n",
      "ProcessNumber2   0Process1started \n",
      " \n",
      "finishedProcess3\n",
      "Number  1 started 2\n",
      "finished\n",
      "\n",
      "NumberProcess  32\n",
      " Processfinished \n",
      "3 finished\n"
     ]
    }
   ],
   "source": [
    "import multiprocessing\n",
    "\n",
    "def print_number(num):\n",
    "    \"\"\"This is the worker function that will be run in a separate process.\"\"\"\n",
    "    print(\"Process\", num, \"started\")\n",
    "    print(\"Number\", num)\n",
    "    print(\"Process\", num, \"finished\")\n",
    "\n",
    "if __name__ == '__main__':\n",
    "    for i in range(4):\n",
    "        process = multiprocessing.Process(target=print_number, args=(i,))\n",
    "        process.start()\n"
   ]
  },
  {
   "cell_type": "code",
   "execution_count": null,
   "id": "e4b7ccb7-5ce6-40d4-9ca7-16bd543c43c2",
   "metadata": {},
   "outputs": [],
   "source": []
  }
 ],
 "metadata": {
  "kernelspec": {
   "display_name": "Python 3 (ipykernel)",
   "language": "python",
   "name": "python3"
  },
  "language_info": {
   "codemirror_mode": {
    "name": "ipython",
    "version": 3
   },
   "file_extension": ".py",
   "mimetype": "text/x-python",
   "name": "python",
   "nbconvert_exporter": "python",
   "pygments_lexer": "ipython3",
   "version": "3.10.8"
  }
 },
 "nbformat": 4,
 "nbformat_minor": 5
}
