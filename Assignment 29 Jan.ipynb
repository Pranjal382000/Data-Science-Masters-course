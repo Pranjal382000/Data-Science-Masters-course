{
 "cells": [
  {
   "cell_type": "markdown",
   "id": "20dd0b27-a810-4395-a7b6-8ac21ac076a4",
   "metadata": {},
   "source": [
    "#Q1. Who developed python programming language? "
   ]
  },
  {
   "cell_type": "markdown",
   "id": "81ea547b-4da4-426e-93ad-289bc7cfc303",
   "metadata": {},
   "source": [
    "#Ans1. Python was created by Guido van Rossum, and first released on February 20, 1991."
   ]
  },
  {
   "cell_type": "markdown",
   "id": "65f0fba9-42a4-4605-987a-a6423b69e43e",
   "metadata": {},
   "source": [
    "#Q2. Which type of programming does python support?"
   ]
  },
  {
   "cell_type": "markdown",
   "id": "adf179a8-c479-4349-8751-9b7912378af5",
   "metadata": {},
   "source": [
    "#Ans2. Python supports object-oriented, structured, and functional programming."
   ]
  },
  {
   "cell_type": "markdown",
   "id": "3b85104d-1848-4922-9319-a0dc5b3704a8",
   "metadata": {},
   "source": [
    "#Q3. Is python case sensitive when dealing with identifiers?"
   ]
  },
  {
   "cell_type": "markdown",
   "id": "84d93654-227d-44e0-97ec-c947e4b20e81",
   "metadata": {},
   "source": [
    "#Ans3. Yes, Python is a case-sensitive language."
   ]
  },
  {
   "cell_type": "markdown",
   "id": "3b1875f8-9bde-4daa-a0f9-0c281744be42",
   "metadata": {},
   "source": [
    "#Q4. What is the correct extension of the python file? "
   ]
  },
  {
   "cell_type": "markdown",
   "id": "95584c16-3e90-4ab7-af0a-94a26fd818eb",
   "metadata": {},
   "source": [
    "#Ans4.  \".py\" is the correct extension of the Python file."
   ]
  },
  {
   "cell_type": "markdown",
   "id": "0f2889ba-1268-4555-b751-9ba88c111e3b",
   "metadata": {},
   "source": [
    "#Q5. Is python code compiled or interpreted?"
   ]
  },
  {
   "cell_type": "markdown",
   "id": "60a48851-3c6f-4d27-8021-474790072b76",
   "metadata": {},
   "source": [
    "#Ans5.  Python is an interpreted language and not a compiled one."
   ]
  },
  {
   "cell_type": "markdown",
   "id": "86537199-a12e-4520-9b33-8b81f8189df0",
   "metadata": {},
   "source": [
    "#Q6. Name a few blocks of code used to define in python language?"
   ]
  },
  {
   "cell_type": "markdown",
   "id": "cda47317-7aa4-462c-83ed-b6283e66e579",
   "metadata": {},
   "source": [
    "#Ans6.  A module, a function body, and a class definition."
   ]
  },
  {
   "cell_type": "markdown",
   "id": "c78d8665-090e-4083-94e5-459933356451",
   "metadata": {},
   "source": [
    "#Q7.  State a character used to give single-line comments in python?"
   ]
  },
  {
   "cell_type": "markdown",
   "id": "7aa3c4f2-ef80-4896-bbac-7c38f5d955a8",
   "metadata": {},
   "source": [
    "#Ans7.  We can write a single-line comment by adding a single # character before any statement or line of code."
   ]
  },
  {
   "cell_type": "markdown",
   "id": "7fec3f44-fe99-47fe-8f01-7ce9aca897e9",
   "metadata": {},
   "source": [
    "#Q8. Mention functions which can help us to find the version of phyton that we are currently working on?"
   ]
  },
  {
   "cell_type": "markdown",
   "id": "a4a6a28f-c6aa-4703-a7eb-2d5d66b16b33",
   "metadata": {},
   "source": [
    "#Ans8. Using sys. version method.\n",
    "       Using python_version() function.\n",
    "       Using Python -V command."
   ]
  },
  {
   "cell_type": "markdown",
   "id": "68bb189f-abc9-4940-8597-340663fc6d1b",
   "metadata": {},
   "source": [
    "#Q9.  Python supports the creation of anonymous functions at runtime,using a construct called____?"
   ]
  },
  {
   "cell_type": "markdown",
   "id": "c413597a-4942-402c-a0ea-93977e7d74c3",
   "metadata": {},
   "source": [
    "#Ans9.  Lambda"
   ]
  },
  {
   "cell_type": "markdown",
   "id": "b7299f73-8b39-4b55-8139-6e4e595a250c",
   "metadata": {},
   "source": [
    "#Q10.  What does pip stand for python?"
   ]
  },
  {
   "cell_type": "markdown",
   "id": "a55b5488-911c-4f6c-8ecf-c157875b21b9",
   "metadata": {},
   "source": [
    "#Ans10.  The standard tool for installing Python packages."
   ]
  },
  {
   "cell_type": "markdown",
   "id": "bfc53b6b-1a3d-4d2e-a715-e63a29c5d083",
   "metadata": {},
   "source": [
    "#Q11.  Mention a few in-bulit functions of python?"
   ]
  },
  {
   "cell_type": "markdown",
   "id": "a82ea508-7397-49c6-84ed-43da50338036",
   "metadata": {},
   "source": [
    "#Ans11.  print( ) function.\n",
    "type( ) function.\n",
    "input( ) function.\n",
    "dir( ) function.\n",
    "sorted( ) function.\n",
    "max( ) function."
   ]
  },
  {
   "cell_type": "markdown",
   "id": "b85c3bce-fbbc-4950-9742-6b3b8f184e15",
   "metadata": {},
   "source": [
    "#Q12. What is the maximum possible length of an identifier in python?"
   ]
  },
  {
   "cell_type": "markdown",
   "id": "7d7443c4-2246-4953-8285-fe3cd9cc95c7",
   "metadata": {},
   "source": [
    "#Ans12.  79 characters"
   ]
  },
  {
   "cell_type": "markdown",
   "id": "fcf05817-517b-4f8b-80c9-28460f2f7396",
   "metadata": {},
   "source": [
    "#Q13.  What are the benefits of using python?"
   ]
  },
  {
   "cell_type": "markdown",
   "id": "7738773b-746e-4b4b-8d94-c604c41219b4",
   "metadata": {},
   "source": [
    "#Ans13.  Presence of Libraries, Open Source and free, Huge Support Community and Easy to learn."
   ]
  },
  {
   "cell_type": "markdown",
   "id": "6b5b390c-eac4-4361-b5b3-109f534987c1",
   "metadata": {},
   "source": [
    "#Q14.  How memory is managed in python?"
   ]
  },
  {
   "cell_type": "markdown",
   "id": "1ccc670a-337e-4989-83c8-1ccc16dbcae4",
   "metadata": {
    "jp-MarkdownHeadingCollapsed": true,
    "tags": []
   },
   "source": [
    "#Ans14.  Memory management in Python involves a private heap containing all Python objects and data structures. The management of this private heap is ensured internally by the Python memory manager."
   ]
  },
  {
   "cell_type": "markdown",
   "id": "5a91d196-48eb-4c94-aa6e-e70a12cbf010",
   "metadata": {},
   "source": [
    "#Q15. How to install python on windows and set path variables?"
   ]
  },
  {
   "cell_type": "markdown",
   "id": "fa78b738-9649-47b2-942f-5ad411053cfe",
   "metadata": {},
   "source": [
    "#Ans15.  Open a browser to the Python website and download the Windows installer.\n",
    "\n",
    "The complete path of python.exe can be added by:\n",
    "\n",
    "Right-clicking This PC and going to Properties.\n",
    "\n",
    "Clicking on the Advanced system settings in the menu on the left.\n",
    "\n",
    "Clicking on the Environment Variables button o​n the bottom right.\n",
    "\n",
    "In the System variables section, selecting the Path variable and clicking on Edit. The next screen will show all the directories that are currently a part of the PATH variable.\n",
    "\n",
    "Clicking on New and entering Python’s install directory.\n",
    "\n",
    "Python can now be used directly from the command prompt without having to write its location."
   ]
  },
  {
   "cell_type": "markdown",
   "id": "e0e76aa6-e31f-4a7c-b251-577ed438d2ee",
   "metadata": {},
   "source": [
    "#Q16.  Is identation required in python?"
   ]
  },
  {
   "cell_type": "markdown",
   "id": "0b49b851-16d5-4baf-b977-c1db04f3f3ab",
   "metadata": {},
   "source": [
    "#Ans16. Indentation refers to the spaces at the beginning of a code line. The indentation in Python is very important."
   ]
  },
  {
   "cell_type": "markdown",
   "id": "d3c2bab7-243c-44f7-bdcd-bc7949d80022",
   "metadata": {},
   "source": [
    "# Thank you!!!"
   ]
  },
  {
   "cell_type": "code",
   "execution_count": null,
   "id": "44db05c3-3cbf-4b3f-a3e2-f5fd3669b25b",
   "metadata": {},
   "outputs": [],
   "source": []
  }
 ],
 "metadata": {
  "kernelspec": {
   "display_name": "Python 3 (ipykernel)",
   "language": "python",
   "name": "python3"
  },
  "language_info": {
   "codemirror_mode": {
    "name": "ipython",
    "version": 3
   },
   "file_extension": ".py",
   "mimetype": "text/x-python",
   "name": "python",
   "nbconvert_exporter": "python",
   "pygments_lexer": "ipython3",
   "version": "3.10.8"
  }
 },
 "nbformat": 4,
 "nbformat_minor": 5
}
