{
 "cells": [
  {
   "cell_type": "markdown",
   "id": "5264278b-8298-4f36-8305-92e71d1a56c2",
   "metadata": {},
   "source": [
    "#Q1. Write a program to accept percentage from the user and display the grade according to the following criteria:\n",
    "   above 90=A : >80 and <=90 =B : >=60 and <=80 =C: below 60= D"
   ]
  },
  {
   "cell_type": "markdown",
   "id": "189732d6-7487-448b-bd0d-0f9e672a3141",
   "metadata": {},
   "source": [
    "#Ans1. "
   ]
  },
  {
   "cell_type": "code",
   "execution_count": 2,
   "id": "52d3f9c0-494d-49c5-a209-352c1b999197",
   "metadata": {},
   "outputs": [
    {
     "name": "stdin",
     "output_type": "stream",
     "text": [
      "The marks obtained are  55\n"
     ]
    },
    {
     "name": "stdout",
     "output_type": "stream",
     "text": [
      "Grade = D\n"
     ]
    }
   ],
   "source": [
    "marks = int(input(\"The marks obtained are \"))\n",
    "\n",
    "if marks>90:\n",
    "    print(\"Grade = A\")\n",
    "elif marks>80 and marks<=90:\n",
    "    print(\"Grade = B\")\n",
    "elif marks>=60 and makrs<=80:\n",
    "    print(\"Grade = C\")\n",
    "elif marks<60:\n",
    "    print(\"Grade = D\")"
   ]
  },
  {
   "cell_type": "markdown",
   "id": "6cc3c8d2-3056-435c-a3b6-054243b1be71",
   "metadata": {},
   "source": [
    "#Q2. Write a program to accept the cost price of a bike and display the road tax to be paid according to the following criteria :\n",
    "15% > 100000 : 10% >50000 and <=100000 : 5%<=50000"
   ]
  },
  {
   "cell_type": "markdown",
   "id": "84ac4b4c-5ebe-44c7-94e8-65511061a08b",
   "metadata": {},
   "source": [
    "#Ans2.  "
   ]
  },
  {
   "cell_type": "code",
   "execution_count": 3,
   "id": "596d1057-df4e-49c8-8d64-2de52bdc149b",
   "metadata": {},
   "outputs": [
    {
     "name": "stdin",
     "output_type": "stream",
     "text": [
      "The price of bike is  25000\n"
     ]
    },
    {
     "name": "stdout",
     "output_type": "stream",
     "text": [
      "The tax on bike is 1250.0\n"
     ]
    }
   ],
   "source": [
    "price_of_bike = int(input(\"The price of bike is \"))\n",
    "\n",
    "if price_of_bike>100000:\n",
    "    print(f\"The tax on bike is {price_of_bike*0.15}\")\n",
    "elif price_of_bike>50000 and price_of_bike<=100000:\n",
    "    print(f\"The tax on bike is {price_of_bike*0.1}\")\n",
    "elif  price_of_bike<=50000:\n",
    "    print(f\"The tax on bike is {price_of_bike*0.05}\")"
   ]
  },
  {
   "cell_type": "markdown",
   "id": "f084c137-0bd4-4714-91f4-f1740af1a65b",
   "metadata": {},
   "source": [
    "#Q3.  Accept any city from the user and display monuments of that city.\n",
    "Delhi - Red fort : Agra- Taj Mahal : Jaipur- Jal Mahal"
   ]
  },
  {
   "cell_type": "markdown",
   "id": "8afb1fee-8f37-43ea-babe-4fc954cdbc08",
   "metadata": {},
   "source": [
    "#Ans3. "
   ]
  },
  {
   "cell_type": "code",
   "execution_count": 1,
   "id": "58fa33f1-1a38-497b-884b-aa505e092889",
   "metadata": {},
   "outputs": [
    {
     "name": "stdin",
     "output_type": "stream",
     "text": [
      "The name of city is  Agra\n"
     ]
    },
    {
     "name": "stdout",
     "output_type": "stream",
     "text": [
      "Monument in the city is Taj Mahal\n"
     ]
    }
   ],
   "source": [
    "city_name = str(input(\"The name of city is \"))\n",
    "\n",
    "if city_name==\"Delhi\":\n",
    "    print(\"Monument in the city is Red Fort\")\n",
    "elif city_name==\"Agra\":\n",
    "    print(\"Monument in the city is Taj Mahal\")\n",
    "elif city_name==\"Jaipur\":\n",
    "     print(\"Monument in the city is Jal Mahal\")"
   ]
  },
  {
   "cell_type": "markdown",
   "id": "ba71ee26-548c-4f61-8239-025e81db5396",
   "metadata": {},
   "source": [
    "#Q4. Check how many times a given number can be divided by 3 before it is less than or equal to 10."
   ]
  },
  {
   "cell_type": "markdown",
   "id": "bf1f1384-f6ba-451e-85e6-b1eec5705a2a",
   "metadata": {},
   "source": [
    "#Ans4. "
   ]
  },
  {
   "cell_type": "code",
   "execution_count": 8,
   "id": "0ddc51a3-7247-454d-bd62-db67a357490f",
   "metadata": {},
   "outputs": [
    {
     "name": "stdout",
     "output_type": "stream",
     "text": [
      "100\n",
      "33.333333333333336\n",
      "11.111111111111112\n"
     ]
    }
   ],
   "source": [
    "number =100\n",
    "\n",
    "while number>=10:\n",
    "    print(number)\n",
    "    number=number/3"
   ]
  },
  {
   "cell_type": "markdown",
   "id": "92cfe006-d3e0-49f5-b519-815b63e86eae",
   "metadata": {},
   "source": [
    "#Q5. Why and when to use while loop in pyhton. Give a detailed description with the example."
   ]
  },
  {
   "cell_type": "markdown",
   "id": "869c1bbc-561b-4488-93aa-79e4c3dc447e",
   "metadata": {},
   "source": [
    "#Ans5.  Python while loop is used to run a block code until a certain condition is met. Here, A while loop evaluates the condition. If the condition evaluates to True , the code inside the while loop is executed.\n",
    "Example :"
   ]
  },
  {
   "cell_type": "code",
   "execution_count": 2,
   "id": "ec35b4db-6188-4c77-88b3-b07163df8a88",
   "metadata": {},
   "outputs": [
    {
     "name": "stdout",
     "output_type": "stream",
     "text": [
      "1\n",
      "2\n",
      "3\n",
      "4\n",
      "5\n"
     ]
    }
   ],
   "source": [
    "i = 1\n",
    "while i < 6:\n",
    "    print(i)\n",
    "    i += 1"
   ]
  },
  {
   "cell_type": "markdown",
   "id": "57b43df7-f4b1-44ad-92a8-59892f4174e5",
   "metadata": {},
   "source": [
    "#Q6. Use nested while loop to print 3 different patterns."
   ]
  },
  {
   "cell_type": "markdown",
   "id": "86cf1ad5-f779-4fbc-ab3b-a33591de1786",
   "metadata": {},
   "source": [
    "#Ans6. "
   ]
  },
  {
   "cell_type": "code",
   "execution_count": 3,
   "id": "2d392cbe-20a2-45aa-b79a-723a6b3208ec",
   "metadata": {},
   "outputs": [
    {
     "name": "stdin",
     "output_type": "stream",
     "text": [
      "Enter number of rows :  4\n"
     ]
    },
    {
     "name": "stdout",
     "output_type": "stream",
     "text": [
      "* \n",
      "* * \n",
      "* * * \n",
      "* * * * \n"
     ]
    }
   ],
   "source": [
    "n = int(input('Enter number of rows : '))\n",
    "\n",
    "i = 1\n",
    "while i <= n :\n",
    "    j = 1\n",
    "    while j <= i:\n",
    "        print(\"*\", end = \" \")\n",
    "        j += 1\n",
    "    print()\n",
    "    i += 1"
   ]
  },
  {
   "cell_type": "code",
   "execution_count": 4,
   "id": "1f6d73b8-3123-4311-9744-4734bf7c2280",
   "metadata": {},
   "outputs": [
    {
     "name": "stdin",
     "output_type": "stream",
     "text": [
      "Enter number of rows :  3\n"
     ]
    },
    {
     "name": "stdout",
     "output_type": "stream",
     "text": [
      "* * * \n",
      "* * \n",
      "* \n"
     ]
    }
   ],
   "source": [
    "n = int(input('Enter number of rows : '))\n",
    "\n",
    "i = 1\n",
    "while i <= n :\n",
    "    j = n\n",
    "    while j >= i:\n",
    "        print(\"*\", end = \" \")\n",
    "        j -= 1\n",
    "    print()\n",
    "    i += 1"
   ]
  },
  {
   "cell_type": "code",
   "execution_count": 5,
   "id": "e142c751-25eb-40ef-aab8-60f0844bdb38",
   "metadata": {},
   "outputs": [
    {
     "name": "stdin",
     "output_type": "stream",
     "text": [
      "Enter number of rows :  3\n"
     ]
    },
    {
     "name": "stdout",
     "output_type": "stream",
     "text": [
      "  1 \n",
      "  2   3 \n",
      "  4   5   6 \n"
     ]
    }
   ],
   "source": [
    "n = int(input('Enter number of rows : '))\n",
    "\n",
    "k = 1\n",
    "i = 1\n",
    "while i <= n :\n",
    "    j = 1\n",
    "    while j <= i:\n",
    "        print(\"{:3d}\".format(k), end = \" \")\n",
    "        j += 1\n",
    "        k += 1\n",
    "    print()\n",
    "    i += 1"
   ]
  },
  {
   "cell_type": "markdown",
   "id": "07892eaa-6224-49ac-b319-04934213fc3f",
   "metadata": {},
   "source": [
    "#Q7. Reverse a while loop to display numbers from 10 to 1."
   ]
  },
  {
   "cell_type": "markdown",
   "id": "0abb1798-ae28-433f-a5d6-d8477a95787f",
   "metadata": {},
   "source": [
    "#Ans7. "
   ]
  },
  {
   "cell_type": "code",
   "execution_count": 6,
   "id": "7339a0fc-692b-47fb-beb8-917a0f3c02c2",
   "metadata": {},
   "outputs": [
    {
     "name": "stdout",
     "output_type": "stream",
     "text": [
      "10\n",
      "9\n",
      "8\n",
      "7\n",
      "6\n",
      "5\n",
      "4\n",
      "3\n",
      "2\n",
      "1\n"
     ]
    }
   ],
   "source": [
    "i = 10\n",
    "while i > 0:\n",
    "    print(i)\n",
    "    i = i - 1"
   ]
  },
  {
   "cell_type": "markdown",
   "id": "c9cd25f5-c403-46fc-a616-1e121508d210",
   "metadata": {},
   "source": [
    "# Thank you!!!!!! "
   ]
  }
 ],
 "metadata": {
  "kernelspec": {
   "display_name": "Python 3 (ipykernel)",
   "language": "python",
   "name": "python3"
  },
  "language_info": {
   "codemirror_mode": {
    "name": "ipython",
    "version": 3
   },
   "file_extension": ".py",
   "mimetype": "text/x-python",
   "name": "python",
   "nbconvert_exporter": "python",
   "pygments_lexer": "ipython3",
   "version": "3.10.8"
  }
 },
 "nbformat": 4,
 "nbformat_minor": 5
}
