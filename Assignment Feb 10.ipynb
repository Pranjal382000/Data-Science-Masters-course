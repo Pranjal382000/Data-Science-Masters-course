{
 "cells": [
  {
   "cell_type": "markdown",
   "id": "875c78b9-40be-4ace-b822-061f0a78d5f0",
   "metadata": {},
   "source": [
    "#Q1. Which function is used to open a file? What are the different modes of opening a file? Explain each mode\n",
    "of file opening."
   ]
  },
  {
   "cell_type": "markdown",
   "id": "273628eb-146f-45b7-907b-92f491e5aac0",
   "metadata": {},
   "source": [
    "#Ans1. In Python, the open() function is used to open a file. It takes two arguments, the first being the name of the file and the second being the mode in which the file should be opened.\n",
    "\n",
    "There are different modes of opening a file, which determine how the file can be accessed and modified. The different modes are:\n",
    "\n",
    "\"r\" mode: This is the default mode, which is used to read the file. The file pointer is placed at the beginning of the file, and if the file does not exist, an error is raised.\n",
    "\n",
    "\"w\" mode: This mode is used to write to a file. If the file already exists, it is truncated to zero length before writing begins. If the file does not exist, a new file is created.\n",
    "\n",
    "\"a\" mode: This mode is used to append data to an existing file. The file pointer is placed at the end of the file, and if the file does not exist, a new file is created.\n",
    "\n",
    "\"x\" mode: This mode is used to create a new file and write to it. If the file already exists, an error is raised.\n",
    "\n",
    "\"b\" mode: This mode is used to open a file in binary mode, which is used for non-text files, such as image or audio files.\n",
    "\n",
    "\"t\" mode: This mode is used to open a file in text mode, which is used for text files, such as .txt files.\n",
    "\n",
    "\"+\" mode: This mode is used to open a file for both reading and writing. The file pointer is placed at the beginning of the file."
   ]
  },
  {
   "cell_type": "markdown",
   "id": "f8093cfe-2001-4a8b-947e-9266a49b6672",
   "metadata": {},
   "source": [
    "#Q2. Why close() function is used? Why is it important to close a file?"
   ]
  },
  {
   "cell_type": "markdown",
   "id": "cb83b2ce-5f5d-45d3-ab54-d112119f24cd",
   "metadata": {},
   "source": [
    "#Ans2. In Python, the close() function is used to close a file after it has been opened and processed. It is important to close a file after reading or writing to it, to ensure that all changes made to the file are saved properly, and to free up system resources associated with the file. If a file is not closed properly, any changes made to the file may not be saved, which can result in data loss or corruption."
   ]
  },
  {
   "cell_type": "markdown",
   "id": "01f08329-cc55-49ed-8166-e620d9cbb179",
   "metadata": {},
   "source": [
    "#Q3. Write a python program to create a text file. Write ‘I want to become a Data Scientist’ in that file. Then\n",
    "close the file. Open this file and read the content of the file."
   ]
  },
  {
   "cell_type": "markdown",
   "id": "ecd50ebe-7835-4333-b486-78900a0f7cfa",
   "metadata": {},
   "source": [
    "#Ans3."
   ]
  },
  {
   "cell_type": "code",
   "execution_count": 1,
   "id": "f1f95d06-b5c1-40ae-9527-dbe4ac4a80c0",
   "metadata": {},
   "outputs": [],
   "source": [
    "with open('data_scientist.txt', 'w') as file:\n",
    "    file.write('I want to become a Data Scientist')"
   ]
  },
  {
   "cell_type": "code",
   "execution_count": 2,
   "id": "50abe52f-70e3-404c-9bf1-2d5e242fc251",
   "metadata": {},
   "outputs": [
    {
     "name": "stdout",
     "output_type": "stream",
     "text": [
      "I want to become a Data Scientist\n"
     ]
    }
   ],
   "source": [
    "with open('data_scientist.txt', 'r') as file:\n",
    "    contents = file.read()\n",
    "    print(contents)"
   ]
  },
  {
   "cell_type": "markdown",
   "id": "a304f057-5a7a-4f43-97f5-82afed7214e5",
   "metadata": {},
   "source": [
    "#Q4. Explain the following with python code: read(), readline() and readlines()."
   ]
  },
  {
   "cell_type": "markdown",
   "id": "88d436c9-7c58-413a-9c74-ccf639fb4903",
   "metadata": {},
   "source": [
    "#Ans4.  "
   ]
  },
  {
   "cell_type": "markdown",
   "id": "69596b21-efef-41ce-991b-adbc1c7c2251",
   "metadata": {},
   "source": [
    "#read(): This method reads the entire contents of a file into a string. If you do not specify a size, it reads the entire file. If you do specify a size, it reads up to that number of bytes."
   ]
  },
  {
   "cell_type": "code",
   "execution_count": 5,
   "id": "5e5eeca2-1416-4d4b-8468-2b27a98e4ff7",
   "metadata": {},
   "outputs": [
    {
     "name": "stdout",
     "output_type": "stream",
     "text": [
      "I want to become a Data Scientist\n"
     ]
    }
   ],
   "source": [
    "#read\n",
    "with open('data_scientist.txt', 'r') as file:\n",
    "    contents = file.read()\n",
    "    print(contents)"
   ]
  },
  {
   "cell_type": "markdown",
   "id": "2d85fcf4-a1d6-4c7b-a52f-a3a75900428c",
   "metadata": {},
   "source": [
    "#readline(): This method reads a single line of a file. Each time it is called, it reads the next line of the file. If it reaches the end of the file, it returns an empty string."
   ]
  },
  {
   "cell_type": "code",
   "execution_count": 6,
   "id": "4321e861-339a-4be8-a4e3-ff5380e4b1ee",
   "metadata": {},
   "outputs": [
    {
     "name": "stdout",
     "output_type": "stream",
     "text": [
      "I want to become a Data Scientist\n"
     ]
    }
   ],
   "source": [
    "with open(\"data_scientist.txt\", \"r\") as file:\n",
    "    line = file.readline()\n",
    "    print(line)"
   ]
  },
  {
   "cell_type": "markdown",
   "id": "8e28fbcb-c4b0-4b3e-bf31-8e5b7b351406",
   "metadata": {},
   "source": [
    "#readlines(): This method reads all the lines of a file into a list. Each element in the list is a string representing a line in the file.\n"
   ]
  },
  {
   "cell_type": "code",
   "execution_count": 7,
   "id": "b5f30101-a4b7-4208-b504-f43ae928ed9b",
   "metadata": {},
   "outputs": [
    {
     "name": "stdout",
     "output_type": "stream",
     "text": [
      "I want to become a Data Scientist\n"
     ]
    }
   ],
   "source": [
    "with open(\"data_scientist.txt\", \"r\") as file:\n",
    "    lines = file.readlines()\n",
    "    for line in lines:\n",
    "        print(line)\n"
   ]
  },
  {
   "cell_type": "markdown",
   "id": "6fcac58f-8348-4bea-97d4-3c4a060a9ee4",
   "metadata": {},
   "source": [
    "#Q5. Explain why with statement is used with open(). What is the advantage of using with statement and\n",
    "open() together?"
   ]
  },
  {
   "cell_type": "markdown",
   "id": "98533b99-01c8-41be-9cc6-d476b8ff6717",
   "metadata": {},
   "source": [
    "#Ans5. In Python, the with statement is used in conjunction with the open() function to open and close files. The with statement ensures that the file is automatically closed once the block of code inside it has finished executing, even if an exception is raised.\n",
    "\n",
    "Using the with statement has several advantages over manually opening and closing a file:\n",
    "\n",
    "Automatic Resource Management: The with statement automatically takes care of closing the file, so you don't have to worry about closing the file manually. This ensures that system resources are properly released and can improve the performance of your code.\n",
    "\n",
    "Cleaner Code: The with statement makes your code more concise and readable. It eliminates the need for a separate try-finally block to ensure that the file is closed properly.\n",
    "\n",
    "Error Handling: The with statement makes it easier to handle errors that might occur while reading or writing to a file. If an error occurs, the with statement automatically closes the file and raises an exception, so you can catch and handle the error in your code."
   ]
  },
  {
   "cell_type": "markdown",
   "id": "929fc5b6-c41d-4ba8-949b-e073b9ebc841",
   "metadata": {},
   "source": [
    "#Q6. Explain the write() and writelines() functions. Give a suitable example."
   ]
  },
  {
   "cell_type": "markdown",
   "id": "3118c7e1-c359-482c-99c4-8f394b12ef36",
   "metadata": {},
   "source": [
    "#Ans6.  In Python, the write() and writelines() functions are used to write data to a file."
   ]
  },
  {
   "cell_type": "markdown",
   "id": "3099934e-edee-4a23-bd2e-a5dc8f7f0a70",
   "metadata": {},
   "source": [
    "#write() function: The write() function is used to write a single string to a file. If the file does not exist, it will be created. If it does exist, the existing contents of the file will be overwritten."
   ]
  },
  {
   "cell_type": "code",
   "execution_count": 9,
   "id": "7b0c9991-5ad2-4298-b19f-ff0e8dc45005",
   "metadata": {},
   "outputs": [],
   "source": [
    "with open('example.txt', 'w') as file:\n",
    "    file.write('Hello, World!\\n')"
   ]
  },
  {
   "cell_type": "markdown",
   "id": "6306e7f1-2db1-4734-99d9-504a940b5d7c",
   "metadata": {},
   "source": [
    "#writelines() function: The writelines() function is used to write a list of strings to a file. Each string in the list is written to the file as a separate line. If the file does not exist, it will be created. If it does exist, the existing contents of the file will be overwritten."
   ]
  },
  {
   "cell_type": "code",
   "execution_count": 10,
   "id": "99f06047-cf0a-40cd-9101-27a5f10aca9a",
   "metadata": {},
   "outputs": [],
   "source": [
    "lines = ['I want to become a Data Scientist\\n', 'I love programming\\n', 'Python is my favorite language\\n']\n",
    "with open('example.txt', 'w') as file:\n",
    "    file.writelines(lines)"
   ]
  },
  {
   "cell_type": "markdown",
   "id": "7ea6bb68-25c9-4576-bee0-7d356278c9ed",
   "metadata": {},
   "source": [
    "# Thanks you!!!!!"
   ]
  }
 ],
 "metadata": {
  "kernelspec": {
   "display_name": "Python 3 (ipykernel)",
   "language": "python",
   "name": "python3"
  },
  "language_info": {
   "codemirror_mode": {
    "name": "ipython",
    "version": 3
   },
   "file_extension": ".py",
   "mimetype": "text/x-python",
   "name": "python",
   "nbconvert_exporter": "python",
   "pygments_lexer": "ipython3",
   "version": "3.10.8"
  }
 },
 "nbformat": 4,
 "nbformat_minor": 5
}
