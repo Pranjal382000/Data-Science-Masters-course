{
 "cells": [
  {
   "cell_type": "markdown",
   "id": "2ffd761f-59de-43f2-9c83-f484ab1781d0",
   "metadata": {},
   "source": [
    "#Q1. Explain why we have to use the Exception class while creating a Custom Exception."
   ]
  },
  {
   "cell_type": "markdown",
   "id": "f06ad19c-528b-40d2-b5c7-53a811406dc2",
   "metadata": {},
   "source": [
    "#Ans1. When creating a custom exception in a programming language such as Python, it is recommended to inherit from the built-in Exception class rather than creating a completely new class from scratch.\n",
    "\n",
    "The reason for this is that the Exception class already provides a lot of useful functionality for handling and raising exceptions, such as providing a message to explain what went wrong, a stack trace to show where the error occurred, and the ability to catch and handle the exception in a try-except block."
   ]
  },
  {
   "cell_type": "markdown",
   "id": "02a450b8-9b12-4f45-be96-8ce0607c3607",
   "metadata": {},
   "source": [
    "#Q2. Write a python program to print Python Exception Hierarchy."
   ]
  },
  {
   "cell_type": "markdown",
   "id": "82bcaba3-b766-4a55-8f99-bf0a3f055a82",
   "metadata": {},
   "source": [
    "#Ans2. "
   ]
  },
  {
   "cell_type": "code",
   "execution_count": 1,
   "id": "c2513cd3-ac2c-4eaa-8221-d4e49c71bf07",
   "metadata": {},
   "outputs": [],
   "source": [
    "def print_exception_hierarchy(exception_class, indent=0):\n",
    "    print(' ' * indent + exception_class.__name__)\n",
    "    for subclass in exception_class.__subclasses__():\n",
    "        print_exception_hierarchy(subclass, indent + 4)"
   ]
  },
  {
   "cell_type": "code",
   "execution_count": 2,
   "id": "90a7ef4e-5a80-43e3-a4ba-d39b939483e1",
   "metadata": {},
   "outputs": [
    {
     "name": "stdout",
     "output_type": "stream",
     "text": [
      "Exception\n",
      "    TypeError\n",
      "        FloatOperation\n",
      "        MultipartConversionError\n",
      "    StopAsyncIteration\n",
      "    StopIteration\n",
      "    ImportError\n",
      "        ModuleNotFoundError\n",
      "        ZipImportError\n",
      "    OSError\n",
      "        ConnectionError\n",
      "            BrokenPipeError\n",
      "            ConnectionAbortedError\n",
      "            ConnectionRefusedError\n",
      "            ConnectionResetError\n",
      "                RemoteDisconnected\n",
      "        BlockingIOError\n",
      "        ChildProcessError\n",
      "        FileExistsError\n",
      "        FileNotFoundError\n",
      "        IsADirectoryError\n",
      "        NotADirectoryError\n",
      "        InterruptedError\n",
      "            InterruptedSystemCall\n",
      "        PermissionError\n",
      "        ProcessLookupError\n",
      "        TimeoutError\n",
      "        UnsupportedOperation\n",
      "        itimer_error\n",
      "        herror\n",
      "        gaierror\n",
      "        SSLError\n",
      "            SSLCertVerificationError\n",
      "            SSLZeroReturnError\n",
      "            SSLWantWriteError\n",
      "            SSLWantReadError\n",
      "            SSLSyscallError\n",
      "            SSLEOFError\n",
      "        Error\n",
      "            SameFileError\n",
      "        SpecialFileError\n",
      "        ExecError\n",
      "        ReadError\n",
      "        URLError\n",
      "            HTTPError\n",
      "            ContentTooShortError\n",
      "        BadGzipFile\n",
      "    EOFError\n",
      "        IncompleteReadError\n",
      "    RuntimeError\n",
      "        RecursionError\n",
      "        NotImplementedError\n",
      "            ZMQVersionError\n",
      "            StdinNotImplementedError\n",
      "        _DeadlockError\n",
      "        BrokenBarrierError\n",
      "        BrokenExecutor\n",
      "            BrokenThreadPool\n",
      "        SendfileNotAvailableError\n",
      "        ExtractionError\n",
      "        VariableError\n",
      "    NameError\n",
      "        UnboundLocalError\n",
      "    AttributeError\n",
      "        FrozenInstanceError\n",
      "    SyntaxError\n",
      "        IndentationError\n",
      "            TabError\n",
      "    LookupError\n",
      "        IndexError\n",
      "        KeyError\n",
      "            NoSuchKernel\n",
      "            UnknownBackend\n",
      "        CodecRegistryError\n",
      "    ValueError\n",
      "        UnicodeError\n",
      "            UnicodeEncodeError\n",
      "            UnicodeDecodeError\n",
      "            UnicodeTranslateError\n",
      "        UnsupportedOperation\n",
      "        JSONDecodeError\n",
      "        SSLCertVerificationError\n",
      "        Error\n",
      "        UnsupportedDigestmodError\n",
      "        IllegalMonthError\n",
      "        IllegalWeekdayError\n",
      "        ParserError\n",
      "        ClassNotFound\n",
      "        ClipboardEmpty\n",
      "        MessageDefect\n",
      "            NoBoundaryInMultipartDefect\n",
      "            StartBoundaryNotFoundDefect\n",
      "            CloseBoundaryNotFoundDefect\n",
      "            FirstHeaderLineIsContinuationDefect\n",
      "            MisplacedEnvelopeHeaderDefect\n",
      "            MissingHeaderBodySeparatorDefect\n",
      "            MultipartInvariantViolationDefect\n",
      "            InvalidMultipartContentTransferEncodingDefect\n",
      "            UndecodableBytesDefect\n",
      "            InvalidBase64PaddingDefect\n",
      "            InvalidBase64CharactersDefect\n",
      "            InvalidBase64LengthDefect\n",
      "            HeaderDefect\n",
      "                InvalidHeaderDefect\n",
      "                HeaderMissingRequiredValue\n",
      "                NonPrintableDefect\n",
      "                ObsoleteHeaderDefect\n",
      "                NonASCIILocalPartDefect\n",
      "                InvalidDateDefect\n",
      "        MacroToEdit\n",
      "        InvalidFileException\n",
      "        UnequalIterablesError\n",
      "        InvalidVersion\n",
      "        _InvalidELFFileHeader\n",
      "        InvalidWheelFilename\n",
      "        InvalidSdistFilename\n",
      "        InvalidSpecifier\n",
      "        InvalidMarker\n",
      "        UndefinedComparison\n",
      "        UndefinedEnvironmentName\n",
      "        InvalidRequirement\n",
      "            RequirementParseError\n",
      "        InvalidVersion\n",
      "    AssertionError\n",
      "    ArithmeticError\n",
      "        FloatingPointError\n",
      "        OverflowError\n",
      "        ZeroDivisionError\n",
      "            DivisionByZero\n",
      "            DivisionUndefined\n",
      "        DecimalException\n",
      "            Clamped\n",
      "            Rounded\n",
      "                Underflow\n",
      "                Overflow\n",
      "            Inexact\n",
      "                Underflow\n",
      "                Overflow\n",
      "            Subnormal\n",
      "                Underflow\n",
      "            DivisionByZero\n",
      "            FloatOperation\n",
      "            InvalidOperation\n",
      "                ConversionSyntax\n",
      "                DivisionImpossible\n",
      "                DivisionUndefined\n",
      "                InvalidContext\n",
      "    SystemError\n",
      "        CodecRegistryError\n",
      "    ReferenceError\n",
      "    MemoryError\n",
      "    BufferError\n",
      "    Warning\n",
      "        UserWarning\n",
      "            GetPassWarning\n",
      "            FormatterWarning\n",
      "        EncodingWarning\n",
      "        DeprecationWarning\n",
      "            ProvisionalWarning\n",
      "        PendingDeprecationWarning\n",
      "        SyntaxWarning\n",
      "        RuntimeWarning\n",
      "            ProactorSelectorThreadWarning\n",
      "            UnknownTimezoneWarning\n",
      "            PEP440Warning\n",
      "        FutureWarning\n",
      "            ProvisionalCompleterWarning\n",
      "        ImportWarning\n",
      "        UnicodeWarning\n",
      "        BytesWarning\n",
      "        ResourceWarning\n",
      "        DeprecatedTzFormatWarning\n",
      "        PkgResourcesDeprecationWarning\n",
      "    _OptionError\n",
      "    _Error\n",
      "    error\n",
      "    Verbose\n",
      "    Error\n",
      "    SubprocessError\n",
      "        CalledProcessError\n",
      "        TimeoutExpired\n",
      "    TokenError\n",
      "    StopTokenizing\n",
      "    ClassFoundException\n",
      "    EndOfBlock\n",
      "    TraitError\n",
      "    Error\n",
      "    Error\n",
      "        CancelledError\n",
      "        TimeoutError\n",
      "        InvalidStateError\n",
      "    _GiveupOnSendfile\n",
      "    error\n",
      "    Incomplete\n",
      "    TimeoutError\n",
      "    InvalidStateError\n",
      "    LimitOverrunError\n",
      "    QueueEmpty\n",
      "    QueueFull\n",
      "    Empty\n",
      "    Full\n",
      "    ArgumentError\n",
      "    ZMQBaseError\n",
      "        ZMQError\n",
      "            ContextTerminated\n",
      "            Again\n",
      "            InterruptedSystemCall\n",
      "        ZMQBindError\n",
      "        NotDone\n",
      "    PickleError\n",
      "        PicklingError\n",
      "        UnpicklingError\n",
      "    _Stop\n",
      "    ArgumentError\n",
      "    ArgumentTypeError\n",
      "    ConfigError\n",
      "        ConfigLoaderError\n",
      "            ArgumentError\n",
      "        ConfigFileNotFound\n",
      "    ConfigurableError\n",
      "        MultipleInstanceError\n",
      "    ApplicationError\n",
      "    error\n",
      "    TimeoutError\n",
      "    error\n",
      "    ReturnValueIgnoredError\n",
      "    KeyReuseError\n",
      "    UnknownKeyError\n",
      "    LeakedCallbackError\n",
      "    BadYieldError\n",
      "    ReturnValueIgnoredError\n",
      "    Return\n",
      "    InvalidPortNumber\n",
      "    error\n",
      "    LZMAError\n",
      "    RegistryError\n",
      "    _GiveupOnFastCopy\n",
      "    Error\n",
      "        NoSectionError\n",
      "        DuplicateSectionError\n",
      "        DuplicateOptionError\n",
      "        NoOptionError\n",
      "        InterpolationError\n",
      "            InterpolationMissingOptionError\n",
      "            InterpolationSyntaxError\n",
      "            InterpolationDepthError\n",
      "        ParsingError\n",
      "            MissingSectionHeaderError\n",
      "    NoIPAddresses\n",
      "    BadZipFile\n",
      "    LargeZipFile\n",
      "    BadEntryPoint\n",
      "    NoSuchEntryPoint\n",
      "    DuplicateKernelError\n",
      "    ErrorDuringImport\n",
      "    NotOneValueFound\n",
      "    CannotEval\n",
      "    OptionError\n",
      "    BdbQuit\n",
      "    Restart\n",
      "    ExceptionPexpect\n",
      "        EOF\n",
      "        TIMEOUT\n",
      "    PtyProcessError\n",
      "    FindCmdError\n",
      "    HomeDirError\n",
      "    ProfileDirError\n",
      "    IPythonCoreError\n",
      "        TryNext\n",
      "        UsageError\n",
      "        StdinNotImplementedError\n",
      "    InputRejected\n",
      "    GetoptError\n",
      "    ErrorToken\n",
      "    PrefilterError\n",
      "    AliasError\n",
      "        InvalidAliasError\n",
      "    Error\n",
      "        InterfaceError\n",
      "        DatabaseError\n",
      "            InternalError\n",
      "            OperationalError\n",
      "            ProgrammingError\n",
      "            IntegrityError\n",
      "            DataError\n",
      "            NotSupportedError\n",
      "    Warning\n",
      "    SpaceInInput\n",
      "    DOMException\n",
      "        IndexSizeErr\n",
      "        DomstringSizeErr\n",
      "        HierarchyRequestErr\n",
      "        WrongDocumentErr\n",
      "        InvalidCharacterErr\n",
      "        NoDataAllowedErr\n",
      "        NoModificationAllowedErr\n",
      "        NotFoundErr\n",
      "        NotSupportedErr\n",
      "        InuseAttributeErr\n",
      "        InvalidStateErr\n",
      "        SyntaxErr\n",
      "        InvalidModificationErr\n",
      "        NamespaceErr\n",
      "        InvalidAccessErr\n",
      "        ValidationErr\n",
      "    ValidationError\n",
      "    EditReadOnlyBuffer\n",
      "    _Retry\n",
      "    InvalidLayoutError\n",
      "    HeightIsUnknownError\n",
      "    ParserSyntaxError\n",
      "    InternalParseError\n",
      "    _PositionUpdatingFinished\n",
      "    SimpleGetItemNotFound\n",
      "    UncaughtAttributeError\n",
      "    HasNoContext\n",
      "    ParamIssue\n",
      "    _JediError\n",
      "        InternalError\n",
      "        WrongVersion\n",
      "        RefactoringError\n",
      "    OnErrorLeaf\n",
      "    InvalidPythonEnvironment\n",
      "    MessageError\n",
      "        MessageParseError\n",
      "            HeaderParseError\n",
      "            BoundaryError\n",
      "        MultipartConversionError\n",
      "        CharsetError\n",
      "    Error\n",
      "    HTTPException\n",
      "        NotConnected\n",
      "        InvalidURL\n",
      "        UnknownProtocol\n",
      "        UnknownTransferEncoding\n",
      "        UnimplementedFileMode\n",
      "        IncompleteRead\n",
      "        ImproperConnectionState\n",
      "            CannotSendRequest\n",
      "            CannotSendHeader\n",
      "            ResponseNotReady\n",
      "        BadStatusLine\n",
      "            RemoteDisconnected\n",
      "        LineTooLong\n",
      "    InteractivelyDefined\n",
      "    KillEmbedded\n",
      "    Error\n",
      "        NoSuchProcess\n",
      "            ZombieProcess\n",
      "        AccessDenied\n",
      "        TimeoutExpired\n",
      "    _Ipv6UnsupportedError\n",
      "    QueueEmpty\n",
      "    QueueFull\n",
      "    DebuggerInitializationError\n",
      "    ExpatError\n",
      "    Error\n",
      "        ProtocolError\n",
      "        ResponseError\n",
      "        Fault\n",
      "    ParseBaseException\n",
      "        ParseException\n",
      "        ParseFatalException\n",
      "            ParseSyntaxException\n",
      "    RecursiveGrammarException\n",
      "    ResolutionError\n",
      "        VersionConflict\n",
      "            ContextualVersionConflict\n",
      "        DistributionNotFound\n",
      "        UnknownExtra\n",
      "    _Error\n",
      "    UnableToResolveVariableException\n",
      "    InvalidTypeInArgsException\n"
     ]
    }
   ],
   "source": [
    "print_exception_hierarchy(Exception)"
   ]
  },
  {
   "cell_type": "markdown",
   "id": "1f33e03b-b0d9-447a-a9cd-0e8b4337403a",
   "metadata": {},
   "source": [
    "#Q3. What errors are defined in the ArithmeticError class? Explain any two with an example."
   ]
  },
  {
   "cell_type": "markdown",
   "id": "1634c4c3-c664-4ca1-ae61-8b887b57110d",
   "metadata": {},
   "source": [
    "#Ans3. The ArithmeticError is a built-in exception class in Python that is raised when an arithmetic operation fails. It is a superclass of several other built-in exception classes, each of which represents a specific type of arithmetic error.\n",
    "\n",
    "Two commonly raised exceptions that are subclasses of ArithmeticError are:\n",
    "\n"
   ]
  },
  {
   "cell_type": "markdown",
   "id": "73fb0df5-8e77-4565-bf59-2018e3e49c06",
   "metadata": {},
   "source": [
    "#ZeroDivisionError: This exception is raised when you attempt to divide a number by zero. For example:"
   ]
  },
  {
   "cell_type": "code",
   "execution_count": 3,
   "id": "e374d69d-741b-4b3e-9b3a-91cf2a996574",
   "metadata": {},
   "outputs": [
    {
     "ename": "ZeroDivisionError",
     "evalue": "division by zero",
     "output_type": "error",
     "traceback": [
      "\u001b[0;31m---------------------------------------------------------------------------\u001b[0m",
      "\u001b[0;31mZeroDivisionError\u001b[0m                         Traceback (most recent call last)",
      "Cell \u001b[0;32mIn[3], line 3\u001b[0m\n\u001b[1;32m      1\u001b[0m x \u001b[38;5;241m=\u001b[39m \u001b[38;5;241m10\u001b[39m\n\u001b[1;32m      2\u001b[0m y \u001b[38;5;241m=\u001b[39m \u001b[38;5;241m0\u001b[39m\n\u001b[0;32m----> 3\u001b[0m z \u001b[38;5;241m=\u001b[39m \u001b[43mx\u001b[49m\u001b[43m \u001b[49m\u001b[38;5;241;43m/\u001b[39;49m\u001b[43m \u001b[49m\u001b[43my\u001b[49m\n",
      "\u001b[0;31mZeroDivisionError\u001b[0m: division by zero"
     ]
    }
   ],
   "source": [
    "x = 10\n",
    "y = 0\n",
    "z = x / y"
   ]
  },
  {
   "cell_type": "markdown",
   "id": "1151c8d6-0d7c-4a1e-bcbc-49840f7be503",
   "metadata": {},
   "source": [
    "#OverflowError: This error occurs when the result of an arithmetic operation is too large to be represented by the data type being used. For example, the following code will raise an OverflowError:"
   ]
  },
  {
   "cell_type": "code",
   "execution_count": 7,
   "id": "54b85ddb-6100-4762-af5b-0325a4e0dde2",
   "metadata": {},
   "outputs": [
    {
     "ename": "ValueError",
     "evalue": "Exceeds the limit (4300) for integer string conversion; use sys.set_int_max_str_digits() to increase the limit",
     "output_type": "error",
     "traceback": [
      "\u001b[0;31m---------------------------------------------------------------------------\u001b[0m",
      "\u001b[0;31mValueError\u001b[0m                                Traceback (most recent call last)",
      "Cell \u001b[0;32mIn[7], line 2\u001b[0m\n\u001b[1;32m      1\u001b[0m x \u001b[38;5;241m=\u001b[39m \u001b[38;5;241m2\u001b[39m \u001b[38;5;241m*\u001b[39m\u001b[38;5;241m*\u001b[39m \u001b[38;5;241m100000000\u001b[39m\n\u001b[0;32m----> 2\u001b[0m \u001b[38;5;28;43mprint\u001b[39;49m\u001b[43m(\u001b[49m\u001b[43mx\u001b[49m\u001b[43m)\u001b[49m\n",
      "\u001b[0;31mValueError\u001b[0m: Exceeds the limit (4300) for integer string conversion; use sys.set_int_max_str_digits() to increase the limit"
     ]
    }
   ],
   "source": [
    "x = 2 ** 100000000\n",
    "print(x)"
   ]
  },
  {
   "cell_type": "markdown",
   "id": "d440e39d-4ab9-4fa0-a362-b81f99d4afbf",
   "metadata": {},
   "source": [
    "#Q4. Why LookupError class is used? Explain with an example KeyError and IndexError."
   ]
  },
  {
   "cell_type": "markdown",
   "id": "f6823b11-cd50-4a59-a4fe-9e12ffb9cf14",
   "metadata": {},
   "source": [
    "#Ans4. The LookupError class in Python is a base class for exceptions that occur when a lookup operation fails. This includes errors that occur when you try to access an element of a sequence (like a list or tuple) or a mapping (like a dictionary) that does not exist."
   ]
  },
  {
   "cell_type": "markdown",
   "id": "59e389ec-7853-4cf2-b31f-2f183d7ffda6",
   "metadata": {},
   "source": [
    "#KeyError: This error occurs when you try to access a key in a dictionary that does not exist. For example:"
   ]
  },
  {
   "cell_type": "code",
   "execution_count": 8,
   "id": "8708de78-50fb-4dd8-af65-ec4fe9891fc0",
   "metadata": {},
   "outputs": [
    {
     "ename": "KeyError",
     "evalue": "'d'",
     "output_type": "error",
     "traceback": [
      "\u001b[0;31m---------------------------------------------------------------------------\u001b[0m",
      "\u001b[0;31mKeyError\u001b[0m                                  Traceback (most recent call last)",
      "Cell \u001b[0;32mIn[8], line 2\u001b[0m\n\u001b[1;32m      1\u001b[0m d \u001b[38;5;241m=\u001b[39m {\u001b[38;5;124m'\u001b[39m\u001b[38;5;124ma\u001b[39m\u001b[38;5;124m'\u001b[39m: \u001b[38;5;241m1\u001b[39m, \u001b[38;5;124m'\u001b[39m\u001b[38;5;124mb\u001b[39m\u001b[38;5;124m'\u001b[39m: \u001b[38;5;241m2\u001b[39m, \u001b[38;5;124m'\u001b[39m\u001b[38;5;124mc\u001b[39m\u001b[38;5;124m'\u001b[39m: \u001b[38;5;241m3\u001b[39m}\n\u001b[0;32m----> 2\u001b[0m \u001b[38;5;28mprint\u001b[39m(\u001b[43md\u001b[49m\u001b[43m[\u001b[49m\u001b[38;5;124;43m'\u001b[39;49m\u001b[38;5;124;43md\u001b[39;49m\u001b[38;5;124;43m'\u001b[39;49m\u001b[43m]\u001b[49m)\n",
      "\u001b[0;31mKeyError\u001b[0m: 'd'"
     ]
    }
   ],
   "source": [
    "d = {'a': 1, 'b': 2, 'c': 3}\n",
    "print(d['d'])\n"
   ]
  },
  {
   "cell_type": "markdown",
   "id": "0ab0aeaa-a660-4814-8053-5e7fa8e7c8c4",
   "metadata": {},
   "source": [
    "#IndexError: This error occurs when you try to access an index in a sequence (like a list or tuple) that does not exist. For example:"
   ]
  },
  {
   "cell_type": "code",
   "execution_count": 9,
   "id": "096a5952-690b-49a9-8aa9-4dfe85d9aa68",
   "metadata": {},
   "outputs": [
    {
     "ename": "IndexError",
     "evalue": "list index out of range",
     "output_type": "error",
     "traceback": [
      "\u001b[0;31m---------------------------------------------------------------------------\u001b[0m",
      "\u001b[0;31mIndexError\u001b[0m                                Traceback (most recent call last)",
      "Cell \u001b[0;32mIn[9], line 2\u001b[0m\n\u001b[1;32m      1\u001b[0m l \u001b[38;5;241m=\u001b[39m [\u001b[38;5;241m1\u001b[39m, \u001b[38;5;241m2\u001b[39m, \u001b[38;5;241m3\u001b[39m]\n\u001b[0;32m----> 2\u001b[0m \u001b[38;5;28mprint\u001b[39m(\u001b[43ml\u001b[49m\u001b[43m[\u001b[49m\u001b[38;5;241;43m3\u001b[39;49m\u001b[43m]\u001b[49m)\n",
      "\u001b[0;31mIndexError\u001b[0m: list index out of range"
     ]
    }
   ],
   "source": [
    "l = [1, 2, 3]\n",
    "print(l[3])"
   ]
  },
  {
   "cell_type": "markdown",
   "id": "acac4fab-ebe0-426b-9583-ccf61cc4a23c",
   "metadata": {},
   "source": [
    "#Q5. Explain ImportError. What is ModuleNotFoundError?"
   ]
  },
  {
   "cell_type": "markdown",
   "id": "05ba30bf-aab2-4e09-9435-5ef9153c983f",
   "metadata": {},
   "source": [
    "#Ans5. ImportError is a built-in exception class in Python that is raised when an import statement fails to find the specified module or encounters an error while importing a module. This error can occur for several reasons, such as a misspelled module name, an incorrect path to the module, or a missing dependency."
   ]
  },
  {
   "cell_type": "markdown",
   "id": "426918e0-7649-49b4-92e9-e21efa5c71da",
   "metadata": {},
   "source": [
    "#ModuleNotFoundError exception was introduced as a subclass of ImportError. It is raised when a module is not found during an import operation. This error is more specific than the generic ImportError and provides more information about the module that could not be found.\n",
    "\n",
    "Here's an example of how ModuleNotFoundError can occur:"
   ]
  },
  {
   "cell_type": "code",
   "execution_count": 10,
   "id": "28604c96-f70f-4019-954d-647cc4a3a63c",
   "metadata": {},
   "outputs": [
    {
     "ename": "ModuleNotFoundError",
     "evalue": "No module named 'non_existent_module'",
     "output_type": "error",
     "traceback": [
      "\u001b[0;31m---------------------------------------------------------------------------\u001b[0m",
      "\u001b[0;31mModuleNotFoundError\u001b[0m                       Traceback (most recent call last)",
      "Cell \u001b[0;32mIn[10], line 1\u001b[0m\n\u001b[0;32m----> 1\u001b[0m \u001b[38;5;28;01mimport\u001b[39;00m \u001b[38;5;21;01mnon_existent_module\u001b[39;00m\n",
      "\u001b[0;31mModuleNotFoundError\u001b[0m: No module named 'non_existent_module'"
     ]
    }
   ],
   "source": [
    "import non_existent_module"
   ]
  },
  {
   "cell_type": "markdown",
   "id": "4cb4bdd4-6986-456e-b555-c291c2ce3950",
   "metadata": {},
   "source": [
    "#Q6. List down some best practices for exception handling in python."
   ]
  },
  {
   "cell_type": "markdown",
   "id": "bf717e97-9473-4a7d-8886-cc2b0d96225e",
   "metadata": {},
   "source": [
    "#Ans6. Here are some best practices for exception handling in Python:\n",
    "\n",
    "Use the appropriate exception classes: Use the built-in exception classes or create custom exceptions that accurately describe the error that occurred. Catching and handling specific exceptions allows for more fine-grained control of the program flow.\n",
    "\n",
    "Use a try-except block for critical sections of code: Wrap critical sections of code in a try-except block to catch any potential exceptions that may arise. This will allow you to handle the exception gracefully and prevent the program from crashing.\n",
    "\n",
    "Handle exceptions gracefully: When an exception is caught, handle it gracefully by logging the error message, displaying a user-friendly error message, or taking appropriate corrective action.\n",
    "\n",
    "Use finally block for cleanup operations: The finally block is executed regardless of whether an exception occurred or not. It's a good place to put any cleanup operations, such as closing files or database connections.\n",
    "\n",
    "Don't use bare except clauses: Using a bare except clause (except:) can catch any exception, including system-exiting exceptions like SystemExit and KeyboardInterrupt. Instead, catch specific exceptions or use except Exception: to catch all exceptions.\n",
    "\n",
    "Use context managers: Context managers can simplify exception handling and cleanup operations. They can be used with the with statement and automatically handle cleanup operations, even if an exception occurs.\n",
    "\n",
    "Avoid raising exceptions in finally blocks: Raising exceptions in finally blocks can lead to unexpected behavior and should be avoided. If an exception occurs in the finally block, it will replace any exception that occurred in the try or except block.\n",
    "\n",
    "Use descriptive error messages: Use descriptive error messages that clearly explain the cause of the exception and provide information on how to fix the problem. This can help with debugging and make it easier to find and fix issues.\n",
    "\n",
    "Use exception chaining: When catching an exception, consider adding the original exception as an argument to the new exception. This can help with debugging and provide more information about the cause of the error. "
   ]
  },
  {
   "cell_type": "markdown",
   "id": "ca927ba5-3d77-4d4a-821d-941b3b02fa7f",
   "metadata": {},
   "source": [
    "# Thank You!!!!"
   ]
  },
  {
   "cell_type": "code",
   "execution_count": null,
   "id": "37995226-60f2-473e-ae69-844db44d92c2",
   "metadata": {},
   "outputs": [],
   "source": []
  }
 ],
 "metadata": {
  "kernelspec": {
   "display_name": "Python 3 (ipykernel)",
   "language": "python",
   "name": "python3"
  },
  "language_info": {
   "codemirror_mode": {
    "name": "ipython",
    "version": 3
   },
   "file_extension": ".py",
   "mimetype": "text/x-python",
   "name": "python",
   "nbconvert_exporter": "python",
   "pygments_lexer": "ipython3",
   "version": "3.10.8"
  }
 },
 "nbformat": 4,
 "nbformat_minor": 5
}
