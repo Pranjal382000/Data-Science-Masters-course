{
 "cells": [
  {
   "cell_type": "code",
   "execution_count": null,
   "id": "765eabcd-743b-4e72-b2a4-fd155d5ca25b",
   "metadata": {},
   "outputs": [],
   "source": [
    "a=1"
   ]
  },
  {
   "cell_type": "code",
   "execution_count": null,
   "id": "1dcfe5ba-be15-4a33-bca0-ab1e7f0ce6e1",
   "metadata": {},
   "outputs": [],
   "source": [
    "a"
   ]
  },
  {
   "cell_type": "code",
   "execution_count": 1,
   "id": "631914ec-7f36-4653-9405-62b4c53598c4",
   "metadata": {},
   "outputs": [
    {
     "ename": "NameError",
     "evalue": "name 'a' is not defined",
     "output_type": "error",
     "traceback": [
      "\u001b[0;31m---------------------------------------------------------------------------\u001b[0m",
      "\u001b[0;31mNameError\u001b[0m                                 Traceback (most recent call last)",
      "Cell \u001b[0;32mIn[1], line 1\u001b[0m\n\u001b[0;32m----> 1\u001b[0m \u001b[38;5;28mprint\u001b[39m(\u001b[43ma\u001b[49m)\n",
      "\u001b[0;31mNameError\u001b[0m: name 'a' is not defined"
     ]
    }
   ],
   "source": [
    "print(a)"
   ]
  },
  {
   "cell_type": "code",
   "execution_count": 2,
   "id": "ad8138ac-a8dc-48cb-86ea-d2ff3bc229b0",
   "metadata": {},
   "outputs": [
    {
     "name": "stdout",
     "output_type": "stream",
     "text": [
      "5\n"
     ]
    }
   ],
   "source": [
    "a=5\n",
    "print(a)"
   ]
  },
  {
   "cell_type": "code",
   "execution_count": 3,
   "id": "3976d8df-d830-413d-b683-5b4b5937df1a",
   "metadata": {},
   "outputs": [
    {
     "data": {
      "text/plain": [
       "123"
      ]
     },
     "execution_count": 3,
     "metadata": {},
     "output_type": "execute_result"
    }
   ],
   "source": [
    "int(123)"
   ]
  },
  {
   "cell_type": "code",
   "execution_count": 4,
   "id": "c927f8d1-7ff0-490d-841d-86fe6ff3fb6e",
   "metadata": {},
   "outputs": [
    {
     "data": {
      "text/plain": [
       "int"
      ]
     },
     "execution_count": 4,
     "metadata": {},
     "output_type": "execute_result"
    }
   ],
   "source": [
    "type(int(123))"
   ]
  },
  {
   "cell_type": "code",
   "execution_count": 5,
   "id": "ee4a36fa-22ae-491b-8d6c-cc8745be7381",
   "metadata": {},
   "outputs": [
    {
     "data": {
      "text/plain": [
       "int"
      ]
     },
     "execution_count": 5,
     "metadata": {},
     "output_type": "execute_result"
    }
   ],
   "source": [
    "type(123)"
   ]
  },
  {
   "cell_type": "code",
   "execution_count": 6,
   "id": "c4682720-b8e3-4999-a82b-c387d33986bd",
   "metadata": {},
   "outputs": [
    {
     "ename": "NameError",
     "evalue": "name 'abcd' is not defined",
     "output_type": "error",
     "traceback": [
      "\u001b[0;31m---------------------------------------------------------------------------\u001b[0m",
      "\u001b[0;31mNameError\u001b[0m                                 Traceback (most recent call last)",
      "Cell \u001b[0;32mIn[6], line 1\u001b[0m\n\u001b[0;32m----> 1\u001b[0m \u001b[38;5;28mtype\u001b[39m(\u001b[43mabcd\u001b[49m)\n",
      "\u001b[0;31mNameError\u001b[0m: name 'abcd' is not defined"
     ]
    }
   ],
   "source": [
    "type(abcd)"
   ]
  },
  {
   "cell_type": "code",
   "execution_count": 7,
   "id": "32f1d89a-8c12-4139-8826-8f146e197be0",
   "metadata": {},
   "outputs": [
    {
     "data": {
      "text/plain": [
       "float"
      ]
     },
     "execution_count": 7,
     "metadata": {},
     "output_type": "execute_result"
    }
   ],
   "source": [
    "type(1.5)"
   ]
  },
  {
   "cell_type": "code",
   "execution_count": 8,
   "id": "dfea03b7-c0c3-4039-b5f4-11a0098156d9",
   "metadata": {},
   "outputs": [
    {
     "name": "stdin",
     "output_type": "stream",
     "text": [
      "1000 1000\n"
     ]
    }
   ],
   "source": [
    "price = input(1000)"
   ]
  },
  {
   "cell_type": "code",
   "execution_count": 68,
   "id": "f8d8de05-ada6-48e5-9b5a-7f7608fb8aad",
   "metadata": {},
   "outputs": [
    {
     "name": "stdin",
     "output_type": "stream",
     "text": [
      "The price is  500\n"
     ]
    },
    {
     "name": "stdout",
     "output_type": "stream",
     "text": [
      "You are lucky\n"
     ]
    }
   ],
   "source": [
    "price = int(input(\"The price is \"))\n",
    "if price<=1000:\n",
    "    print(\"You are lucky\")"
   ]
  },
  {
   "cell_type": "code",
   "execution_count": 37,
   "id": "029837d1-9c48-4bf8-8de7-6520ef44437e",
   "metadata": {},
   "outputs": [
    {
     "name": "stdout",
     "output_type": "stream",
     "text": [
      "*\n",
      "**\n",
      "***\n",
      "****\n",
      "*****\n",
      "******\n",
      "*******\n"
     ]
    }
   ],
   "source": [
    "n=7\n",
    "\n",
    "for i in range(0,n):\n",
    "    for j in range (0,i+1):\n",
    "        print (\"*\", end=\"\")\n",
    "    print (\"\\r\")"
   ]
  },
  {
   "cell_type": "code",
   "execution_count": 65,
   "id": "273de55f-71f7-4999-bde2-2a18aa927a81",
   "metadata": {},
   "outputs": [
    {
     "name": "stdout",
     "output_type": "stream",
     "text": [
      "****************************"
     ]
    }
   ],
   "source": [
    "n=7\n",
    "\n",
    "for i in range(0,n):\n",
    "    for j in range(0,i+1):\n",
    "        print(\"*\", end=\"\")"
   ]
  },
  {
   "cell_type": "code",
   "execution_count": 66,
   "id": "65748912-0920-4536-b826-ddd8e1f4d71d",
   "metadata": {},
   "outputs": [
    {
     "ename": "NameError",
     "evalue": "name 'lst' is not defined",
     "output_type": "error",
     "traceback": [
      "\u001b[0;31m---------------------------------------------------------------------------\u001b[0m",
      "\u001b[0;31mNameError\u001b[0m                                 Traceback (most recent call last)",
      "Cell \u001b[0;32mIn[66], line 1\u001b[0m\n\u001b[0;32m----> 1\u001b[0m \u001b[43mlst\u001b[49m(\u001b[38;5;241m1\u001b[39m,\u001b[38;5;241m2\u001b[39m,\u001b[38;5;241m3\u001b[39m,mango,kela)\n",
      "\u001b[0;31mNameError\u001b[0m: name 'lst' is not defined"
     ]
    }
   ],
   "source": [
    "lst(1,2,3,mango,kela)"
   ]
  },
  {
   "cell_type": "code",
   "execution_count": 67,
   "id": "9b146bc2-2e3f-4f0d-809b-8410ec3f4d9d",
   "metadata": {},
   "outputs": [
    {
     "ename": "NameError",
     "evalue": "name 'lst' is not defined",
     "output_type": "error",
     "traceback": [
      "\u001b[0;31m---------------------------------------------------------------------------\u001b[0m",
      "\u001b[0;31mNameError\u001b[0m                                 Traceback (most recent call last)",
      "Cell \u001b[0;32mIn[67], line 1\u001b[0m\n\u001b[0;32m----> 1\u001b[0m \u001b[38;5;28mtype\u001b[39m(\u001b[43mlst\u001b[49m)\n",
      "\u001b[0;31mNameError\u001b[0m: name 'lst' is not defined"
     ]
    }
   ],
   "source": [
    "type(lst)"
   ]
  },
  {
   "cell_type": "code",
   "execution_count": 69,
   "id": "cfcbf977-5860-4ac8-ae07-522ebbf3d8a0",
   "metadata": {},
   "outputs": [
    {
     "ename": "SyntaxError",
     "evalue": "incomplete input (1268902882.py, line 5)",
     "output_type": "error",
     "traceback": [
      "\u001b[0;36m  Cell \u001b[0;32mIn[69], line 5\u001b[0;36m\u001b[0m\n\u001b[0;31m    \u001b[0m\n\u001b[0m    ^\u001b[0m\n\u001b[0;31mSyntaxError\u001b[0m\u001b[0;31m:\u001b[0m incomplete input\n"
     ]
    }
   ],
   "source": [
    "lst(1,2,3,4,a,b,c,d)\n",
    "for i in lst (\n",
    "    \n",
    "    \n",
    "    "
   ]
  },
  {
   "cell_type": "code",
   "execution_count": 1,
   "id": "80833df2-5707-4b74-9aec-769721e7aa5e",
   "metadata": {},
   "outputs": [
    {
     "name": "stdin",
     "output_type": "stream",
     "text": [
      "my name is  Pranjal\n"
     ]
    },
    {
     "ename": "NameError",
     "evalue": "name 'Pranjal' is not defined",
     "output_type": "error",
     "traceback": [
      "\u001b[0;31m---------------------------------------------------------------------------\u001b[0m",
      "\u001b[0;31mNameError\u001b[0m                                 Traceback (most recent call last)",
      "Cell \u001b[0;32mIn[1], line 2\u001b[0m\n\u001b[1;32m      1\u001b[0m name\u001b[38;5;241m=\u001b[39m \u001b[38;5;28mstr\u001b[39m(\u001b[38;5;28minput\u001b[39m(\u001b[38;5;124m\"\u001b[39m\u001b[38;5;124mmy name is \u001b[39m\u001b[38;5;124m\"\u001b[39m))\n\u001b[0;32m----> 2\u001b[0m \u001b[38;5;28;01mif\u001b[39;00m name\u001b[38;5;241m==\u001b[39m\u001b[43mPranjal\u001b[49m:\n\u001b[1;32m      3\u001b[0m     \u001b[38;5;28mprint\u001b[39m(\u001b[38;5;124m\"\u001b[39m\u001b[38;5;124mYou are awesome\u001b[39m\u001b[38;5;124m\"\u001b[39m)\n",
      "\u001b[0;31mNameError\u001b[0m: name 'Pranjal' is not defined"
     ]
    }
   ],
   "source": [
    "name= str(input(\"my name is \"))\n",
    "if name==Pranjal:\n",
    "    print(\"You are awesome\")"
   ]
  },
  {
   "cell_type": "markdown",
   "id": "0d27084c-11e7-44f2-af96-36aaa77c6bfb",
   "metadata": {},
   "source": [
    "#Data science course"
   ]
  },
  {
   "cell_type": "code",
   "execution_count": 6,
   "id": "c7a30034-af76-4efa-b5b8-8d75052db95d",
   "metadata": {},
   "outputs": [],
   "source": [
    "a=10"
   ]
  },
  {
   "cell_type": "code",
   "execution_count": 5,
   "id": "2d77fb13-98f4-47b7-b050-aa44c558b000",
   "metadata": {},
   "outputs": [
    {
     "data": {
      "text/plain": [
       "10"
      ]
     },
     "execution_count": 5,
     "metadata": {},
     "output_type": "execute_result"
    }
   ],
   "source": [
    "a"
   ]
  },
  {
   "cell_type": "code",
   "execution_count": 9,
   "id": "f07a1eb6-9466-4850-a34b-c32ce3cfc744",
   "metadata": {},
   "outputs": [],
   "source": [
    "Name = \"Pranjal\""
   ]
  },
  {
   "cell_type": "code",
   "execution_count": 10,
   "id": "41b8d348-2a06-4fe0-be89-c9307b18f4eb",
   "metadata": {},
   "outputs": [
    {
     "data": {
      "text/plain": [
       "'Pranjal'"
      ]
     },
     "execution_count": 10,
     "metadata": {},
     "output_type": "execute_result"
    }
   ],
   "source": [
    "Name "
   ]
  },
  {
   "cell_type": "code",
   "execution_count": 11,
   "id": "c163d575-5117-4fd5-b59f-5083d87b292e",
   "metadata": {},
   "outputs": [
    {
     "data": {
      "text/plain": [
       "2"
      ]
     },
     "execution_count": 11,
     "metadata": {},
     "output_type": "execute_result"
    }
   ],
   "source": [
    "1+1 "
   ]
  },
  {
   "cell_type": "code",
   "execution_count": 12,
   "id": "b894d36c-f7c3-4ff9-b831-3170581a53ac",
   "metadata": {},
   "outputs": [
    {
     "data": {
      "text/plain": [
       "2.5"
      ]
     },
     "execution_count": 12,
     "metadata": {},
     "output_type": "execute_result"
    }
   ],
   "source": [
    "5/2"
   ]
  },
  {
   "cell_type": "code",
   "execution_count": null,
   "id": "d7a50e0a-1eeb-454f-ab75-31ef7b3c6622",
   "metadata": {},
   "outputs": [],
   "source": []
  },
  {
   "cell_type": "code",
   "execution_count": 13,
   "id": "86133837-c531-450a-a650-f011c26fa130",
   "metadata": {},
   "outputs": [
    {
     "data": {
      "text/plain": [
       "2"
      ]
     },
     "execution_count": 13,
     "metadata": {},
     "output_type": "execute_result"
    }
   ],
   "source": [
    "5//2"
   ]
  },
  {
   "cell_type": "code",
   "execution_count": 15,
   "id": "9186ba2b-689a-415e-aa20-a7062e381ae9",
   "metadata": {},
   "outputs": [
    {
     "data": {
      "text/plain": [
       "20"
      ]
     },
     "execution_count": 15,
     "metadata": {},
     "output_type": "execute_result"
    }
   ],
   "source": [
    "##Hello Guys\n",
    "a=20\n",
    "a"
   ]
  },
  {
   "cell_type": "markdown",
   "id": "bf2e7f34-d1fc-459b-8cbd-3c406fff16a9",
   "metadata": {},
   "source": [
    "\"\"\"\n",
    "hihdsjljdvjhbsafjbs n/ bcskhbaskuhdc\n",
    "shabcfkhbsakc\n",
    "hsucjkhasjhsa\n",
    "\"\"\""
   ]
  },
  {
   "cell_type": "markdown",
   "id": "4a313ce0-b5b1-445c-9c88-15781ab0c833",
   "metadata": {},
   "source": [
    "#Hello \n",
    "\n",
    "##Hello 2\n",
    "\n",
    "###Hello 3"
   ]
  },
  {
   "cell_type": "raw",
   "id": "187096b0-588f-46ed-b8b3-2c34fe0573d8",
   "metadata": {},
   "source": [
    "a=10\n",
    "a"
   ]
  },
  {
   "cell_type": "code",
   "execution_count": 16,
   "id": "3d4ecf1b-962c-4c8f-899d-dd4e933354a5",
   "metadata": {},
   "outputs": [
    {
     "data": {
      "text/plain": [
       "10"
      ]
     },
     "execution_count": 16,
     "metadata": {},
     "output_type": "execute_result"
    }
   ],
   "source": [
    "a=10\n",
    "a"
   ]
  },
  {
   "cell_type": "code",
   "execution_count": 17,
   "id": "f99662c3-2e60-4a74-8314-2e472b0f10af",
   "metadata": {},
   "outputs": [
    {
     "data": {
      "text/plain": [
       "False"
      ]
     },
     "execution_count": 17,
     "metadata": {},
     "output_type": "execute_result"
    }
   ],
   "source": [
    "bool (0)"
   ]
  },
  {
   "cell_type": "code",
   "execution_count": 18,
   "id": "7bc3456f-dff7-41f7-8284-6a802b838928",
   "metadata": {},
   "outputs": [
    {
     "data": {
      "text/plain": [
       "True"
      ]
     },
     "execution_count": 18,
     "metadata": {},
     "output_type": "execute_result"
    }
   ],
   "source": [
    "bool (1)"
   ]
  },
  {
   "cell_type": "code",
   "execution_count": 19,
   "id": "af40c6a5-b51d-4767-ad4f-814aec2de5dc",
   "metadata": {},
   "outputs": [
    {
     "data": {
      "text/plain": [
       "True"
      ]
     },
     "execution_count": 19,
     "metadata": {},
     "output_type": "execute_result"
    }
   ],
   "source": [
    "bool (2)"
   ]
  },
  {
   "cell_type": "markdown",
   "id": "0fe2df18-0d78-44bb-b1d5-91cf59f367ea",
   "metadata": {},
   "source": [
    "### Numbers"
   ]
  },
  {
   "cell_type": "code",
   "execution_count": 20,
   "id": "ca221a4e-43a5-467b-a0f6-98be76b6b090",
   "metadata": {},
   "outputs": [
    {
     "data": {
      "text/plain": [
       "4"
      ]
     },
     "execution_count": 20,
     "metadata": {},
     "output_type": "execute_result"
    }
   ],
   "source": [
    "1+3"
   ]
  },
  {
   "cell_type": "code",
   "execution_count": 23,
   "id": "3d2c67de-3597-4f44-baea-833c10bd38a2",
   "metadata": {},
   "outputs": [
    {
     "name": "stdout",
     "output_type": "stream",
     "text": [
      "4\n"
     ]
    }
   ],
   "source": [
    "print(1+3)"
   ]
  },
  {
   "cell_type": "code",
   "execution_count": 24,
   "id": "9b59ff9f-5116-4337-adce-a3f575238ca0",
   "metadata": {},
   "outputs": [
    {
     "name": "stdout",
     "output_type": "stream",
     "text": [
      "my name is pranjal and i am 22\n"
     ]
    }
   ],
   "source": [
    "print (\"my name is pranjal and i am 22\")"
   ]
  },
  {
   "cell_type": "code",
   "execution_count": 25,
   "id": "96bd3905-ffc9-4b6b-a5bd-1dbfa5145433",
   "metadata": {},
   "outputs": [
    {
     "name": "stdout",
     "output_type": "stream",
     "text": [
      "hello world\n"
     ]
    }
   ],
   "source": [
    "print (\"hello world\")"
   ]
  },
  {
   "cell_type": "code",
   "execution_count": 29,
   "id": "e309adba-45c9-4b79-9437-133a2c133bea",
   "metadata": {},
   "outputs": [
    {
     "name": "stdout",
     "output_type": "stream",
     "text": [
      "My name is pranjal \n",
      " I am 22 \n",
      " I love trading\n"
     ]
    }
   ],
   "source": [
    "print (\"My name is pranjal \\n I am 22 \\n I love trading\")"
   ]
  },
  {
   "cell_type": "code",
   "execution_count": 30,
   "id": "b7c188f8-a4f7-4c42-acb0-3d2b33360046",
   "metadata": {},
   "outputs": [],
   "source": [
    "name= \"Pranjal\"\n",
    "company= \"Arcgate\""
   ]
  },
  {
   "cell_type": "code",
   "execution_count": 31,
   "id": "c7a194a2-4da4-4b49-ac83-3579a1f10d31",
   "metadata": {},
   "outputs": [
    {
     "data": {
      "text/plain": [
       "'Pranjal'"
      ]
     },
     "execution_count": 31,
     "metadata": {},
     "output_type": "execute_result"
    }
   ],
   "source": [
    "name "
   ]
  },
  {
   "cell_type": "code",
   "execution_count": 32,
   "id": "46a249a0-77e4-4652-ad48-4d60818de55d",
   "metadata": {},
   "outputs": [
    {
     "data": {
      "text/plain": [
       "'Arcgate'"
      ]
     },
     "execution_count": 32,
     "metadata": {},
     "output_type": "execute_result"
    }
   ],
   "source": [
    "company"
   ]
  },
  {
   "cell_type": "code",
   "execution_count": 33,
   "id": "b52414f5-821f-48bf-9d83-3c4df4e61c95",
   "metadata": {},
   "outputs": [],
   "source": [
    "name= \"sumit\"\n"
   ]
  },
  {
   "cell_type": "markdown",
   "id": "b6f4f42b-54dc-4a1f-8bc6-a7d0403af348",
   "metadata": {},
   "source": [
    "name"
   ]
  },
  {
   "cell_type": "code",
   "execution_count": 34,
   "id": "fdd78c74-8e4d-44b2-9627-8397a29349af",
   "metadata": {},
   "outputs": [
    {
     "data": {
      "text/plain": [
       "'sumit'"
      ]
     },
     "execution_count": 34,
     "metadata": {},
     "output_type": "execute_result"
    }
   ],
   "source": [
    "name"
   ]
  },
  {
   "cell_type": "code",
   "execution_count": 35,
   "id": "8cd7d54b-1051-42fd-aa62-535528801cb9",
   "metadata": {},
   "outputs": [
    {
     "data": {
      "text/plain": [
       "str"
      ]
     },
     "execution_count": 35,
     "metadata": {},
     "output_type": "execute_result"
    }
   ],
   "source": [
    "type('')"
   ]
  },
  {
   "cell_type": "code",
   "execution_count": 36,
   "id": "4be4c33e-0abb-4a08-b265-affe620445dc",
   "metadata": {},
   "outputs": [
    {
     "ename": "NameError",
     "evalue": "name 'number' is not defined",
     "output_type": "error",
     "traceback": [
      "\u001b[0;31m---------------------------------------------------------------------------\u001b[0m",
      "\u001b[0;31mNameError\u001b[0m                                 Traceback (most recent call last)",
      "Cell \u001b[0;32mIn[36], line 1\u001b[0m\n\u001b[0;32m----> 1\u001b[0m \u001b[38;5;28mtype\u001b[39m(\u001b[43mnumber\u001b[49m)\n",
      "\u001b[0;31mNameError\u001b[0m: name 'number' is not defined"
     ]
    }
   ],
   "source": [
    "type(number)"
   ]
  },
  {
   "cell_type": "code",
   "execution_count": 37,
   "id": "cac6bfff-0010-4cda-972a-eee7347796e2",
   "metadata": {},
   "outputs": [],
   "source": [
    "number = 10"
   ]
  },
  {
   "cell_type": "code",
   "execution_count": 38,
   "id": "a39698ff-50fd-404c-9ad0-36f75a47a14a",
   "metadata": {},
   "outputs": [
    {
     "data": {
      "text/plain": [
       "int"
      ]
     },
     "execution_count": 38,
     "metadata": {},
     "output_type": "execute_result"
    }
   ],
   "source": [
    "type(number)"
   ]
  },
  {
   "cell_type": "code",
   "execution_count": 39,
   "id": "aba66700-d06c-464f-b018-8021b14dc188",
   "metadata": {},
   "outputs": [
    {
     "data": {
      "text/plain": [
       "(1+2j)"
      ]
     },
     "execution_count": 39,
     "metadata": {},
     "output_type": "execute_result"
    }
   ],
   "source": [
    "1+2j"
   ]
  },
  {
   "cell_type": "code",
   "execution_count": 40,
   "id": "83fa4be8-c020-476c-ace1-7c701f3aeaab",
   "metadata": {},
   "outputs": [
    {
     "data": {
      "text/plain": [
       "complex"
      ]
     },
     "execution_count": 40,
     "metadata": {},
     "output_type": "execute_result"
    }
   ],
   "source": [
    "type(1+2j)"
   ]
  },
  {
   "cell_type": "code",
   "execution_count": 41,
   "id": "99a7ee92-f03c-40e6-be0d-d34451577780",
   "metadata": {},
   "outputs": [
    {
     "ename": "SyntaxError",
     "evalue": "invalid decimal literal (3233142308.py, line 1)",
     "output_type": "error",
     "traceback": [
      "\u001b[0;36m  Cell \u001b[0;32mIn[41], line 1\u001b[0;36m\u001b[0m\n\u001b[0;31m    1a\u001b[0m\n\u001b[0m    ^\u001b[0m\n\u001b[0;31mSyntaxError\u001b[0m\u001b[0;31m:\u001b[0m invalid decimal literal\n"
     ]
    }
   ],
   "source": [
    "1a"
   ]
  },
  {
   "cell_type": "markdown",
   "id": "57c740e5-8a72-4f5b-8410-eeb06731323d",
   "metadata": {},
   "source": [
    "# hello"
   ]
  },
  {
   "cell_type": "code",
   "execution_count": 47,
   "id": "22dd5797-a0fd-4c5d-a1e0-6960cc46f1f9",
   "metadata": {},
   "outputs": [],
   "source": [
    "company = \"ineuron\"\n",
    "Company = \"arcgate\""
   ]
  },
  {
   "cell_type": "code",
   "execution_count": 44,
   "id": "6d2ef260-660b-43c5-8a52-08cda4068cd3",
   "metadata": {},
   "outputs": [
    {
     "name": "stdout",
     "output_type": "stream",
     "text": [
      "ineuron\n"
     ]
    }
   ],
   "source": [
    "print(company)"
   ]
  },
  {
   "cell_type": "code",
   "execution_count": 48,
   "id": "e084d6d2-cc55-4591-b327-280cedb756cd",
   "metadata": {},
   "outputs": [
    {
     "name": "stdout",
     "output_type": "stream",
     "text": [
      "arcgate\n"
     ]
    }
   ],
   "source": [
    "print(Company)"
   ]
  },
  {
   "cell_type": "code",
   "execution_count": 51,
   "id": "bf5034c5-68f1-4204-aa1d-e3844b75effd",
   "metadata": {},
   "outputs": [
    {
     "data": {
      "text/plain": [
       "False"
      ]
     },
     "execution_count": 51,
     "metadata": {},
     "output_type": "execute_result"
    }
   ],
   "source": [
    "True and False"
   ]
  },
  {
   "cell_type": "code",
   "execution_count": 52,
   "id": "e1b24ffa-75f2-419a-8374-887b8692b36b",
   "metadata": {},
   "outputs": [
    {
     "data": {
      "text/plain": [
       "True"
      ]
     },
     "execution_count": 52,
     "metadata": {},
     "output_type": "execute_result"
    }
   ],
   "source": [
    "True or False"
   ]
  },
  {
   "cell_type": "raw",
   "id": "58b08c1b-cc38-41db-8cb0-b80aed3063f5",
   "metadata": {},
   "source": [
    "fruits= lst(,1,2,3,4)"
   ]
  },
  {
   "cell_type": "code",
   "execution_count": 53,
   "id": "09bc1518-822d-4810-92ad-3329f664793f",
   "metadata": {},
   "outputs": [
    {
     "ename": "NameError",
     "evalue": "name 'fruits' is not defined",
     "output_type": "error",
     "traceback": [
      "\u001b[0;31m---------------------------------------------------------------------------\u001b[0m",
      "\u001b[0;31mNameError\u001b[0m                                 Traceback (most recent call last)",
      "Cell \u001b[0;32mIn[53], line 1\u001b[0m\n\u001b[0;32m----> 1\u001b[0m \u001b[38;5;28mprint\u001b[39m(\u001b[43mfruits\u001b[49m)\n",
      "\u001b[0;31mNameError\u001b[0m: name 'fruits' is not defined"
     ]
    }
   ],
   "source": [
    "print(fruits)"
   ]
  },
  {
   "cell_type": "raw",
   "id": "e392a652-4839-4a8f-9ec9-5287621817d1",
   "metadata": {},
   "source": [
    "not True"
   ]
  },
  {
   "cell_type": "code",
   "execution_count": 55,
   "id": "982963b1-2d1f-4d48-b778-15a9f21de55e",
   "metadata": {},
   "outputs": [
    {
     "data": {
      "text/plain": [
       "False"
      ]
     },
     "execution_count": 55,
     "metadata": {},
     "output_type": "execute_result"
    }
   ],
   "source": [
    "not True"
   ]
  },
  {
   "cell_type": "raw",
   "id": "8b1f5e73-74f7-4741-be3a-28d9725823f8",
   "metadata": {},
   "source": [
    "hx"
   ]
  },
  {
   "cell_type": "code",
   "execution_count": 56,
   "id": "bf109d16-8717-47ac-8f4a-847e2e12b11f",
   "metadata": {},
   "outputs": [
    {
     "data": {
      "text/plain": [
       "bool"
      ]
     },
     "execution_count": 56,
     "metadata": {},
     "output_type": "execute_result"
    }
   ],
   "source": [
    "type(not True)"
   ]
  },
  {
   "cell_type": "code",
   "execution_count": 57,
   "id": "a60beef2-42d2-45f0-86d2-99a521e64067",
   "metadata": {},
   "outputs": [
    {
     "name": "stdout",
     "output_type": "stream",
     "text": [
      "True\n"
     ]
    }
   ],
   "source": [
    "a=1\n",
    "if bool(a)==True:\n",
    "    print(\"True\")"
   ]
  },
  {
   "cell_type": "code",
   "execution_count": 58,
   "id": "561131d0-152f-4056-8460-fcadbaedc66c",
   "metadata": {},
   "outputs": [
    {
     "data": {
      "text/plain": [
       "True"
      ]
     },
     "execution_count": 58,
     "metadata": {},
     "output_type": "execute_result"
    }
   ],
   "source": [
    "bool(a)"
   ]
  },
  {
   "cell_type": "code",
   "execution_count": 59,
   "id": "a236779f-ed59-4875-a330-d00f499e2b35",
   "metadata": {},
   "outputs": [],
   "source": [
    "a=0"
   ]
  },
  {
   "cell_type": "code",
   "execution_count": 60,
   "id": "e96acca0-a17b-44be-b79e-14bc3f736a76",
   "metadata": {},
   "outputs": [
    {
     "data": {
      "text/plain": [
       "False"
      ]
     },
     "execution_count": 60,
     "metadata": {},
     "output_type": "execute_result"
    }
   ],
   "source": [
    "bool(a)"
   ]
  },
  {
   "cell_type": "code",
   "execution_count": 61,
   "id": "efd8d4f1-0cbd-4192-a561-53ca02d2a7ce",
   "metadata": {},
   "outputs": [
    {
     "data": {
      "text/plain": [
       "1234765"
      ]
     },
     "execution_count": 61,
     "metadata": {},
     "output_type": "execute_result"
    }
   ],
   "source": [
    "int(1234765)\n",
    "int(1234765)"
   ]
  },
  {
   "cell_type": "code",
   "execution_count": 62,
   "id": "3d009c99-ce46-4576-8f69-ca928650d2a7",
   "metadata": {},
   "outputs": [
    {
     "ename": "NameError",
     "evalue": "name 'lst' is not defined",
     "output_type": "error",
     "traceback": [
      "\u001b[0;31m---------------------------------------------------------------------------\u001b[0m",
      "\u001b[0;31mNameError\u001b[0m                                 Traceback (most recent call last)",
      "Cell \u001b[0;32mIn[62], line 1\u001b[0m\n\u001b[0;32m----> 1\u001b[0m \u001b[43mlst\u001b[49m (abcd)\n\u001b[1;32m      2\u001b[0m lst2(abcd)\n",
      "\u001b[0;31mNameError\u001b[0m: name 'lst' is not defined"
     ]
    }
   ],
   "source": [
    "lst (abcd)\n",
    "lst2(abcd)"
   ]
  },
  {
   "cell_type": "code",
   "execution_count": 67,
   "id": "80563084-e492-43a0-b724-616b4d454817",
   "metadata": {},
   "outputs": [],
   "source": [
    "list=(1,2,3,4)"
   ]
  },
  {
   "cell_type": "code",
   "execution_count": 68,
   "id": "7851a51d-7d83-4c5e-a8cf-da136984b1ee",
   "metadata": {},
   "outputs": [
    {
     "data": {
      "text/plain": [
       "'11'"
      ]
     },
     "execution_count": 68,
     "metadata": {},
     "output_type": "execute_result"
    }
   ],
   "source": [
    "\"1\" + \"1\""
   ]
  },
  {
   "cell_type": "code",
   "execution_count": 69,
   "id": "b6489ab4-e6f3-493f-9730-92d214f29bd6",
   "metadata": {},
   "outputs": [
    {
     "data": {
      "text/plain": [
       "'1111111111111111111111111111111111111111111111111111111111111111111111111111111111111111111111111111'"
      ]
     },
     "execution_count": 69,
     "metadata": {},
     "output_type": "execute_result"
    }
   ],
   "source": [
    "\"1\" * 100"
   ]
  },
  {
   "cell_type": "code",
   "execution_count": 70,
   "id": "94c996c7-64bd-410a-a52c-4cf4c16e98ab",
   "metadata": {},
   "outputs": [
    {
     "ename": "SyntaxError",
     "evalue": "invalid syntax (1265913200.py, line 1)",
     "output_type": "error",
     "traceback": [
      "\u001b[0;36m  Cell \u001b[0;32mIn[70], line 1\u001b[0;36m\u001b[0m\n\u001b[0;31m    int\"1\" + int \"1\"\u001b[0m\n\u001b[0m       ^\u001b[0m\n\u001b[0;31mSyntaxError\u001b[0m\u001b[0;31m:\u001b[0m invalid syntax\n"
     ]
    }
   ],
   "source": [
    "int\"1\" + int \"1\""
   ]
  },
  {
   "cell_type": "code",
   "execution_count": 71,
   "id": "9a16394b-dcd5-4803-a722-940a90b37c17",
   "metadata": {},
   "outputs": [
    {
     "data": {
      "text/plain": [
       "2"
      ]
     },
     "execution_count": 71,
     "metadata": {},
     "output_type": "execute_result"
    }
   ],
   "source": [
    "1+1"
   ]
  },
  {
   "cell_type": "code",
   "execution_count": 72,
   "id": "ad676dc3-2d3f-4c61-a9f1-7ef6d1bc42ba",
   "metadata": {},
   "outputs": [
    {
     "data": {
      "text/plain": [
       "123"
      ]
     },
     "execution_count": 72,
     "metadata": {},
     "output_type": "execute_result"
    }
   ],
   "source": [
    "int(\"123\")"
   ]
  },
  {
   "cell_type": "code",
   "execution_count": 73,
   "id": "520ec99a-c749-406e-bdec-b68c5d507626",
   "metadata": {},
   "outputs": [
    {
     "ename": "ValueError",
     "evalue": "invalid literal for int() with base 10: 'abcd'",
     "output_type": "error",
     "traceback": [
      "\u001b[0;31m---------------------------------------------------------------------------\u001b[0m",
      "\u001b[0;31mValueError\u001b[0m                                Traceback (most recent call last)",
      "Cell \u001b[0;32mIn[73], line 1\u001b[0m\n\u001b[0;32m----> 1\u001b[0m \u001b[38;5;28;43mint\u001b[39;49m\u001b[43m(\u001b[49m\u001b[38;5;124;43m\"\u001b[39;49m\u001b[38;5;124;43mabcd\u001b[39;49m\u001b[38;5;124;43m\"\u001b[39;49m\u001b[43m)\u001b[49m\n",
      "\u001b[0;31mValueError\u001b[0m: invalid literal for int() with base 10: 'abcd'"
     ]
    }
   ],
   "source": [
    "int(\"abcd\")"
   ]
  },
  {
   "cell_type": "code",
   "execution_count": 74,
   "id": "98bd4995-7b04-4ad2-9837-ae47fb6cd945",
   "metadata": {},
   "outputs": [
    {
     "data": {
      "text/plain": [
       "4"
      ]
     },
     "execution_count": 74,
     "metadata": {},
     "output_type": "execute_result"
    }
   ],
   "source": [
    "int(4)"
   ]
  },
  {
   "cell_type": "code",
   "execution_count": 76,
   "id": "c22f4ed1-217c-4e7d-8b9b-2232cae5a3aa",
   "metadata": {},
   "outputs": [
    {
     "data": {
      "text/plain": [
       "1"
      ]
     },
     "execution_count": 76,
     "metadata": {},
     "output_type": "execute_result"
    }
   ],
   "source": [
    "1*1"
   ]
  },
  {
   "cell_type": "code",
   "execution_count": 77,
   "id": "feb058ce-c6db-4640-8523-beb4faa134dc",
   "metadata": {},
   "outputs": [
    {
     "data": {
      "text/plain": [
       "'11'"
      ]
     },
     "execution_count": 77,
     "metadata": {},
     "output_type": "execute_result"
    }
   ],
   "source": [
    "\"1\" + \"1\""
   ]
  },
  {
   "cell_type": "code",
   "execution_count": 78,
   "id": "b0cf8356-3877-44ba-ad8f-2aa3693b9d97",
   "metadata": {},
   "outputs": [
    {
     "ename": "TypeError",
     "evalue": "can't multiply sequence by non-int of type 'str'",
     "output_type": "error",
     "traceback": [
      "\u001b[0;31m---------------------------------------------------------------------------\u001b[0m",
      "\u001b[0;31mTypeError\u001b[0m                                 Traceback (most recent call last)",
      "Cell \u001b[0;32mIn[78], line 1\u001b[0m\n\u001b[0;32m----> 1\u001b[0m \u001b[38;5;124;43m\"\u001b[39;49m\u001b[38;5;124;43m1\u001b[39;49m\u001b[38;5;124;43m\"\u001b[39;49m\u001b[43m \u001b[49m\u001b[38;5;241;43m*\u001b[39;49m\u001b[43m \u001b[49m\u001b[38;5;124;43m\"\u001b[39;49m\u001b[38;5;124;43m1\u001b[39;49m\u001b[38;5;124;43m\"\u001b[39;49m\n",
      "\u001b[0;31mTypeError\u001b[0m: can't multiply sequence by non-int of type 'str'"
     ]
    }
   ],
   "source": [
    "\"1\" * \"1\""
   ]
  },
  {
   "cell_type": "code",
   "execution_count": 80,
   "id": "8b4cd7d5-ba5b-4a2e-bd36-932671880754",
   "metadata": {},
   "outputs": [
    {
     "data": {
      "text/plain": [
       "int"
      ]
     },
     "execution_count": 80,
     "metadata": {},
     "output_type": "execute_result"
    }
   ],
   "source": [
    "type(a)"
   ]
  },
  {
   "cell_type": "code",
   "execution_count": 81,
   "id": "87815b26-61f2-410a-bd20-348d6b80622d",
   "metadata": {},
   "outputs": [
    {
     "data": {
      "text/plain": [
       "True"
      ]
     },
     "execution_count": 81,
     "metadata": {},
     "output_type": "execute_result"
    }
   ],
   "source": [
    "bool(-1)"
   ]
  },
  {
   "cell_type": "code",
   "execution_count": 82,
   "id": "6156549a-b8fd-4515-9d84-bac39fda66ec",
   "metadata": {},
   "outputs": [
    {
     "data": {
      "text/plain": [
       "True"
      ]
     },
     "execution_count": 82,
     "metadata": {},
     "output_type": "execute_result"
    }
   ],
   "source": [
    "bool(100)"
   ]
  },
  {
   "cell_type": "code",
   "execution_count": 83,
   "id": "4eef018d-adb0-4fc9-9fec-fc08255e2e42",
   "metadata": {},
   "outputs": [
    {
     "data": {
      "text/plain": [
       "bool"
      ]
     },
     "execution_count": 83,
     "metadata": {},
     "output_type": "execute_result"
    }
   ],
   "source": [
    "type(bool(-2))"
   ]
  },
  {
   "cell_type": "code",
   "execution_count": 85,
   "id": "b38cfe15-30a2-4f5a-8af3-b2b724a07284",
   "metadata": {},
   "outputs": [
    {
     "name": "stdout",
     "output_type": "stream",
     "text": [
      "my name is love\n"
     ]
    }
   ],
   "source": [
    "print (\"my name is love\")"
   ]
  },
  {
   "cell_type": "code",
   "execution_count": 86,
   "id": "a58dcf04-f316-4707-9972-728b62333bab",
   "metadata": {},
   "outputs": [
    {
     "ename": "ZeroDivisionError",
     "evalue": "division by zero",
     "output_type": "error",
     "traceback": [
      "\u001b[0;31m---------------------------------------------------------------------------\u001b[0m",
      "\u001b[0;31mZeroDivisionError\u001b[0m                         Traceback (most recent call last)",
      "Cell \u001b[0;32mIn[86], line 1\u001b[0m\n\u001b[0;32m----> 1\u001b[0m \u001b[38;5;241;43m1\u001b[39;49m\u001b[38;5;241;43m/\u001b[39;49m\u001b[38;5;28;43;01mFalse\u001b[39;49;00m\n",
      "\u001b[0;31mZeroDivisionError\u001b[0m: division by zero"
     ]
    }
   ],
   "source": [
    "1/False"
   ]
  },
  {
   "cell_type": "code",
   "execution_count": 87,
   "id": "b31c3f9e-7dae-4059-ad59-4c4e0cf0f9f1",
   "metadata": {},
   "outputs": [
    {
     "data": {
      "text/plain": [
       "(-1+3j)"
      ]
     },
     "execution_count": 87,
     "metadata": {},
     "output_type": "execute_result"
    }
   ],
   "source": [
    "num1=23\n",
    "num2=44\n",
    "num2=2+3j\n",
    "num1=num2.imag\n",
    "num2-num1"
   ]
  },
  {
   "cell_type": "code",
   "execution_count": 89,
   "id": "3224c964-495b-445f-a44e-98b2eadd02ae",
   "metadata": {},
   "outputs": [
    {
     "data": {
      "text/plain": [
       "'pwskills1'"
      ]
     },
     "execution_count": 89,
     "metadata": {},
     "output_type": "execute_result"
    }
   ],
   "source": [
    "\"pwskills\" + \"1\""
   ]
  },
  {
   "cell_type": "code",
   "execution_count": 90,
   "id": "20c2aca8-f9b2-4f35-bcac-aa6f8c24872d",
   "metadata": {},
   "outputs": [
    {
     "ename": "NameError",
     "evalue": "name 'pw' is not defined",
     "output_type": "error",
     "traceback": [
      "\u001b[0;31m---------------------------------------------------------------------------\u001b[0m",
      "\u001b[0;31mNameError\u001b[0m                                 Traceback (most recent call last)",
      "Cell \u001b[0;32mIn[90], line 1\u001b[0m\n\u001b[0;32m----> 1\u001b[0m \u001b[43mpw\u001b[49m\u001b[38;5;241m-\u001b[39mskills\n",
      "\u001b[0;31mNameError\u001b[0m: name 'pw' is not defined"
     ]
    }
   ],
   "source": [
    "pw-skills"
   ]
  },
  {
   "cell_type": "code",
   "execution_count": 91,
   "id": "90b02586-244c-4e8d-b800-57d72385e0a3",
   "metadata": {},
   "outputs": [
    {
     "ename": "NameError",
     "evalue": "name 'Num_100' is not defined",
     "output_type": "error",
     "traceback": [
      "\u001b[0;31m---------------------------------------------------------------------------\u001b[0m",
      "\u001b[0;31mNameError\u001b[0m                                 Traceback (most recent call last)",
      "Cell \u001b[0;32mIn[91], line 1\u001b[0m\n\u001b[0;32m----> 1\u001b[0m \u001b[43mNum_100\u001b[49m\n",
      "\u001b[0;31mNameError\u001b[0m: name 'Num_100' is not defined"
     ]
    }
   ],
   "source": [
    "Num_100"
   ]
  },
  {
   "cell_type": "code",
   "execution_count": 92,
   "id": "2dfd7be1-e0e3-44eb-ab97-b0929f3be328",
   "metadata": {},
   "outputs": [
    {
     "ename": "NameError",
     "evalue": "name '_pw_skills' is not defined",
     "output_type": "error",
     "traceback": [
      "\u001b[0;31m---------------------------------------------------------------------------\u001b[0m",
      "\u001b[0;31mNameError\u001b[0m                                 Traceback (most recent call last)",
      "Cell \u001b[0;32mIn[92], line 1\u001b[0m\n\u001b[0;32m----> 1\u001b[0m \u001b[43m_pw_skills\u001b[49m\n",
      "\u001b[0;31mNameError\u001b[0m: name '_pw_skills' is not defined"
     ]
    }
   ],
   "source": [
    "_pw_skills"
   ]
  },
  {
   "cell_type": "code",
   "execution_count": 96,
   "id": "7a87b427-a1dc-4944-97e3-60b50702f139",
   "metadata": {},
   "outputs": [
    {
     "ename": "TypeError",
     "evalue": "'str' object does not support item assignment",
     "output_type": "error",
     "traceback": [
      "\u001b[0;31m---------------------------------------------------------------------------\u001b[0m",
      "\u001b[0;31mTypeError\u001b[0m                                 Traceback (most recent call last)",
      "Cell \u001b[0;32mIn[96], line 2\u001b[0m\n\u001b[1;32m      1\u001b[0m Name \u001b[38;5;241m=\u001b[39m\u001b[38;5;124m'\u001b[39m\u001b[38;5;124mpwskills\u001b[39m\u001b[38;5;124m'\u001b[39m\n\u001b[0;32m----> 2\u001b[0m \u001b[43mName\u001b[49m\u001b[43m[\u001b[49m\u001b[38;5;241;43m0\u001b[39;49m\u001b[43m]\u001b[49m \u001b[38;5;241m=\u001b[39m\u001b[38;5;124m'\u001b[39m\u001b[38;5;124mP\u001b[39m\u001b[38;5;124m'\u001b[39m\n",
      "\u001b[0;31mTypeError\u001b[0m: 'str' object does not support item assignment"
     ]
    }
   ],
   "source": [
    "Name ='pwskills'\n",
    "Name[0] ='P'"
   ]
  },
  {
   "cell_type": "code",
   "execution_count": 97,
   "id": "58972990-1ca9-49f2-bdc9-b7259cedd42a",
   "metadata": {},
   "outputs": [
    {
     "data": {
      "text/plain": [
       "True"
      ]
     },
     "execution_count": 97,
     "metadata": {},
     "output_type": "execute_result"
    }
   ],
   "source": [
    "'pwskills'.upper().lower().isalnum()"
   ]
  },
  {
   "cell_type": "code",
   "execution_count": 7,
   "id": "ee6bc37f-a21e-41fb-b72e-45edef8bfe4f",
   "metadata": {},
   "outputs": [
    {
     "name": "stdin",
     "output_type": "stream",
     "text": [
      "My name is  Pranjal\n"
     ]
    },
    {
     "name": "stdout",
     "output_type": "stream",
     "text": [
      "You are awesome\n"
     ]
    }
   ],
   "source": [
    "name= str(input(\"My name is \"))\n",
    "if name==\"Pranjal\":\n",
    "    print(\"You are awesome\")"
   ]
  },
  {
   "cell_type": "code",
   "execution_count": 12,
   "id": "8f7c0033-8a9f-466f-8cca-ecb0dc9103aa",
   "metadata": {},
   "outputs": [
    {
     "name": "stdin",
     "output_type": "stream",
     "text": [
      "My age is  18\n"
     ]
    },
    {
     "name": "stdout",
     "output_type": "stream",
     "text": [
      "You are eligible to vote\n"
     ]
    }
   ],
   "source": [
    "age= int(input(\"My age is \"))\n",
    "if age>=18:\n",
    "    print(\"You are eligible to vote\")\n",
    "else: print(\"You are child\")"
   ]
  },
  {
   "cell_type": "code",
   "execution_count": 13,
   "id": "d1207cc7-6555-4984-bd21-a646bf08db61",
   "metadata": {},
   "outputs": [
    {
     "name": "stdin",
     "output_type": "stream",
     "text": [
      "My age is  15\n"
     ]
    },
    {
     "name": "stdout",
     "output_type": "stream",
     "text": [
      "You are child\n"
     ]
    }
   ],
   "source": [
    "age= int(input(\"My age is \"))\n",
    "if age>=18:\n",
    "    print(\"You are eligible to vote\")\n",
    "else: print(\"You are child\")"
   ]
  },
  {
   "cell_type": "code",
   "execution_count": 26,
   "id": "80bb159a-4455-416b-99f9-859add6314cb",
   "metadata": {},
   "outputs": [
    {
     "name": "stdin",
     "output_type": "stream",
     "text": [
      "The price is  2300\n"
     ]
    },
    {
     "name": "stdout",
     "output_type": "stream",
     "text": [
      "you got 200 off\n"
     ]
    }
   ],
   "source": [
    "price= int(input(\"The price is \"))\n",
    "if price>=3000:\n",
    "    print(\"You got 300 off\")\n",
    "if price<3000:\n",
    "    print(\"you got 200 off\")"
   ]
  },
  {
   "cell_type": "code",
   "execution_count": 27,
   "id": "e0377524-71d5-4582-abb7-a756a855c816",
   "metadata": {},
   "outputs": [
    {
     "name": "stdin",
     "output_type": "stream",
     "text": [
      "The price is  4000\n"
     ]
    },
    {
     "name": "stdout",
     "output_type": "stream",
     "text": [
      "You got 300 off\n"
     ]
    }
   ],
   "source": [
    "price= int(input(\"The price is \"))\n",
    "if price>=3000:\n",
    "    print(\"You got 300 off\")\n",
    "if price<3000:\n",
    "    print(\"you got 200 off\")"
   ]
  },
  {
   "cell_type": "code",
   "execution_count": 29,
   "id": "fb71ab9c-784f-492a-8155-ebec2571db27",
   "metadata": {},
   "outputs": [
    {
     "name": "stdout",
     "output_type": "stream",
     "text": [
      "My gae is  32\n"
     ]
    }
   ],
   "source": [
    "age=32\n",
    "print(\"My gae is \",age)"
   ]
  },
  {
   "cell_type": "code",
   "execution_count": 33,
   "id": "4622be62-c9c0-4806-b0eb-5b32c6dad873",
   "metadata": {},
   "outputs": [
    {
     "name": "stdout",
     "output_type": "stream",
     "text": [
      "My age is: 32\n"
     ]
    }
   ],
   "source": [
    "print(f\"My age is: {age}\")"
   ]
  },
  {
   "cell_type": "code",
   "execution_count": 36,
   "id": "a840449f-939f-40a0-a21c-5e12b0853a46",
   "metadata": {},
   "outputs": [
    {
     "name": "stdout",
     "output_type": "stream",
     "text": [
      "my name is Pranjal and age is 32\n"
     ]
    }
   ],
   "source": [
    "age=32\n",
    "name = \"Pranjal\"\n",
    "print (f\"my name is {name} and age is {age}\")"
   ]
  },
  {
   "cell_type": "code",
   "execution_count": 37,
   "id": "937a4db6-f63a-42f8-8894-27be4c13337d",
   "metadata": {},
   "outputs": [
    {
     "name": "stdout",
     "output_type": "stream",
     "text": [
      "my name is Pranjal and age is 32\n"
     ]
    }
   ],
   "source": [
    "age=32\n",
    "name = \"Pranjal\"\n",
    "print (\"my name is {} and age is {}\".format(name,age))"
   ]
  },
  {
   "cell_type": "code",
   "execution_count": 38,
   "id": "a5a2cc08-ca3d-4016-a1b5-b5dfafd10796",
   "metadata": {},
   "outputs": [
    {
     "name": "stdout",
     "output_type": "stream",
     "text": [
      "My age is 22 and i have completed my degree of B.com with the name of Pranjal Choudhary\n"
     ]
    }
   ],
   "source": [
    "name=\"Pranjal Choudhary\"\n",
    "age=22\n",
    "degree= \"B.com\"\n",
    "print(f\"My age is {age} and i have completed my degree of {degree} with the name of {name}\")"
   ]
  },
  {
   "cell_type": "code",
   "execution_count": 42,
   "id": "2a384560-2f7c-450a-85c5-2d7f9b644da0",
   "metadata": {},
   "outputs": [
    {
     "name": "stdin",
     "output_type": "stream",
     "text": [
      "The price is  2000\n"
     ]
    },
    {
     "name": "stdout",
     "output_type": "stream",
     "text": [
      "you got 200 off\n"
     ]
    }
   ],
   "source": [
    "price= int(input(\"The price is \"))\n",
    "if price>=3000:\n",
    "    print(\"You got 300 off\")\n",
    "if price<3000 and price>=1000: \n",
    "    print(\"you got 200 off\")"
   ]
  },
  {
   "cell_type": "code",
   "execution_count": 47,
   "id": "72277b56-7a21-4cf6-bb64-6bd63af709c5",
   "metadata": {},
   "outputs": [
    {
     "name": "stdin",
     "output_type": "stream",
     "text": [
      "The price is  2999\n"
     ]
    },
    {
     "name": "stdout",
     "output_type": "stream",
     "text": [
      "fuck off\n"
     ]
    }
   ],
   "source": [
    "price= int(input(\"The price is \"))\n",
    "if price>=3000:\n",
    "    print(\"You got 300 off\")\n",
    "else: print(\"fuck off\")    "
   ]
  },
  {
   "cell_type": "code",
   "execution_count": 48,
   "id": "91f309ef-83ab-4976-b6c9-aafd74536fdd",
   "metadata": {},
   "outputs": [
    {
     "name": "stdin",
     "output_type": "stream",
     "text": [
      "The price is  3100\n"
     ]
    },
    {
     "name": "stdout",
     "output_type": "stream",
     "text": [
      "You got 300 off\n"
     ]
    }
   ],
   "source": [
    "price= int(input(\"The price is \"))\n",
    "if price>=3000:\n",
    "    print(\"You got 300 off\")\n",
    "else: print(\"fuck off\")"
   ]
  },
  {
   "cell_type": "code",
   "execution_count": 60,
   "id": "7faf3d38-1bdd-4659-8f2e-2c67cef62308",
   "metadata": {},
   "outputs": [
    {
     "name": "stdin",
     "output_type": "stream",
     "text": [
      "Enter the price  2500\n"
     ]
    },
    {
     "name": "stdout",
     "output_type": "stream",
     "text": [
      "Congo you got an additional gift\n",
      "The price of the product is 1750.0\n"
     ]
    }
   ],
   "source": [
    "product_price= int(input(\"Enter the price \"))\n",
    "if product_price>3000:\n",
    "    if product_price==4000:\n",
    "        print(\"You got a goa trip\")\n",
    "    print(f\"The price of the product is {product_price*0.8}\")\n",
    "elif product_price>=2000 and product_price<=3000:\n",
    "    if product_price==2500:\n",
    "        print(\"Congo you got an additional gift\")\n",
    "    print(f\"The price of the product is {product_price*0.7}\")\n",
    "else:     \n",
    "    print(f\"The price of the product is {product_price*0.6}\")"
   ]
  },
  {
   "cell_type": "code",
   "execution_count": 56,
   "id": "ecc81edd-f935-40b4-bad0-2ce3a5eda79c",
   "metadata": {},
   "outputs": [
    {
     "name": "stdin",
     "output_type": "stream",
     "text": [
      "Enter the price  4000\n"
     ]
    },
    {
     "name": "stdout",
     "output_type": "stream",
     "text": [
      "You got a goa trip\n",
      "The price of the product is 3200.0\n"
     ]
    }
   ],
   "source": [
    "product_price= int(input(\"Enter the price \"))\n",
    "if product_price>3000:\n",
    "    if product_price==4000:\n",
    "        print(\"You got a goa trip\")\n",
    "    print(f\"The price of the product is {product_price*0.8}\")\n",
    "elif product_price>=2000 and product_price<=3000:\n",
    "    if product_price==2500:\n",
    "        print(\"Congo you got an additional gift\")\n",
    "    print(f\"The price of the product is {product_price*0.7}\")\n",
    "else:     \n",
    "    print(f\"The price of the product is {product_price*0.6}\")"
   ]
  },
  {
   "cell_type": "code",
   "execution_count": 59,
   "id": "8018d2b8-6295-4a3e-aa4c-a1b878a2760d",
   "metadata": {},
   "outputs": [
    {
     "name": "stdin",
     "output_type": "stream",
     "text": [
      "enter the number 500\n"
     ]
    },
    {
     "name": "stdout",
     "output_type": "stream",
     "text": [
      "value is less than equal to 999\n"
     ]
    }
   ],
   "source": [
    "##single statement\n",
    "val= int(input(\"enter the number\"))\n",
    "if(val<=999): print(\"value is less than equal to 999\")"
   ]
  },
  {
   "cell_type": "markdown",
   "id": "d9a727d1-2aa1-4f12-bbab-6726da775f1c",
   "metadata": {},
   "source": [
    "## loops statements\n",
    "1.while loop\n",
    "\n",
    "2.for loop\n",
    "\n",
    "3.nested loop\n",
    "\n",
    "4.loop control(break,continue,pass)"
   ]
  },
  {
   "cell_type": "code",
   "execution_count": 77,
   "id": "a3eecd03-46ad-4e51-9863-367fac679a62",
   "metadata": {},
   "outputs": [
    {
     "name": "stdout",
     "output_type": "stream",
     "text": [
      "22\n",
      "23\n",
      "24\n",
      "25\n",
      "26\n",
      "27\n",
      "28\n",
      "29\n",
      "30\n",
      "31\n",
      "32\n",
      "33\n",
      "34\n",
      "35\n",
      "36\n",
      "37\n",
      "38\n",
      "39\n",
      "40\n",
      "41\n",
      "42\n",
      "43\n",
      "44\n",
      "45\n",
      "46\n",
      "47\n",
      "48\n",
      "49\n",
      "50\n",
      "51\n",
      "52\n",
      "53\n",
      "54\n",
      "55\n",
      "56\n",
      "57\n",
      "58\n",
      "59\n",
      "60\n",
      "Its time for retirement\n"
     ]
    }
   ],
   "source": [
    "#while loop\n",
    "joining_age=22\n",
    "while joining_age<=60:\n",
    "    print(joining_age)\n",
    "    joining_age=joining_age+1\n",
    "else:\n",
    "    print(\"Its time for retirement\")"
   ]
  },
  {
   "cell_type": "code",
   "execution_count": 65,
   "id": "5f5ee622-7dff-48b5-81b8-17af8b5cfb59",
   "metadata": {},
   "outputs": [
    {
     "name": "stdout",
     "output_type": "stream",
     "text": [
      "22\n",
      "23\n",
      "24\n",
      "25\n",
      "26\n",
      "27\n",
      "28\n",
      "29\n",
      "30\n",
      "31\n",
      "32\n",
      "33\n",
      "34\n",
      "35\n",
      "36\n",
      "37\n",
      "38\n",
      "39\n",
      "40\n",
      "41\n",
      "42\n",
      "43\n",
      "44\n",
      "45\n",
      "46\n",
      "47\n",
      "48\n",
      "49\n",
      "50\n",
      "51\n",
      "52\n",
      "53\n",
      "54\n",
      "55\n",
      "56\n",
      "57\n",
      "58\n",
      "59\n",
      "60\n",
      "Its time for retirement\n"
     ]
    }
   ],
   "source": [
    "#while loop\n",
    "joining_age=22\n",
    "while joining_age<=60:\n",
    "    print(joining_age)\n",
    "    joining_age=joining_age+1\n",
    "else:\n",
    "    print(\"Its time for retirement\")"
   ]
  },
  {
   "cell_type": "code",
   "execution_count": 75,
   "id": "4769ef27-859c-4247-993b-e9a44496dce2",
   "metadata": {},
   "outputs": [
    {
     "name": "stdout",
     "output_type": "stream",
     "text": [
      "1000\n",
      "900\n",
      "800\n",
      "700\n",
      "600\n",
      "500\n",
      "400\n",
      "300\n",
      "200\n",
      "100\n",
      "put more money in bank\n"
     ]
    }
   ],
   "source": [
    "total_amount=1000\n",
    "while total_amount!=0:\n",
    "    print(total_amount)\n",
    "    total_amount=total_amount-100\n",
    "else:\n",
    "    print(\"put more money in bank\")"
   ]
  },
  {
   "cell_type": "markdown",
   "id": "4f9e1e84-8fea-45d8-97a7-f920d3a885ac",
   "metadata": {},
   "source": [
    "\"\"\"\n",
    "for loop\n",
    "\"\"\"\""
   ]
  },
  {
   "cell_type": "code",
   "execution_count": 79,
   "id": "a3d430ca-bf60-470f-a103-ff5cd04ce98f",
   "metadata": {},
   "outputs": [],
   "source": [
    "name=\"pranjal\""
   ]
  },
  {
   "cell_type": "code",
   "execution_count": 80,
   "id": "03655658-13ea-4d4b-bff2-40c6fb4e0348",
   "metadata": {},
   "outputs": [
    {
     "name": "stdout",
     "output_type": "stream",
     "text": [
      "pranjal\n"
     ]
    }
   ],
   "source": [
    "print(name)"
   ]
  },
  {
   "cell_type": "code",
   "execution_count": 81,
   "id": "9c30e049-7ec0-479e-a412-23b74b480cdf",
   "metadata": {},
   "outputs": [],
   "source": [
    "lst=[\"krish\",1,2,3,\"apple\",\"banana\"]"
   ]
  },
  {
   "cell_type": "code",
   "execution_count": 82,
   "id": "d692c4d1-17ae-49de-8e1e-e46e4a627d7b",
   "metadata": {},
   "outputs": [
    {
     "data": {
      "text/plain": [
       "list"
      ]
     },
     "execution_count": 82,
     "metadata": {},
     "output_type": "execute_result"
    }
   ],
   "source": [
    "type(lst)"
   ]
  },
  {
   "cell_type": "code",
   "execution_count": 83,
   "id": "d0f87066-f7be-4992-bfcb-3301610a5bd9",
   "metadata": {},
   "outputs": [
    {
     "data": {
      "text/plain": [
       "'krish'"
      ]
     },
     "execution_count": 83,
     "metadata": {},
     "output_type": "execute_result"
    }
   ],
   "source": [
    "lst[0]"
   ]
  },
  {
   "cell_type": "code",
   "execution_count": 84,
   "id": "9b40f2e0-2d9f-44c6-b1eb-bf28ea68a0d7",
   "metadata": {},
   "outputs": [
    {
     "data": {
      "text/plain": [
       "2"
      ]
     },
     "execution_count": 84,
     "metadata": {},
     "output_type": "execute_result"
    }
   ],
   "source": [
    "lst[2]"
   ]
  },
  {
   "cell_type": "code",
   "execution_count": 85,
   "id": "ad33897b-8770-43f6-a358-d5867985bae3",
   "metadata": {},
   "outputs": [
    {
     "data": {
      "text/plain": [
       "'banana'"
      ]
     },
     "execution_count": 85,
     "metadata": {},
     "output_type": "execute_result"
    }
   ],
   "source": [
    "lst[5]"
   ]
  },
  {
   "cell_type": "code",
   "execution_count": 86,
   "id": "e72ddfdb-f338-4c73-81d2-4301e9cb61c5",
   "metadata": {},
   "outputs": [
    {
     "data": {
      "text/plain": [
       "['krish', 1, 2, 3, 'apple', 'banana']"
      ]
     },
     "execution_count": 86,
     "metadata": {},
     "output_type": "execute_result"
    }
   ],
   "source": [
    "lst"
   ]
  },
  {
   "cell_type": "code",
   "execution_count": 89,
   "id": "1ec99dd2-d0b1-4867-8845-2252a145dfe6",
   "metadata": {},
   "outputs": [
    {
     "name": "stdout",
     "output_type": "stream",
     "text": [
      "krish\n",
      "1\n",
      "2\n",
      "3\n",
      "apple\n",
      "banana\n"
     ]
    }
   ],
   "source": [
    "for x in lst:\n",
    "    print(x)"
   ]
  },
  {
   "cell_type": "code",
   "execution_count": null,
   "id": "8ad57a42-58bd-4ddc-b6eb-fc980050427b",
   "metadata": {},
   "outputs": [],
   "source": [
    "lst=[\"krish\",1,2,3,\"apple\",\"banana\"]"
   ]
  },
  {
   "cell_type": "code",
   "execution_count": 29,
   "id": "7ac4d623-75e8-4541-8282-510969699e92",
   "metadata": {},
   "outputs": [
    {
     "ename": "NameError",
     "evalue": "name 'lst' is not defined",
     "output_type": "error",
     "traceback": [
      "\u001b[0;31m---------------------------------------------------------------------------\u001b[0m",
      "\u001b[0;31mNameError\u001b[0m                                 Traceback (most recent call last)",
      "Cell \u001b[0;32mIn[29], line 1\u001b[0m\n\u001b[0;32m----> 1\u001b[0m \u001b[38;5;28;01mwhile\u001b[39;00m x \u001b[38;5;129;01min\u001b[39;00m \u001b[43mlst\u001b[49m:\n\u001b[1;32m      2\u001b[0m     \u001b[38;5;28mprint\u001b[39m(x)\n",
      "\u001b[0;31mNameError\u001b[0m: name 'lst' is not defined"
     ]
    }
   ],
   "source": [
    "while x in lst:\n",
    "    print(x)"
   ]
  },
  {
   "cell_type": "code",
   "execution_count": 90,
   "id": "ea36572b-3611-48ab-aea6-085ca36e0384",
   "metadata": {},
   "outputs": [],
   "source": [
    "lst=[\"apple\",\"banana\",\"mango\",\"cherry\",\"apple\"]"
   ]
  },
  {
   "cell_type": "code",
   "execution_count": 91,
   "id": "8f045917-b242-4e42-8d1b-517a2e2cea58",
   "metadata": {},
   "outputs": [
    {
     "name": "stdout",
     "output_type": "stream",
     "text": [
      "apple\n",
      "banana\n",
      "mango\n",
      "cherry\n",
      "apple\n"
     ]
    }
   ],
   "source": [
    "for x in lst:\n",
    "    print(x)"
   ]
  },
  {
   "cell_type": "code",
   "execution_count": 96,
   "id": "585c5dd2-278e-4fb9-8150-1db30095eef6",
   "metadata": {},
   "outputs": [
    {
     "name": "stdout",
     "output_type": "stream",
     "text": [
      "apple\n",
      "banana\n",
      "mango\n",
      "cherry\n",
      "the fruit is cherry\n"
     ]
    }
   ],
   "source": [
    "for x in lst:\n",
    "    print(x)\n",
    "    if x==\"cherry\":\n",
    "        print(\"the fruit is cherry\")\n",
    "        break"
   ]
  },
  {
   "cell_type": "code",
   "execution_count": 97,
   "id": "82c61b43-ed26-46c2-bca6-534a352397da",
   "metadata": {},
   "outputs": [
    {
     "name": "stdout",
     "output_type": "stream",
     "text": [
      "apple\n",
      "banana\n",
      "mango\n",
      "the fruit is mango\n"
     ]
    }
   ],
   "source": [
    "for x in lst:\n",
    "    print(x)\n",
    "    if x==\"mango\":\n",
    "        print(\"the fruit is mango\")\n",
    "        break"
   ]
  },
  {
   "cell_type": "code",
   "execution_count": 102,
   "id": "a4ce612e-2ebd-477c-b3a7-a7672e83c470",
   "metadata": {},
   "outputs": [
    {
     "name": "stdout",
     "output_type": "stream",
     "text": [
      "applebananamangocherrythe fruit is cherry\n"
     ]
    }
   ],
   "source": [
    "for x in lst:\n",
    "    print(x,end=\"\")\n",
    "    if x==\"cherry\":\n",
    "        print(\"the fruit is cherry\")\n",
    "        break"
   ]
  },
  {
   "cell_type": "markdown",
   "id": "5d58f603-da2b-4841-8dab-87a52e423049",
   "metadata": {},
   "source": [
    "###nested loops "
   ]
  },
  {
   "cell_type": "code",
   "execution_count": 105,
   "id": "c76c3cb6-5f80-4558-9eb4-d62a933f0a21",
   "metadata": {},
   "outputs": [
    {
     "name": "stdout",
     "output_type": "stream",
     "text": [
      "1\n",
      "2\n",
      "3\n",
      "4\n",
      "5\n"
     ]
    }
   ],
   "source": [
    "n=7\n",
    "for n in range(1,6):\n",
    "        print(n)"
   ]
  },
  {
   "cell_type": "code",
   "execution_count": 108,
   "id": "559dbb93-a564-40db-b4c2-14ec4f3d757d",
   "metadata": {},
   "outputs": [
    {
     "name": "stdout",
     "output_type": "stream",
     "text": [
      "1\n",
      "2\n",
      "3\n",
      "4\n",
      "5\n",
      "6\n",
      "7\n",
      "8\n"
     ]
    }
   ],
   "source": [
    "for x in range(1,9):\n",
    "    print(x)"
   ]
  },
  {
   "cell_type": "code",
   "execution_count": 110,
   "id": "8964bfd8-4647-45f7-b5b1-10bb3e2b0b36",
   "metadata": {},
   "outputs": [
    {
     "name": "stdout",
     "output_type": "stream",
     "text": [
      "2\n",
      "4\n",
      "6\n",
      "8\n"
     ]
    }
   ],
   "source": [
    "for i in range(2,10,2):\n",
    "    print(i)\n"
   ]
  },
  {
   "cell_type": "code",
   "execution_count": 114,
   "id": "cd5ba040-f899-4033-8428-318bd3afb14a",
   "metadata": {},
   "outputs": [
    {
     "name": "stdout",
     "output_type": "stream",
     "text": [
      "****************************"
     ]
    }
   ],
   "source": [
    "n=7\n",
    "\n",
    "for i in range(0,n):\n",
    "    for j in range(0,i+1):\n",
    "        print(\"*\", end=\"\")"
   ]
  },
  {
   "cell_type": "code",
   "execution_count": 116,
   "id": "e4c073b6-625d-429e-9756-ef9ae444935e",
   "metadata": {},
   "outputs": [
    {
     "name": "stdout",
     "output_type": "stream",
     "text": [
      "*\n",
      "*\n",
      "*\n",
      "*\n",
      "*\n",
      "*\n",
      "*\n",
      "*\n",
      "*\n",
      "*\n",
      "*\n",
      "*\n",
      "*\n",
      "*\n",
      "*\n",
      "*\n",
      "*\n",
      "*\n",
      "*\n",
      "*\n",
      "*\n",
      "*\n",
      "*\n",
      "*\n",
      "*\n",
      "*\n",
      "*\n",
      "*\n"
     ]
    }
   ],
   "source": [
    "n=7\n",
    "\n",
    "for i in range(0,n):\n",
    "    for j in range(0,i+1):\n",
    "        print(\"*\", end=\"\\n\")"
   ]
  },
  {
   "cell_type": "code",
   "execution_count": 120,
   "id": "c8834af2-f61b-41f3-bc7e-c669206ebf7f",
   "metadata": {},
   "outputs": [
    {
     "name": "stdout",
     "output_type": "stream",
     "text": [
      "*\n",
      "**\n",
      "***\n",
      "****\n",
      "*****\n",
      "******\n",
      "*******\n"
     ]
    }
   ],
   "source": [
    "n=7\n",
    "\n",
    "for i in range(0,n):\n",
    "    for j in range(0,i+1):\n",
    "        print(\"*\", end=\"\")\n",
    "    print(\"\\r\")"
   ]
  },
  {
   "cell_type": "code",
   "execution_count": 123,
   "id": "cad98a42-0fa1-4e45-88c4-900fe55631c4",
   "metadata": {},
   "outputs": [
    {
     "name": "stdout",
     "output_type": "stream",
     "text": [
      "*\n",
      "**\n",
      "***\n",
      "****\n",
      "*****\n",
      "******\n",
      "*******\n"
     ]
    }
   ],
   "source": [
    "n=7\n",
    "\n",
    "for i in range(0,n):\n",
    "    for j in range(0,i+1):\n",
    "        print(\"*\", end=\"\")\n",
    "    print(\"\\r\")"
   ]
  },
  {
   "cell_type": "code",
   "execution_count": 124,
   "id": "31e8d8a1-76dd-4bc6-8c12-45ef066e287a",
   "metadata": {},
   "outputs": [
    {
     "name": "stdout",
     "output_type": "stream",
     "text": [
      "*\n",
      "\n",
      "**\n",
      "\n",
      "***\n",
      "\n",
      "****\n",
      "\n",
      "*****\n",
      "\n",
      "******\n",
      "\n",
      "*******\n",
      "\n"
     ]
    }
   ],
   "source": [
    "n=7\n",
    "\n",
    "for i in range(0,n):\n",
    "    for j in range(0,i+1):\n",
    "        print(\"*\", end=\"\")\n",
    "    print(\"\\n\")"
   ]
  },
  {
   "cell_type": "code",
   "execution_count": 134,
   "id": "59fe1b09-259d-4015-9f36-c7b2088d0bc4",
   "metadata": {},
   "outputs": [],
   "source": [
    "fruits_list=[\"mango\", \"banana\", \"cherry\", \"apple\", \"grapes\",]"
   ]
  },
  {
   "cell_type": "code",
   "execution_count": 141,
   "id": "d218b644-fff7-415e-9a27-5901afbbd716",
   "metadata": {},
   "outputs": [
    {
     "name": "stdout",
     "output_type": "stream",
     "text": [
      "mango\n",
      "banana\n",
      "cherry\n",
      "the fruit is apple\n"
     ]
    }
   ],
   "source": [
    "for i in fruits_list:\n",
    "    if i==\"apple\":\n",
    "        print(\"the fruit is apple\")\n",
    "        break\n",
    "    print(i)"
   ]
  },
  {
   "cell_type": "code",
   "execution_count": 142,
   "id": "db9a9da3-21b5-429e-912d-29f2f36cbb9e",
   "metadata": {},
   "outputs": [
    {
     "name": "stdout",
     "output_type": "stream",
     "text": [
      "mango\n",
      "banana\n",
      "cherry\n",
      "the fruit is apple\n",
      "grapes\n"
     ]
    }
   ],
   "source": [
    "for i in fruits_list:\n",
    "    if i==\"apple\":\n",
    "        print(\"the fruit is apple\")\n",
    "        continue\n",
    "    print(i)"
   ]
  },
  {
   "cell_type": "code",
   "execution_count": 143,
   "id": "6bdc407d-b398-4d33-93a5-d0192a8e6f63",
   "metadata": {},
   "outputs": [
    {
     "name": "stdout",
     "output_type": "stream",
     "text": [
      "mango\n",
      "banana\n",
      "cherry\n",
      "the fruit is apple\n",
      "apple\n",
      "grapes\n"
     ]
    }
   ],
   "source": [
    "for i in fruits_list:\n",
    "    if i==\"apple\":\n",
    "        print(\"the fruit is apple\")\n",
    "        pass\n",
    "    print(i)"
   ]
  },
  {
   "cell_type": "code",
   "execution_count": 144,
   "id": "0b544f82-af83-43af-9004-59489ea9028b",
   "metadata": {},
   "outputs": [
    {
     "ename": "ZeroDivisionError",
     "evalue": "division by zero",
     "output_type": "error",
     "traceback": [
      "\u001b[0;31m---------------------------------------------------------------------------\u001b[0m",
      "\u001b[0;31mZeroDivisionError\u001b[0m                         Traceback (most recent call last)",
      "Cell \u001b[0;32mIn[144], line 1\u001b[0m\n\u001b[0;32m----> 1\u001b[0m \u001b[38;5;28;43;01mTrue\u001b[39;49;00m\u001b[38;5;241;43m/\u001b[39;49m\u001b[38;5;28;43;01mFalse\u001b[39;49;00m\n",
      "\u001b[0;31mZeroDivisionError\u001b[0m: division by zero"
     ]
    }
   ],
   "source": [
    "True/False"
   ]
  },
  {
   "cell_type": "code",
   "execution_count": 149,
   "id": "49c3ccae-94c2-49f8-9a3a-560dcb12ba16",
   "metadata": {},
   "outputs": [
    {
     "data": {
      "text/plain": [
       "'pwskills1'"
      ]
     },
     "execution_count": 149,
     "metadata": {},
     "output_type": "execute_result"
    }
   ],
   "source": [
    "\"pwskills\" + str(1)"
   ]
  },
  {
   "cell_type": "code",
   "execution_count": 1,
   "id": "10d31293-da10-48c0-98f7-1ebebe9b479c",
   "metadata": {},
   "outputs": [
    {
     "name": "stdin",
     "output_type": "stream",
     "text": [
      "My name is  bvcxmjkds\n"
     ]
    }
   ],
   "source": [
    "name= str(input(\"My name is \"))\n",
    "if name==\"Rajat\":\n",
    "    print(Mera mooh me le le\")"
   ]
  },
  {
   "cell_type": "code",
   "execution_count": 11,
   "id": "a9a4e537-6ea4-4cc9-952a-d9499cf54288",
   "metadata": {},
   "outputs": [
    {
     "ename": "IndentationError",
     "evalue": "unexpected indent (3810242851.py, line 10)",
     "output_type": "error",
     "traceback": [
      "\u001b[0;36m  Cell \u001b[0;32mIn[11], line 10\u001b[0;36m\u001b[0m\n\u001b[0;31m    k+=2\u001b[0m\n\u001b[0m    ^\u001b[0m\n\u001b[0;31mIndentationError\u001b[0m\u001b[0;31m:\u001b[0m unexpected indent\n"
     ]
    }
   ],
   "source": [
    "n= int(input(\"Enter the number of rows of pyrmind you want: \"))\n",
    "stars=int(2*n-1)\n",
    "\n",
    "k=1\n",
    "for i in range(1,n+1):\n",
    "    for j in range(stars,k,-2):\n",
    "        print(\"\",end=\" \")\n",
    "    for j in range(k):\n",
    "              print(\"*\",end=\"\")\n",
    "                    k+=2\n",
    "                    print()"
   ]
  },
  {
   "cell_type": "code",
   "execution_count": 3,
   "id": "a16c0482-38c5-478b-9060-65a773bda3a6",
   "metadata": {},
   "outputs": [
    {
     "name": "stdin",
     "output_type": "stream",
     "text": [
      "enter diamonds height:  5\n"
     ]
    },
    {
     "name": "stdout",
     "output_type": "stream",
     "text": [
      " *\n",
      " ***\n",
      " *****\n",
      " *******\n",
      " *********\n"
     ]
    }
   ],
   "source": [
    "h=int(input(\"enter diamonds height: \"))\n",
    "for x in range(h):\n",
    "    print(\"\"*(h-x), \"*\"*(2*x+1))"
   ]
  },
  {
   "cell_type": "code",
   "execution_count": 19,
   "id": "4bf5d99d-86b3-408b-9e7d-6c399667e2f8",
   "metadata": {},
   "outputs": [
    {
     "name": "stdin",
     "output_type": "stream",
     "text": [
      "enter the number of rows:  5\n"
     ]
    },
    {
     "name": "stdout",
     "output_type": "stream",
     "text": [
      "***** * * \n",
      "  **** * \n",
      "    *** \n",
      "      *\n"
     ]
    }
   ],
   "source": [
    "rows= int(input(\"enter the number of rows: \"))\n",
    "\n",
    "for i in range(rows,1,-1):\n",
    "    for space in range(0,rows-i):\n",
    "        print(\" \",end=\" \")\n",
    "    for j in range(i,2*i-1):\n",
    "        print(\"*\", end=\"\")\n",
    "    for j in range(1,i-1):\n",
    "        print(\"*\", end=\" \")\n",
    "    print()"
   ]
  },
  {
   "cell_type": "code",
   "execution_count": 26,
   "id": "e2364304-e909-47cd-b831-554f9b0f3875",
   "metadata": {},
   "outputs": [
    {
     "name": "stdin",
     "output_type": "stream",
     "text": [
      "enter the number of rows:  7\n"
     ]
    },
    {
     "name": "stdout",
     "output_type": "stream",
     "text": [
      "       \n",
      "      * \n",
      "     * * \n",
      "    * * * \n",
      "   * * * * \n",
      "  * * * * * \n",
      " * * * * * * \n"
     ]
    }
   ],
   "source": [
    "rows= int(input(\"enter the number of rows: \"))\n",
    "\n",
    "k=0\n",
    "\n",
    "for i in range(1,rows+1):\n",
    "    for space in range(1,(rows-i)+2):\n",
    "        print(end=\" \")\n",
    "        \n",
    "    while k!=(1*i-1):\n",
    "        print(\"*\", end=\" \")\n",
    "        k+=1\n",
    "        \n",
    "    k=0\n",
    "    print()"
   ]
  },
  {
   "cell_type": "code",
   "execution_count": 27,
   "id": "b5caa91d-4cd8-4f5d-a4be-f0151b2f422d",
   "metadata": {},
   "outputs": [
    {
     "name": "stdin",
     "output_type": "stream",
     "text": [
      "enter the number of rows:  7\n"
     ]
    },
    {
     "name": "stdout",
     "output_type": "stream",
     "text": [
      "       * \n",
      "      * * * \n",
      "     * * * * * \n",
      "    * * * * * * * \n",
      "   * * * * * * * * * \n",
      "  * * * * * * * * * * * \n",
      " * * * * * * * * * * * * * \n"
     ]
    }
   ],
   "source": [
    "rows= int(input(\"enter the number of rows: \"))\n",
    "\n",
    "k=0\n",
    "\n",
    "for i in range(1,rows+1):\n",
    "    for space in range(1,(rows-i)+2):\n",
    "        print(end=\" \")\n",
    "        \n",
    "    while k!=(2*i-1):\n",
    "        print(\"*\", end=\" \")\n",
    "        k+=1\n",
    "        \n",
    "    k=0\n",
    "    print()"
   ]
  },
  {
   "cell_type": "markdown",
   "id": "c7ebc720-3341-48da-918a-a144b63575c9",
   "metadata": {},
   "source": [
    "#Thank You!!!!!!!!!!!!!!!!!!!!!!!!!!!!!!!!!!!!!!!!!!!!!!!!!! "
   ]
  }
 ],
 "metadata": {
  "kernelspec": {
   "display_name": "Python 3 (ipykernel)",
   "language": "python",
   "name": "python3"
  },
  "language_info": {
   "codemirror_mode": {
    "name": "ipython",
    "version": 3
   },
   "file_extension": ".py",
   "mimetype": "text/x-python",
   "name": "python",
   "nbconvert_exporter": "python",
   "pygments_lexer": "ipython3",
   "version": "3.10.8"
  }
 },
 "nbformat": 4,
 "nbformat_minor": 5
}
