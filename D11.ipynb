{
 "cells": [
  {
   "cell_type": "code",
   "execution_count": 10,
   "id": "ec2112b3-3099-459d-bd38-42579d61c693",
   "metadata": {},
   "outputs": [],
   "source": [
    "f= open(\"test.txt\",\"w\")"
   ]
  },
  {
   "cell_type": "code",
   "execution_count": 11,
   "id": "3ac21e29-6955-4fd5-aa26-dea47917ac08",
   "metadata": {},
   "outputs": [
    {
     "data": {
      "text/plain": [
       "'/home/jovyan/work'"
      ]
     },
     "execution_count": 11,
     "metadata": {},
     "output_type": "execute_result"
    }
   ],
   "source": [
    "pwd"
   ]
  },
  {
   "cell_type": "code",
   "execution_count": 12,
   "id": "9ace2003-e4a4-41fd-8410-79d596e73d68",
   "metadata": {},
   "outputs": [
    {
     "name": "stdout",
     "output_type": "stream",
     "text": [
      "'Assignment 02 Feb.ipynb'        'D1 and D2.ipynb'\n",
      "'Assignment 03 Feb.ipynb'        'D3 and D4.ipynb'\n",
      "'Assignment 04 Feb.ipynb'         D5.ipynb\n",
      "'Assignment 05 Feb.ipynb'        'D6 and D7.ipynb'\n",
      "'Assignment 06 Feb.ipynb'         D8.ipynb\n",
      "'Assignment 07 Feb.ipynb'         D9.ipynb\n",
      "'Assignment 09 Feb.ipynb'         Day_2_Control_Flow.ipynb\n",
      "'Assignment 29 Jan.ipynb'         README.md\n",
      "'Assignment 30 Jan-Copy1.ipynb'   sample-code.ipynb\n",
      "'Assignment Feb 10.ipynb'         test.txt\n",
      " D10.ipynb                        Untitled.ipynb\n",
      " D11.ipynb\n"
     ]
    }
   ],
   "source": [
    "ls"
   ]
  },
  {
   "cell_type": "code",
   "execution_count": 13,
   "id": "da73a93b-fc1e-4199-8378-0f92c0e19180",
   "metadata": {},
   "outputs": [
    {
     "data": {
      "text/plain": [
       "496"
      ]
     },
     "execution_count": 13,
     "metadata": {},
     "output_type": "execute_result"
    }
   ],
   "source": [
    "f.write(\"A successful Wyckoff analyst must be able to anticipate and correctly judge the direction and magnitude of the move out of a TR. Fortunately, Wyckoff offers time-tested guidelines for identifying and delineating the phases and events within a TR, which, in turn, provide the basis for estimating price targets in the subsequent trend. These concepts are illustrated in the following four schematics; two depicting common variants of accumulation TRs, followed by two examples of distribution TRs.\")"
   ]
  },
  {
   "cell_type": "code",
   "execution_count": 15,
   "id": "4323aa37-1480-4f67-8543-4937258567a6",
   "metadata": {},
   "outputs": [],
   "source": [
    "f.close()"
   ]
  },
  {
   "cell_type": "code",
   "execution_count": 16,
   "id": "78972c57-53c4-4c04-a34c-81ab7efcb182",
   "metadata": {},
   "outputs": [],
   "source": [
    "data = open(\"test.txt\", \"r\")"
   ]
  },
  {
   "cell_type": "code",
   "execution_count": 17,
   "id": "8f75f9f6-edd5-4a79-bd43-7ba17b2bf008",
   "metadata": {},
   "outputs": [
    {
     "data": {
      "text/plain": [
       "'A successful Wyckoff analyst must be able to anticipate and correctly judge the direction and magnitude of the move out of a TR. Fortunately, Wyckoff offers time-tested guidelines for identifying and delineating the phases and events within a TR, which, in turn, provide the basis for estimating price targets in the subsequent trend. These concepts are illustrated in the following four schematics; two depicting common variants of accumulation TRs, followed by two examples of distribution TRs.'"
      ]
     },
     "execution_count": 17,
     "metadata": {},
     "output_type": "execute_result"
    }
   ],
   "source": [
    "data.read()"
   ]
  },
  {
   "cell_type": "code",
   "execution_count": 18,
   "id": "61f814b9-6a64-4ec8-86a9-ffad0f44d87c",
   "metadata": {},
   "outputs": [
    {
     "data": {
      "text/plain": [
       "''"
      ]
     },
     "execution_count": 18,
     "metadata": {},
     "output_type": "execute_result"
    }
   ],
   "source": [
    "data.read()"
   ]
  },
  {
   "cell_type": "code",
   "execution_count": 19,
   "id": "34aa7fd8-574e-4a8b-9b74-f644f55e4732",
   "metadata": {},
   "outputs": [
    {
     "data": {
      "text/plain": [
       "0"
      ]
     },
     "execution_count": 19,
     "metadata": {},
     "output_type": "execute_result"
    }
   ],
   "source": [
    "data.seek(0)"
   ]
  },
  {
   "cell_type": "code",
   "execution_count": 20,
   "id": "d0af7f02-952a-4652-934e-b04f11fd4cad",
   "metadata": {},
   "outputs": [
    {
     "data": {
      "text/plain": [
       "'A successful Wyckoff analyst must be able to anticipate and correctly judge the direction and magnitude of the move out of a TR. Fortunately, Wyckoff offers time-tested guidelines for identifying and delineating the phases and events within a TR, which, in turn, provide the basis for estimating price targets in the subsequent trend. These concepts are illustrated in the following four schematics; two depicting common variants of accumulation TRs, followed by two examples of distribution TRs.'"
      ]
     },
     "execution_count": 20,
     "metadata": {},
     "output_type": "execute_result"
    }
   ],
   "source": [
    "data.read()"
   ]
  },
  {
   "cell_type": "code",
   "execution_count": 21,
   "id": "7355d643-b4d5-4e70-8fae-e1505557b1f1",
   "metadata": {},
   "outputs": [
    {
     "data": {
      "text/plain": [
       "100"
      ]
     },
     "execution_count": 21,
     "metadata": {},
     "output_type": "execute_result"
    }
   ],
   "source": [
    "data.seek(100)"
   ]
  },
  {
   "cell_type": "code",
   "execution_count": 22,
   "id": "e2d61326-7372-4563-8ea3-d08cbf01d7b6",
   "metadata": {},
   "outputs": [
    {
     "data": {
      "text/plain": [
       "'ude of the move out of a TR. Fortunately, Wyckoff offers time-tested guidelines for identifying and delineating the phases and events within a TR, which, in turn, provide the basis for estimating price targets in the subsequent trend. These concepts are illustrated in the following four schematics; two depicting common variants of accumulation TRs, followed by two examples of distribution TRs.'"
      ]
     },
     "execution_count": 22,
     "metadata": {},
     "output_type": "execute_result"
    }
   ],
   "source": [
    "data.read()"
   ]
  },
  {
   "cell_type": "code",
   "execution_count": 23,
   "id": "137d8d4c-bd54-4b1c-a35d-a04bbe0d114c",
   "metadata": {},
   "outputs": [],
   "source": [
    "data1= open(\"test.txt\", \"r\")"
   ]
  },
  {
   "cell_type": "code",
   "execution_count": 24,
   "id": "157da044-dacf-4695-aa89-12f0cdf874f3",
   "metadata": {},
   "outputs": [
    {
     "name": "stdout",
     "output_type": "stream",
     "text": [
      "A successful Wyckoff analyst must be able to anticipate and correctly judge the direction and magnitude of the move out of a TR. Fortunately, Wyckoff offers time-tested guidelines for identifying and delineating the phases and events within a TR, which, in turn, provide the basis for estimating price targets in the subsequent trend. These concepts are illustrated in the following four schematics; two depicting common variants of accumulation TRs, followed by two examples of distribution TRs.\n"
     ]
    }
   ],
   "source": [
    "for i in data1:\n",
    "    print(i)"
   ]
  },
  {
   "cell_type": "code",
   "execution_count": 25,
   "id": "29f19dfb-2b9a-4eb0-9681-b6485ebd0f2b",
   "metadata": {},
   "outputs": [],
   "source": [
    "import os"
   ]
  },
  {
   "cell_type": "code",
   "execution_count": 26,
   "id": "63ec7ba0-217b-4d26-a37e-b4a5293f582f",
   "metadata": {},
   "outputs": [
    {
     "data": {
      "text/plain": [
       "496"
      ]
     },
     "execution_count": 26,
     "metadata": {},
     "output_type": "execute_result"
    }
   ],
   "source": [
    "os.path.getsize(\"test.txt\")"
   ]
  },
  {
   "cell_type": "code",
   "execution_count": 27,
   "id": "d40c193c-66ea-44b9-ab98-3e198bfc3f8b",
   "metadata": {},
   "outputs": [],
   "source": [
    "import shutil "
   ]
  },
  {
   "cell_type": "code",
   "execution_count": 28,
   "id": "a715630a-6683-4535-a87c-93b060e72fed",
   "metadata": {},
   "outputs": [
    {
     "data": {
      "text/plain": [
       "'new_test.txt'"
      ]
     },
     "execution_count": 28,
     "metadata": {},
     "output_type": "execute_result"
    }
   ],
   "source": [
    "shutil.copy(\"test.txt\", \"new_test.txt\")"
   ]
  },
  {
   "cell_type": "code",
   "execution_count": 29,
   "id": "7d89ebeb-af92-4c45-890d-64340ce17423",
   "metadata": {},
   "outputs": [],
   "source": [
    "os.remove(\"test.txt\")"
   ]
  },
  {
   "cell_type": "code",
   "execution_count": 30,
   "id": "8e69bd2d-b955-48c5-9982-46f82fd94457",
   "metadata": {},
   "outputs": [
    {
     "name": "stdout",
     "output_type": "stream",
     "text": [
      "A successful Wyckoff analyst must be able to anticipate and correctly judge the direction and magnitude of the move out of a TR. Fortunately, Wyckoff offers time-tested guidelines for identifying and delineating the phases and events within a TR, which, in turn, provide the basis for estimating price targets in the subsequent trend. These concepts are illustrated in the following four schematics; two depicting common variants of accumulation TRs, followed by two examples of distribution TRs.\n"
     ]
    }
   ],
   "source": [
    "with open(\"new_test.txt\", \"r\") as f :\n",
    "    print(f.read())"
   ]
  },
  {
   "cell_type": "code",
   "execution_count": 31,
   "id": "7dceb4ed-5fa4-4f5a-8827-aad20d6302f3",
   "metadata": {},
   "outputs": [],
   "source": [
    "os.rename(\"new_test.txt\", \"test1.txt\")"
   ]
  },
  {
   "cell_type": "code",
   "execution_count": 32,
   "id": "8955739e-103a-4ca4-be82-2e68443aa489",
   "metadata": {},
   "outputs": [],
   "source": [
    "data= {\n",
    "     \"name\" : \"sudh\",\n",
    "    \"email_id\" : \"sudh@gmail.com\",\n",
    "    \"phone_number\" : 4184651,\n",
    "    \"subject\" : [\"data science\", \"big data\", \"data analytics\"]\n",
    "}"
   ]
  },
  {
   "cell_type": "code",
   "execution_count": 33,
   "id": "4cc53478-0353-4090-9b9b-7ab41fc0b2e5",
   "metadata": {},
   "outputs": [],
   "source": [
    "import json"
   ]
  },
  {
   "cell_type": "code",
   "execution_count": 34,
   "id": "be0e79a5-13a1-488c-bd01-2d032627a859",
   "metadata": {},
   "outputs": [],
   "source": [
    "with open(\"test1.json\", \"w\") as f :\n",
    "    json.dump(data,f)"
   ]
  },
  {
   "cell_type": "code",
   "execution_count": 35,
   "id": "fba1c20d-c9c7-4634-805c-7225692bb025",
   "metadata": {},
   "outputs": [],
   "source": [
    "with open(\"test1.json\", \"r\") as f:\n",
    "    data1 = json.load(f)"
   ]
  },
  {
   "cell_type": "code",
   "execution_count": 36,
   "id": "dda39da9-6625-4727-9074-1452a430e15e",
   "metadata": {},
   "outputs": [
    {
     "data": {
      "text/plain": [
       "{'name': 'sudh',\n",
       " 'email_id': 'sudh@gmail.com',\n",
       " 'phone_number': 4184651,\n",
       " 'subject': ['data science', 'big data', 'data analytics']}"
      ]
     },
     "execution_count": 36,
     "metadata": {},
     "output_type": "execute_result"
    }
   ],
   "source": [
    "data1"
   ]
  },
  {
   "cell_type": "code",
   "execution_count": 37,
   "id": "ea6131d7-4c12-4e45-8595-fb03f2a2dfc9",
   "metadata": {},
   "outputs": [
    {
     "data": {
      "text/plain": [
       "['data science', 'big data', 'data analytics']"
      ]
     },
     "execution_count": 37,
     "metadata": {},
     "output_type": "execute_result"
    }
   ],
   "source": [
    "data1[\"subject\"]"
   ]
  },
  {
   "cell_type": "code",
   "execution_count": 38,
   "id": "2c26b97b-7c31-4b10-ad24-cf3079eb2099",
   "metadata": {},
   "outputs": [
    {
     "data": {
      "text/plain": [
       "'big data'"
      ]
     },
     "execution_count": 38,
     "metadata": {},
     "output_type": "execute_result"
    }
   ],
   "source": [
    "data1[\"subject\"][1]\n"
   ]
  },
  {
   "cell_type": "code",
   "execution_count": 2,
   "id": "4475c4c2-0fd0-458c-b613-42037c39f1ec",
   "metadata": {},
   "outputs": [],
   "source": [
    "data = [[\"name\" , \"email_id\", \"number\"],\n",
    "         [\"sudh\", \"sudh@gmail.com\", 4864861],\n",
    "         [\"krish\", \"krish@gmail.com\", 45969876]\n",
    "        ]"
   ]
  },
  {
   "cell_type": "code",
   "execution_count": 3,
   "id": "9b3d274e-aa37-42cd-8a88-b746851308b2",
   "metadata": {},
   "outputs": [],
   "source": [
    "import csv"
   ]
  },
  {
   "cell_type": "code",
   "execution_count": 5,
   "id": "ce3f5f5b-a51a-422d-adf9-a7f9b6cbd32c",
   "metadata": {},
   "outputs": [],
   "source": [
    "with open(\"test3.csv\", \"w\") as f :\n",
    "    w = csv.writer(f)\n",
    "    for i in data:\n",
    "        w.writerow(i)"
   ]
  },
  {
   "cell_type": "code",
   "execution_count": 6,
   "id": "21e298d9-9101-43f3-a4e8-fba7d084dda9",
   "metadata": {},
   "outputs": [
    {
     "name": "stdout",
     "output_type": "stream",
     "text": [
      "['name', 'email_id', 'number']\n",
      "['sudh', 'sudh@gmail.com', '4864861']\n",
      "['krish', 'krish@gmail.com', '45969876']\n"
     ]
    }
   ],
   "source": [
    "with open(\"test3.csv\", \"r\") as f:\n",
    "    read= csv.reader(f)\n",
    "    for i in read:\n",
    "        print(i)"
   ]
  },
  {
   "cell_type": "code",
   "execution_count": 7,
   "id": "2105c701-c6e6-4c1e-aabd-77cb4b4a614d",
   "metadata": {},
   "outputs": [],
   "source": [
    "with open(\"test4.bin\" , \"wb\") as f :\n",
    "    f.write(b\"\\x01\\x02\\x03\")"
   ]
  },
  {
   "cell_type": "code",
   "execution_count": 8,
   "id": "60d8b706-5811-4bc0-b8cc-59c0b971be7f",
   "metadata": {},
   "outputs": [
    {
     "name": "stdout",
     "output_type": "stream",
     "text": [
      "b'\\x01\\x02\\x03'\n"
     ]
    }
   ],
   "source": [
    "with open(\"test4.bin\", \"rb\") as f :\n",
    "    print(f.read())"
   ]
  },
  {
   "cell_type": "code",
   "execution_count": 9,
   "id": "e399c796-c2d2-415b-b677-3fe88d8675b9",
   "metadata": {},
   "outputs": [],
   "source": [
    "import io"
   ]
  },
  {
   "cell_type": "code",
   "execution_count": 16,
   "id": "422a0b8c-1a8f-46cd-bc8a-6f1b383b141b",
   "metadata": {},
   "outputs": [],
   "source": [
    "with open(\"test.txt\", \"wb\") as f:\n",
    "    file= io.BufferedWriter(f)\n",
    "    file.write(b\"A successful Wyckoff analyst must be able to anticipate and correctly judge the direction and magnitude of the move out of a TR. Fortunately, Wyckoff offers time-tested guidelines for identifying and delineating the phases and events within a TR, which, in turn, provide the basis for estimating price targets in the subsequent trend. These concepts are illustrated in the following four schematics; two depicting common variants of accumulation TRs, followed by two examples of distribution TRs. \\n\")\n",
    "    file.write(b\"this is my second line that i am trying to write\")\n",
    "    file.flush()"
   ]
  },
  {
   "cell_type": "code",
   "execution_count": 18,
   "id": "73723d34-2cee-439c-85a6-b2f583cd8367",
   "metadata": {},
   "outputs": [
    {
     "name": "stdout",
     "output_type": "stream",
     "text": [
      "b'A successful Wyckoff analyst must be able to anticipate and correctly judge the direction and magnitude of the move out of a TR. Fortunately, Wyckoff offers time-tested guidelines for identifying and delineating the phases and events within a TR, which, in turn, provide the basis for estimating price targets in the subsequent trend. These concepts are illustrated in the following four schematics; two depicting common variants of accumulation TRs, followed by two examples of distribution TRs. \\nthis is my second line that i am trying to write'\n"
     ]
    }
   ],
   "source": [
    "with open(\"test.txt\", \"rb\") as f:\n",
    "    file = io.BufferedReader(f)\n",
    "    data= file.read()\n",
    "    print(data)"
   ]
  },
  {
   "cell_type": "code",
   "execution_count": 1,
   "id": "2dfb73f8-a6c8-4f14-9f94-490d32a797ab",
   "metadata": {},
   "outputs": [
    {
     "name": "stdout",
     "output_type": "stream",
     "text": [
      "this is my print stamt\n"
     ]
    }
   ],
   "source": [
    "print(\"this is my print stamt\")"
   ]
  },
  {
   "cell_type": "code",
   "execution_count": 1,
   "id": "69c4ba4e-aec2-4599-859e-f27eee62ccc5",
   "metadata": {},
   "outputs": [],
   "source": [
    "import logging"
   ]
  },
  {
   "cell_type": "code",
   "execution_count": 4,
   "id": "313b5c2f-0f6b-4b36-aa63-62a078436cba",
   "metadata": {},
   "outputs": [],
   "source": [
    "logging.basicConfig(filename = \"test.log\", level = logging.INFO)"
   ]
  },
  {
   "cell_type": "code",
   "execution_count": 5,
   "id": "21f0903c-ddd3-4ea3-9494-dcb1de6ab6f5",
   "metadata": {},
   "outputs": [],
   "source": [
    "logging.info(\"this is my line of execution\")"
   ]
  },
  {
   "cell_type": "code",
   "execution_count": 6,
   "id": "dbe8bcb1-d5e6-44da-98a7-f729d15eb833",
   "metadata": {},
   "outputs": [],
   "source": [
    "logging.error(\"this is my error\")"
   ]
  },
  {
   "cell_type": "code",
   "execution_count": 7,
   "id": "7736bdd4-8e70-4dd0-afcf-91b8756cf797",
   "metadata": {},
   "outputs": [],
   "source": [
    "logging.critical(\"this is my critical\")"
   ]
  },
  {
   "cell_type": "code",
   "execution_count": 9,
   "id": "bcbed35c-6a73-41ef-acce-2ce0708923e2",
   "metadata": {},
   "outputs": [],
   "source": [
    "logging.warning(\"this is my warning\")"
   ]
  },
  {
   "cell_type": "code",
   "execution_count": 11,
   "id": "d428310f-93c8-49d8-b4dc-9e0c915245a8",
   "metadata": {},
   "outputs": [],
   "source": [
    "logging.debug(\"this is my debug\")"
   ]
  },
  {
   "cell_type": "code",
   "execution_count": 12,
   "id": "bd627ce2-4fff-4498-9f4f-ff4f8e1c2018",
   "metadata": {},
   "outputs": [
    {
     "ename": "AttributeError",
     "evalue": "module 'logging' has no attribute 'noset'",
     "output_type": "error",
     "traceback": [
      "\u001b[0;31m---------------------------------------------------------------------------\u001b[0m",
      "\u001b[0;31mAttributeError\u001b[0m                            Traceback (most recent call last)",
      "Cell \u001b[0;32mIn[12], line 1\u001b[0m\n\u001b[0;32m----> 1\u001b[0m \u001b[43mlogging\u001b[49m\u001b[38;5;241;43m.\u001b[39;49m\u001b[43mnoset\u001b[49m(\u001b[38;5;124m\"\u001b[39m\u001b[38;5;124mthis is my noset\u001b[39m\u001b[38;5;124m\"\u001b[39m)\n",
      "\u001b[0;31mAttributeError\u001b[0m: module 'logging' has no attribute 'noset'"
     ]
    }
   ],
   "source": [
    "logging.noset(\"this is my noset\")"
   ]
  },
  {
   "cell_type": "code",
   "execution_count": null,
   "id": "6c445c60-72cb-47fd-9dff-9d3043abf4ed",
   "metadata": {},
   "outputs": [],
   "source": []
  },
  {
   "cell_type": "markdown",
   "id": "37682312-d048-4774-9ffb-359321465121",
   "metadata": {},
   "source": [
    "#1. NOSET \n",
    "\n",
    "2. DEBUG \n",
    "\n",
    "3. INFO \n",
    "\n",
    "4. WARNING  \n",
    "\n",
    "5. ERROR  \n",
    "\n",
    "6. CRITICAL  "
   ]
  },
  {
   "cell_type": "code",
   "execution_count": 2,
   "id": "5da39cfb-e538-45db-a054-75428ebfc5fd",
   "metadata": {},
   "outputs": [],
   "source": [
    "logging.basicConfig(filename = \"test1.log\", level= logging.DEBUG, format= \"%(asctime)s %(message)s\")"
   ]
  },
  {
   "cell_type": "code",
   "execution_count": 3,
   "id": "268406fc-2a25-4962-a409-a98f0ffab51e",
   "metadata": {},
   "outputs": [],
   "source": [
    "logging.info(\"this is my info log\")"
   ]
  },
  {
   "cell_type": "code",
   "execution_count": 4,
   "id": "38965aa0-3c70-4b21-8286-ad65832f4e1d",
   "metadata": {},
   "outputs": [],
   "source": [
    "logging.debug(\"this is my debug log\")"
   ]
  },
  {
   "cell_type": "code",
   "execution_count": 5,
   "id": "02e25245-b3a0-4d18-bf6b-12db97f06b95",
   "metadata": {},
   "outputs": [],
   "source": [
    "logging.warning(\"this is my warning log\")"
   ]
  },
  {
   "cell_type": "code",
   "execution_count": 6,
   "id": "738558d3-b0fe-4128-b4b1-53a14ec10a92",
   "metadata": {},
   "outputs": [],
   "source": [
    "logging.shutdown()"
   ]
  },
  {
   "cell_type": "code",
   "execution_count": 2,
   "id": "77c98ed5-73a4-4d58-9345-32fd56f7b893",
   "metadata": {},
   "outputs": [],
   "source": [
    "logging.basicConfig(filename= \"test3.log\", level = logging.DEBUG, format = \"%(asctime)s %(name)s %(levelname)s %(message)s\")"
   ]
  },
  {
   "cell_type": "code",
   "execution_count": 3,
   "id": "7542d5c4-8c3d-48e3-a064-876eff0c14aa",
   "metadata": {},
   "outputs": [],
   "source": [
    "logging.info(\"this is my info log\")"
   ]
  },
  {
   "cell_type": "code",
   "execution_count": 5,
   "id": "9d5a6cf6-37d8-4880-b93a-6c82d20dd6b9",
   "metadata": {},
   "outputs": [],
   "source": [
    "l= [1,2,3,4,5,[4,5,6], \"sudh\", \"kumar\"]"
   ]
  },
  {
   "cell_type": "code",
   "execution_count": 18,
   "id": "27c30089-f30e-4ff0-89ab-5f44e90e6b85",
   "metadata": {},
   "outputs": [],
   "source": [
    "l1_int = []\n",
    "l2_str= []\n",
    "for i in l:\n",
    "    logging.info(\"this is the start of my first for loop{}\".format(l))\n",
    "    logging.info(\"this is my value of i am logging {}\".format(i))\n",
    "    if type(i) == list:\n",
    "        for j in i :\n",
    "            logging.info(\"logging my j {j} and i is {i}\".format(i = i, j = j))\n",
    "            if type(j) == int:\n",
    "                l1_int.append(j)\n",
    "    elif type(i) == int:\n",
    "        l1_int.append(i)\n",
    "    \n",
    "    else :\n",
    "        if type (i) == str:\n",
    "            l2_str.append(i)\n",
    "            \n",
    "logging.info(\"this is my final result with all int {l1} , with all str {l2}\".format(l1 = l1_int, l2 = l2_str))"
   ]
  },
  {
   "cell_type": "code",
   "execution_count": 15,
   "id": "dad0143b-d0a4-4bf4-acf4-7623421fb3e9",
   "metadata": {},
   "outputs": [
    {
     "data": {
      "text/plain": [
       "[1, 2, 3, 4, 5, 4, 5, 6]"
      ]
     },
     "execution_count": 15,
     "metadata": {},
     "output_type": "execute_result"
    }
   ],
   "source": [
    "l1_int"
   ]
  },
  {
   "cell_type": "code",
   "execution_count": 16,
   "id": "97ee86d2-ff15-4bae-81f2-4979693a9ed5",
   "metadata": {},
   "outputs": [
    {
     "data": {
      "text/plain": [
       "['sudh', 'kumar']"
      ]
     },
     "execution_count": 16,
     "metadata": {},
     "output_type": "execute_result"
    }
   ],
   "source": [
    "l2_str"
   ]
  },
  {
   "cell_type": "code",
   "execution_count": null,
   "id": "f346678a-1e94-40a9-857d-2c4e0a7f7133",
   "metadata": {},
   "outputs": [],
   "source": []
  }
 ],
 "metadata": {
  "kernelspec": {
   "display_name": "Python 3 (ipykernel)",
   "language": "python",
   "name": "python3"
  },
  "language_info": {
   "codemirror_mode": {
    "name": "ipython",
    "version": 3
   },
   "file_extension": ".py",
   "mimetype": "text/x-python",
   "name": "python",
   "nbconvert_exporter": "python",
   "pygments_lexer": "ipython3",
   "version": "3.10.8"
  }
 },
 "nbformat": 4,
 "nbformat_minor": 5
}
