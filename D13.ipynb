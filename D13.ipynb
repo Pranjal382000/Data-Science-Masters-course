{
 "cells": [
  {
   "cell_type": "code",
   "execution_count": 1,
   "id": "c0256849-912a-4c2b-9ce5-b36809ecc532",
   "metadata": {},
   "outputs": [
    {
     "name": "stdout",
     "output_type": "stream",
     "text": [
      "division by zero\n"
     ]
    }
   ],
   "source": [
    "try :\n",
    "    a=10\n",
    "    10/0\n",
    "except ZeroDivisionError as e :\n",
    "    print(e)"
   ]
  },
  {
   "cell_type": "code",
   "execution_count": 2,
   "id": "6ca27039-282d-4812-b166-17b1521fe198",
   "metadata": {},
   "outputs": [
    {
     "name": "stdout",
     "output_type": "stream",
     "text": [
      "invalid literal for int() with base 10: 'sudh'\n"
     ]
    }
   ],
   "source": [
    "try :\n",
    "    int(\"sudh\")\n",
    "except (ValueError, TypeError) as e :\n",
    "    print(e)\n",
    "    "
   ]
  },
  {
   "cell_type": "code",
   "execution_count": 3,
   "id": "7d1180b3-cb02-4103-afe5-6a2b32f87b3a",
   "metadata": {},
   "outputs": [
    {
     "name": "stdout",
     "output_type": "stream",
     "text": [
      "this will catch an error\n"
     ]
    }
   ],
   "source": [
    "try :\n",
    "    int(\"sudh\")\n",
    "except :\n",
    "    print(\"this will catch an error\")"
   ]
  },
  {
   "cell_type": "code",
   "execution_count": 4,
   "id": "a2cd83f5-36b8-4363-9fca-740c4d0aa9c7",
   "metadata": {},
   "outputs": [
    {
     "name": "stdout",
     "output_type": "stream",
     "text": [
      "No module named 'sudh'\n"
     ]
    }
   ],
   "source": [
    "try :\n",
    "    import sudh\n",
    "except ImportError as e :\n",
    "    print (e)"
   ]
  },
  {
   "cell_type": "code",
   "execution_count": 8,
   "id": "4994de13-2cf3-4ab8-844d-64022fa87eb4",
   "metadata": {},
   "outputs": [
    {
     "name": "stdout",
     "output_type": "stream",
     "text": [
      "'key10'\n"
     ]
    }
   ],
   "source": [
    "try :\n",
    "    d = {1 : [1,2,3,4,5], \"key\" : \"sudh\"}\n",
    "    d[\"key10\"]\n",
    "except KeyError as e:\n",
    "    print(e)"
   ]
  },
  {
   "cell_type": "code",
   "execution_count": 9,
   "id": "3e4435b6-dad5-425c-a8ee-f692f1875b9c",
   "metadata": {},
   "outputs": [
    {
     "name": "stdout",
     "output_type": "stream",
     "text": [
      "'str' object has no attribute 'test'\n"
     ]
    }
   ],
   "source": [
    "try :\n",
    "    \"sudh\".test()\n",
    "except AttributeError as e:\n",
    "    print(e)"
   ]
  },
  {
   "cell_type": "code",
   "execution_count": 10,
   "id": "7dc0b146-411f-444a-aebb-2fd3eea9698d",
   "metadata": {},
   "outputs": [
    {
     "name": "stdout",
     "output_type": "stream",
     "text": [
      "list index out of range\n"
     ]
    }
   ],
   "source": [
    "try :\n",
    "    l = [1,2,3,4,5]\n",
    "    l[10]\n",
    "except IndexError as e:\n",
    "    print(e)"
   ]
  },
  {
   "cell_type": "code",
   "execution_count": 11,
   "id": "76e27e08-e096-4f0b-9d52-eb85756d46a6",
   "metadata": {},
   "outputs": [
    {
     "name": "stdout",
     "output_type": "stream",
     "text": [
      "unsupported operand type(s) for +: 'int' and 'str'\n"
     ]
    }
   ],
   "source": [
    "try :\n",
    "    123 + \"sudh\"\n",
    "except TypeError as e:\n",
    "    print(e)"
   ]
  },
  {
   "cell_type": "code",
   "execution_count": 13,
   "id": "0d3313a3-8aac-476c-8b13-19429d803f3f",
   "metadata": {},
   "outputs": [
    {
     "name": "stdout",
     "output_type": "stream",
     "text": [
      "[Errno 2] No such file or directory: 'test.txt'\n"
     ]
    }
   ],
   "source": [
    "try :\n",
    "    with open(\"test.txt\" , \"r\") as f:\n",
    "        f.read()\n",
    "except FileNotFoundError as e:\n",
    "    print(e)"
   ]
  },
  {
   "cell_type": "code",
   "execution_count": 15,
   "id": "169d6dec-229a-4f9e-92bd-d460638f2e59",
   "metadata": {},
   "outputs": [
    {
     "name": "stdout",
     "output_type": "stream",
     "text": [
      "test [Errno 2] No such file or directory: 'test.txt'\n"
     ]
    }
   ],
   "source": [
    "try :\n",
    "    with open(\"test.txt\" , \"r\") as f:\n",
    "        f.read()\n",
    "except Exception as e:\n",
    "    print(\"test\", e)\n",
    "except FileNotFoundError as e:\n",
    "    print(\"this is my file not found error\", e)"
   ]
  },
  {
   "cell_type": "code",
   "execution_count": 18,
   "id": "1e68fcf7-634a-466e-8e83-84117838ef7b",
   "metadata": {},
   "outputs": [],
   "source": [
    "def test(file):\n",
    "    try :\n",
    "        with open(\"test.txt\" , \"r\") as f:\n",
    "            f.read()\n",
    "    except Exception as e:\n",
    "        print(\"test\", e)\n",
    "    except FileNotFoundError as e:\n",
    "        print(\"this is my file not found error\", e)"
   ]
  },
  {
   "cell_type": "code",
   "execution_count": 19,
   "id": "7e3f9cbb-4ce0-48fd-a3e1-6e8c4081be72",
   "metadata": {},
   "outputs": [
    {
     "name": "stdout",
     "output_type": "stream",
     "text": [
      "division by zero\n"
     ]
    }
   ],
   "source": [
    "#use always a specifiv exception\n",
    "try :\n",
    "    10/0\n",
    "except Exception as e :\n",
    "    print(e)"
   ]
  },
  {
   "cell_type": "code",
   "execution_count": 20,
   "id": "1159e1a1-2d06-45a7-bb1e-28bc9b27e839",
   "metadata": {},
   "outputs": [
    {
     "name": "stdout",
     "output_type": "stream",
     "text": [
      "division by zero\n"
     ]
    }
   ],
   "source": [
    "try :\n",
    "    10/0\n",
    "except ZeroDivisionError as e :\n",
    "    print(e)"
   ]
  },
  {
   "cell_type": "code",
   "execution_count": 21,
   "id": "76f09136-fc93-4d68-8485-1b0187d0e9b4",
   "metadata": {},
   "outputs": [
    {
     "name": "stdout",
     "output_type": "stream",
     "text": [
      "this is my zero division error i am handling division by zero\n"
     ]
    }
   ],
   "source": [
    "#print always a valid message\n",
    "try :\n",
    "    10/0\n",
    "except ZeroDivisionError as e :\n",
    "    print(\"this is my zero division error i am handling\" , e)"
   ]
  },
  {
   "cell_type": "code",
   "execution_count": 25,
   "id": "4dccd2ac-4980-4393-aade-946bf32814ef",
   "metadata": {},
   "outputs": [],
   "source": [
    "#always try to log\n",
    "import logging\n",
    "logging.basicConfig(filename = \"error.log\" , level= logging.ERROR)\n",
    "try : \n",
    "    10/0\n",
    "except ZeroDivisionError as e :\n",
    "    logging.error(\"this is my zero division error i am handling {}\".format(e))\n",
    "    "
   ]
  },
  {
   "cell_type": "code",
   "execution_count": 26,
   "id": "a0c63a27-1d3b-4002-bd66-24c760ee3b1c",
   "metadata": {},
   "outputs": [],
   "source": [
    "#always avoid to write a multiple exception handling\n",
    "try : \n",
    "    10/0\n",
    "except FileNotFoundError as e:\n",
    "    logging.error(\"this is my file not found {}\".format(e))\n",
    "except AttributeError as e:\n",
    "    logging.error(\"this is my attribute error {}\".format(e))\n",
    "except ZeroDivisionError as e :\n",
    "    logging.error(\"this is my zero division error i am handling {}\".format(e))"
   ]
  },
  {
   "cell_type": "code",
   "execution_count": 27,
   "id": "28862d51-4d52-4d51-b9dc-b224be89f355",
   "metadata": {},
   "outputs": [],
   "source": [
    "#always try to prepare a proper documentation"
   ]
  },
  {
   "cell_type": "code",
   "execution_count": 29,
   "id": "ad01fede-8d33-4786-84f1-c4d21e0d3d3c",
   "metadata": {},
   "outputs": [],
   "source": [
    "f= open(\"test.txt\",\"w\")"
   ]
  },
  {
   "cell_type": "code",
   "execution_count": 31,
   "id": "ac98f8d7-7717-4501-82b8-9af9a371822f",
   "metadata": {},
   "outputs": [],
   "source": [
    "#cleanup all the resources\n",
    "\n",
    "try :\n",
    "    with open(\"test.txt\", \"r\") as f:\n",
    "        f.write(\"this is my msg to file\")\n",
    "except FileNotFoundError as e:\n",
    "    logging.error(\"this is my file not found {}\".format(e))\n",
    "finally:\n",
    "    f.close()"
   ]
  },
  {
   "cell_type": "code",
   "execution_count": null,
   "id": "64753045-5cb4-43aa-83c9-40db760bf32c",
   "metadata": {},
   "outputs": [],
   "source": []
  }
 ],
 "metadata": {
  "kernelspec": {
   "display_name": "Python 3 (ipykernel)",
   "language": "python",
   "name": "python3"
  },
  "language_info": {
   "codemirror_mode": {
    "name": "ipython",
    "version": 3
   },
   "file_extension": ".py",
   "mimetype": "text/x-python",
   "name": "python",
   "nbconvert_exporter": "python",
   "pygments_lexer": "ipython3",
   "version": "3.10.8"
  }
 },
 "nbformat": 4,
 "nbformat_minor": 5
}
