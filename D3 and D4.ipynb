{
 "cells": [
  {
   "cell_type": "code",
   "execution_count": 1,
   "id": "4fb5a5de-00f6-4ee5-bb8a-631367c33972",
   "metadata": {},
   "outputs": [
    {
     "name": "stdin",
     "output_type": "stream",
     "text": [
      "My name is  Pranjal\n"
     ]
    },
    {
     "name": "stdout",
     "output_type": "stream",
     "text": [
      "You are awesome\n"
     ]
    }
   ],
   "source": [
    "name= str(input(\"My name is \"))\n",
    "if name==\"Pranjal\":\n",
    "    print(\"You are awesome\")"
   ]
  },
  {
   "cell_type": "markdown",
   "id": "97bad637-924d-4765-8165-1a78dbc7b34e",
   "metadata": {},
   "source": [
    "##logical operators\n",
    "\n",
    "1.And\n",
    "\n",
    "2.Or\n",
    "\n",
    "3.Not"
   ]
  },
  {
   "cell_type": "code",
   "execution_count": 2,
   "id": "392cfa23-aa63-430b-ac48-851efb6f7cfd",
   "metadata": {},
   "outputs": [
    {
     "data": {
      "text/plain": [
       "False"
      ]
     },
     "execution_count": 2,
     "metadata": {},
     "output_type": "execute_result"
    }
   ],
   "source": [
    "True and False"
   ]
  },
  {
   "cell_type": "code",
   "execution_count": 4,
   "id": "c8169ae3-dea6-4699-8573-b88e86d71ff0",
   "metadata": {},
   "outputs": [
    {
     "data": {
      "text/plain": [
       "True"
      ]
     },
     "execution_count": 4,
     "metadata": {},
     "output_type": "execute_result"
    }
   ],
   "source": [
    "True and True"
   ]
  },
  {
   "cell_type": "code",
   "execution_count": 5,
   "id": "ec3d54bf-a5fb-45cf-a83f-68157ffd9d53",
   "metadata": {},
   "outputs": [
    {
     "data": {
      "text/plain": [
       "False"
      ]
     },
     "execution_count": 5,
     "metadata": {},
     "output_type": "execute_result"
    }
   ],
   "source": [
    "False and True"
   ]
  },
  {
   "cell_type": "code",
   "execution_count": 6,
   "id": "c662b15e-0d98-415c-8214-fdac5f5d39a4",
   "metadata": {},
   "outputs": [
    {
     "data": {
      "text/plain": [
       "False"
      ]
     },
     "execution_count": 6,
     "metadata": {},
     "output_type": "execute_result"
    }
   ],
   "source": [
    "False and False"
   ]
  },
  {
   "cell_type": "code",
   "execution_count": 7,
   "id": "d0dc5ee6-d12e-4d43-b5e0-6365a5a0eefb",
   "metadata": {},
   "outputs": [
    {
     "data": {
      "text/plain": [
       "True"
      ]
     },
     "execution_count": 7,
     "metadata": {},
     "output_type": "execute_result"
    }
   ],
   "source": [
    "True or True"
   ]
  },
  {
   "cell_type": "code",
   "execution_count": 8,
   "id": "1df0d022-dac4-4da7-9cb2-39aa5187ab2d",
   "metadata": {},
   "outputs": [
    {
     "data": {
      "text/plain": [
       "True"
      ]
     },
     "execution_count": 8,
     "metadata": {},
     "output_type": "execute_result"
    }
   ],
   "source": [
    "True or False"
   ]
  },
  {
   "cell_type": "code",
   "execution_count": 9,
   "id": "26f29d70-c400-4abb-808b-9beb960034f3",
   "metadata": {},
   "outputs": [
    {
     "data": {
      "text/plain": [
       "True"
      ]
     },
     "execution_count": 9,
     "metadata": {},
     "output_type": "execute_result"
    }
   ],
   "source": [
    "False or True"
   ]
  },
  {
   "cell_type": "code",
   "execution_count": 10,
   "id": "4853d9b3-fef9-4322-9482-7f61763b0b7f",
   "metadata": {},
   "outputs": [
    {
     "data": {
      "text/plain": [
       "False"
      ]
     },
     "execution_count": 10,
     "metadata": {},
     "output_type": "execute_result"
    }
   ],
   "source": [
    "False or False"
   ]
  },
  {
   "cell_type": "code",
   "execution_count": 11,
   "id": "51ae1a66-bf65-4c0f-b079-8a020e0e938f",
   "metadata": {},
   "outputs": [
    {
     "data": {
      "text/plain": [
       "True"
      ]
     },
     "execution_count": 11,
     "metadata": {},
     "output_type": "execute_result"
    }
   ],
   "source": [
    "not 0"
   ]
  },
  {
   "cell_type": "code",
   "execution_count": 12,
   "id": "29c5402d-f670-49c1-944b-bc0dab1714ce",
   "metadata": {},
   "outputs": [
    {
     "data": {
      "text/plain": [
       "False"
      ]
     },
     "execution_count": 12,
     "metadata": {},
     "output_type": "execute_result"
    }
   ],
   "source": [
    "not 2"
   ]
  },
  {
   "cell_type": "code",
   "execution_count": 13,
   "id": "f203fc3f-b7b7-40a2-aff9-3929c1f36e47",
   "metadata": {},
   "outputs": [
    {
     "data": {
      "text/plain": [
       "False"
      ]
     },
     "execution_count": 13,
     "metadata": {},
     "output_type": "execute_result"
    }
   ],
   "source": [
    "not True"
   ]
  },
  {
   "cell_type": "code",
   "execution_count": 14,
   "id": "38064e9e-07e4-4abb-8829-4e1286b9e13e",
   "metadata": {},
   "outputs": [
    {
     "data": {
      "text/plain": [
       "True"
      ]
     },
     "execution_count": 14,
     "metadata": {},
     "output_type": "execute_result"
    }
   ],
   "source": [
    "bool(1)"
   ]
  },
  {
   "cell_type": "code",
   "execution_count": 16,
   "id": "948fd3d3-df13-4901-a2fa-3c84d0bf7319",
   "metadata": {},
   "outputs": [
    {
     "data": {
      "text/plain": [
       "False"
      ]
     },
     "execution_count": 16,
     "metadata": {},
     "output_type": "execute_result"
    }
   ],
   "source": [
    "bool(0)"
   ]
  },
  {
   "cell_type": "code",
   "execution_count": 17,
   "id": "88bd6e11-13cf-48c2-be2e-4906a0a54ca4",
   "metadata": {},
   "outputs": [
    {
     "data": {
      "text/plain": [
       "0"
      ]
     },
     "execution_count": 17,
     "metadata": {},
     "output_type": "execute_result"
    }
   ],
   "source": [
    "False*False"
   ]
  },
  {
   "cell_type": "code",
   "execution_count": 18,
   "id": "44fd0225-fdba-4bb8-8bce-5ae21cc6476c",
   "metadata": {},
   "outputs": [
    {
     "data": {
      "text/plain": [
       "True"
      ]
     },
     "execution_count": 18,
     "metadata": {},
     "output_type": "execute_result"
    }
   ],
   "source": [
    "not(False)* True"
   ]
  },
  {
   "cell_type": "code",
   "execution_count": 19,
   "id": "2ee687f0-329f-4a1f-a52c-f9339d9a1457",
   "metadata": {},
   "outputs": [
    {
     "data": {
      "text/plain": [
       "1"
      ]
     },
     "execution_count": 19,
     "metadata": {},
     "output_type": "execute_result"
    }
   ],
   "source": [
    "(not(False))* True"
   ]
  },
  {
   "cell_type": "code",
   "execution_count": 22,
   "id": "1d37b5d9-12b0-468d-85b6-cdcaac4d9858",
   "metadata": {},
   "outputs": [
    {
     "name": "stdout",
     "output_type": "stream",
     "text": [
      "0\n"
     ]
    }
   ],
   "source": [
    "print((not(False)) * False)"
   ]
  },
  {
   "cell_type": "code",
   "execution_count": 5,
   "id": "a71f3ba7-884a-4f6e-a703-d6b3c5739c24",
   "metadata": {},
   "outputs": [],
   "source": [
    "lst_a=[1,2,3,4]\n",
    "lst_b=[1,2,3,4]"
   ]
  },
  {
   "cell_type": "code",
   "execution_count": 6,
   "id": "4e241f5d-740f-46fb-9098-939f2622ae4b",
   "metadata": {},
   "outputs": [
    {
     "data": {
      "text/plain": [
       "False"
      ]
     },
     "execution_count": 6,
     "metadata": {},
     "output_type": "execute_result"
    }
   ],
   "source": [
    "lst_a is lst_b"
   ]
  },
  {
   "cell_type": "code",
   "execution_count": 7,
   "id": "a02550fd-c2af-4cab-82f2-59ecfcf6f978",
   "metadata": {},
   "outputs": [
    {
     "data": {
      "text/plain": [
       "139645835104896"
      ]
     },
     "execution_count": 7,
     "metadata": {},
     "output_type": "execute_result"
    }
   ],
   "source": [
    "id(lst_a)"
   ]
  },
  {
   "cell_type": "code",
   "execution_count": 30,
   "id": "168f18b0-0802-4717-97f5-56dacda5a79f",
   "metadata": {},
   "outputs": [],
   "source": [
    "lst_a=[1,2,3,4]\n",
    "lst_b=[1,2,3,4]\n"
   ]
  },
  {
   "cell_type": "code",
   "execution_count": 8,
   "id": "78fa097d-6066-4eb3-9266-48801fd19b76",
   "metadata": {},
   "outputs": [
    {
     "name": "stdout",
     "output_type": "stream",
     "text": [
      "139645835104896\n",
      "139646141067392\n"
     ]
    }
   ],
   "source": [
    "print(id(lst_a))\n",
    "print(id(lst_b))"
   ]
  },
  {
   "cell_type": "code",
   "execution_count": 1,
   "id": "5dd3fcef-ee8f-4637-882b-3d6aa5f832ba",
   "metadata": {},
   "outputs": [
    {
     "ename": "NameError",
     "evalue": "name 'last_a' is not defined",
     "output_type": "error",
     "traceback": [
      "\u001b[0;31m---------------------------------------------------------------------------\u001b[0m",
      "\u001b[0;31mNameError\u001b[0m                                 Traceback (most recent call last)",
      "Cell \u001b[0;32mIn[1], line 2\u001b[0m\n\u001b[1;32m      1\u001b[0m lst_a\u001b[38;5;241m=\u001b[39m[\u001b[38;5;241m1\u001b[39m,\u001b[38;5;241m2\u001b[39m,\u001b[38;5;241m3\u001b[39m,\u001b[38;5;241m4\u001b[39m]\n\u001b[0;32m----> 2\u001b[0m lst_b\u001b[38;5;241m=\u001b[39m\u001b[43mlast_a\u001b[49m\n\u001b[1;32m      4\u001b[0m \u001b[38;5;28mprint\u001b[39m(\u001b[38;5;28mid\u001b[39m(lst_a))\n\u001b[1;32m      5\u001b[0m \u001b[38;5;28mprint\u001b[39m(\u001b[38;5;28mid\u001b[39m(lst_b))\n",
      "\u001b[0;31mNameError\u001b[0m: name 'last_a' is not defined"
     ]
    }
   ],
   "source": [
    "lst_a=[1,2,3,4]\n",
    "lst_b=last_a\n",
    "\n",
    "print(id(lst_a))\n",
    "print(id(lst_b))"
   ]
  },
  {
   "cell_type": "code",
   "execution_count": 16,
   "id": "7ab6d88c-ab56-4dd5-ab86-50853c4a89ff",
   "metadata": {},
   "outputs": [
    {
     "ename": "NameError",
     "evalue": "name 'lst' is not defined",
     "output_type": "error",
     "traceback": [
      "\u001b[0;31m---------------------------------------------------------------------------\u001b[0m",
      "\u001b[0;31mNameError\u001b[0m                                 Traceback (most recent call last)",
      "Cell \u001b[0;32mIn[16], line 1\u001b[0m\n\u001b[0;32m----> 1\u001b[0m \u001b[38;5;28mid\u001b[39m(\u001b[43mlst\u001b[49m)\n",
      "\u001b[0;31mNameError\u001b[0m: name 'lst' is not defined"
     ]
    }
   ],
   "source": [
    "id(lst)"
   ]
  },
  {
   "cell_type": "code",
   "execution_count": 3,
   "id": "b57f5a5b-7092-4040-bd4c-05cba369cc21",
   "metadata": {},
   "outputs": [],
   "source": [
    "a=2\n",
    "b=2"
   ]
  },
  {
   "cell_type": "code",
   "execution_count": 4,
   "id": "1131e72b-1f0e-4a62-b703-91526b7c7232",
   "metadata": {},
   "outputs": [
    {
     "name": "stdout",
     "output_type": "stream",
     "text": [
      "139646184030480\n",
      "139646184030480\n"
     ]
    }
   ],
   "source": [
    "print(id(a))\n",
    "print(id(b))"
   ]
  },
  {
   "cell_type": "code",
   "execution_count": 39,
   "id": "1562f6fd-912a-432b-a30c-4a050d1892c0",
   "metadata": {},
   "outputs": [
    {
     "data": {
      "text/plain": [
       "[1, 2, 3, 4]"
      ]
     },
     "execution_count": 39,
     "metadata": {},
     "output_type": "execute_result"
    }
   ],
   "source": [
    "lst_a"
   ]
  },
  {
   "cell_type": "code",
   "execution_count": 40,
   "id": "9b62ddaf-74dd-448c-aafc-a462fa19e879",
   "metadata": {},
   "outputs": [
    {
     "data": {
      "text/plain": [
       "[1, 2, 3, 4]"
      ]
     },
     "execution_count": 40,
     "metadata": {},
     "output_type": "execute_result"
    }
   ],
   "source": [
    "lst_b"
   ]
  },
  {
   "cell_type": "code",
   "execution_count": 41,
   "id": "5462bb87-2365-4a7e-9e11-b31e94eb51a1",
   "metadata": {},
   "outputs": [
    {
     "data": {
      "text/plain": [
       "2"
      ]
     },
     "execution_count": 41,
     "metadata": {},
     "output_type": "execute_result"
    }
   ],
   "source": [
    "a"
   ]
  },
  {
   "cell_type": "code",
   "execution_count": 42,
   "id": "134ee2f9-8bf8-4e0d-a4d6-62299a95a17d",
   "metadata": {},
   "outputs": [],
   "source": [
    "str=\"krish\""
   ]
  },
  {
   "cell_type": "code",
   "execution_count": 43,
   "id": "6813150f-e4d9-4873-88ca-cbdce1d88bc9",
   "metadata": {},
   "outputs": [
    {
     "data": {
      "text/plain": [
       "'krish'"
      ]
     },
     "execution_count": 43,
     "metadata": {},
     "output_type": "execute_result"
    }
   ],
   "source": [
    "str"
   ]
  },
  {
   "cell_type": "code",
   "execution_count": 44,
   "id": "67b58390-7d49-4050-99c6-8da9bb05d23b",
   "metadata": {},
   "outputs": [
    {
     "data": {
      "text/plain": [
       "'k'"
      ]
     },
     "execution_count": 44,
     "metadata": {},
     "output_type": "execute_result"
    }
   ],
   "source": [
    "str[0]"
   ]
  },
  {
   "cell_type": "code",
   "execution_count": 47,
   "id": "ec5b5c1a-f676-428b-b34c-7ed190633488",
   "metadata": {},
   "outputs": [
    {
     "name": "stdout",
     "output_type": "stream",
     "text": [
      "1\n",
      "2\n",
      "3\n",
      "4\n",
      "5\n"
     ]
    }
   ],
   "source": [
    "for i in range(1,6):\n",
    "    print(i)"
   ]
  },
  {
   "cell_type": "markdown",
   "id": "4b9559dc-0a85-4e37-a522-d59819ce24c6",
   "metadata": {},
   "source": [
    "#Strings "
   ]
  },
  {
   "cell_type": "code",
   "execution_count": 48,
   "id": "c5744720-9c8f-4767-b0e1-fe7ae7faa139",
   "metadata": {},
   "outputs": [],
   "source": [
    "str1=\"Welcome to Data Science Master\""
   ]
  },
  {
   "cell_type": "code",
   "execution_count": 64,
   "id": "08d9dd7e-485a-413a-be52-a211c3202a09",
   "metadata": {},
   "outputs": [
    {
     "data": {
      "text/plain": [
       "'come to Data Science Master'"
      ]
     },
     "execution_count": 64,
     "metadata": {},
     "output_type": "execute_result"
    }
   ],
   "source": [
    "str1[3:]"
   ]
  },
  {
   "cell_type": "code",
   "execution_count": 53,
   "id": "342a20d2-ce5b-494b-90e3-f6aa1fada29a",
   "metadata": {},
   "outputs": [],
   "source": [
    "string= \"Pw Skills of Data Science\""
   ]
  },
  {
   "cell_type": "code",
   "execution_count": 60,
   "id": "c8715a36-6b38-4fa5-9b65-6b6f290950fb",
   "metadata": {},
   "outputs": [
    {
     "data": {
      "text/plain": [
       "'ills o'"
      ]
     },
     "execution_count": 60,
     "metadata": {},
     "output_type": "execute_result"
    }
   ],
   "source": [
    "string[5:11]"
   ]
  },
  {
   "cell_type": "code",
   "execution_count": 61,
   "id": "36ccf98d-89b2-4d22-b918-ce7c730a9627",
   "metadata": {},
   "outputs": [
    {
     "data": {
      "text/plain": [
       "'e'"
      ]
     },
     "execution_count": 61,
     "metadata": {},
     "output_type": "execute_result"
    }
   ],
   "source": [
    "string[-1]"
   ]
  },
  {
   "cell_type": "code",
   "execution_count": 63,
   "id": "07d4d2bc-14dd-4cec-8f66-6cbce220fa6d",
   "metadata": {},
   "outputs": [
    {
     "data": {
      "text/plain": [
       "'nce'"
      ]
     },
     "execution_count": 63,
     "metadata": {},
     "output_type": "execute_result"
    }
   ],
   "source": [
    "string[-3:]"
   ]
  },
  {
   "cell_type": "code",
   "execution_count": 65,
   "id": "ed583841-9edf-45c8-9aed-253a6e6fe54b",
   "metadata": {},
   "outputs": [
    {
     "data": {
      "text/plain": [
       "'Pw Skills of Data Scienc'"
      ]
     },
     "execution_count": 65,
     "metadata": {},
     "output_type": "execute_result"
    }
   ],
   "source": [
    "string[:-1]"
   ]
  },
  {
   "cell_type": "code",
   "execution_count": 66,
   "id": "a06d0823-5507-4355-a0a4-91e552b7e21a",
   "metadata": {},
   "outputs": [
    {
     "data": {
      "text/plain": [
       "'Pw Sk'"
      ]
     },
     "execution_count": 66,
     "metadata": {},
     "output_type": "execute_result"
    }
   ],
   "source": [
    "string[:5]"
   ]
  },
  {
   "cell_type": "code",
   "execution_count": 69,
   "id": "b33bfaed-2424-4683-81ff-15923f7596fb",
   "metadata": {},
   "outputs": [
    {
     "data": {
      "text/plain": [
       "'of '"
      ]
     },
     "execution_count": 69,
     "metadata": {},
     "output_type": "execute_result"
    }
   ],
   "source": [
    "string[-15:13]"
   ]
  },
  {
   "cell_type": "code",
   "execution_count": 70,
   "id": "67d40731-e583-470a-b877-e1ad4af85bb1",
   "metadata": {},
   "outputs": [
    {
     "data": {
      "text/plain": [
       "'ecneicS ataD fo sllikS wP'"
      ]
     },
     "execution_count": 70,
     "metadata": {},
     "output_type": "execute_result"
    }
   ],
   "source": [
    "string[::-1]"
   ]
  },
  {
   "cell_type": "code",
   "execution_count": 72,
   "id": "8845edaf-ce7b-407d-b6e8-6f66949cb16f",
   "metadata": {},
   "outputs": [
    {
     "data": {
      "text/plain": [
       "'eeSt  lSP'"
      ]
     },
     "execution_count": 72,
     "metadata": {},
     "output_type": "execute_result"
    }
   ],
   "source": [
    "string[::-3]"
   ]
  },
  {
   "cell_type": "code",
   "execution_count": 82,
   "id": "0aa51452-99c8-4de9-838b-ea52d1dc295b",
   "metadata": {},
   "outputs": [],
   "source": [
    "course_name=\"Data Science Masters\""
   ]
  },
  {
   "cell_type": "code",
   "execution_count": 102,
   "id": "0a06bd4d-5692-4a85-8838-a914bd583f45",
   "metadata": {},
   "outputs": [
    {
     "data": {
      "text/plain": [
       "'Science'"
      ]
     },
     "execution_count": 102,
     "metadata": {},
     "output_type": "execute_result"
    }
   ],
   "source": [
    "course_name[5:12]"
   ]
  },
  {
   "cell_type": "code",
   "execution_count": 100,
   "id": "e6cb7c66-7eae-4562-8ce0-21b9e02f7d56",
   "metadata": {},
   "outputs": [
    {
     "data": {
      "text/plain": [
       "'ecneicS'"
      ]
     },
     "execution_count": 100,
     "metadata": {},
     "output_type": "execute_result"
    }
   ],
   "source": [
    "course_name[11:4:-1]"
   ]
  },
  {
   "cell_type": "code",
   "execution_count": 5,
   "id": "4fe6c713-5c0a-4658-b6fa-b2ed26e80be8",
   "metadata": {},
   "outputs": [],
   "source": [
    "name=\"Pranjal\""
   ]
  },
  {
   "cell_type": "code",
   "execution_count": 22,
   "id": "ff103928-4da0-490f-ab32-74001d31dc49",
   "metadata": {},
   "outputs": [
    {
     "name": "stdout",
     "output_type": "stream",
     "text": [
      "PranjalPranjalPranjalPranjalPranjalPranjalPranjalPranjalPranjalPranjalPranjalPranjalPranjalPranjalPranjalPranjalPranjalPranjalPranjalPranjalPranjalPranjalPranjalPranjalPranjalPranjalPranjalPranjalPranjalPranjalPranjalPranjalPranjalPranjalPranjalPranjalPranjalPranjalPranjalPranjalPranjalPranjalPranjalPranjalPranjalPranjalPranjalPranjalPranjalPranjalPranjalPranjalPranjalPranjalPranjalPranjalPranjalPranjalPranjalPranjalPranjalPranjalPranjalPranjalPranjalPranjalPranjalPranjalPranjalPranjalPranjalPranjalPranjalPranjalPranjalPranjalPranjalPranjalPranjalPranjalPranjalPranjalPranjalPranjalPranjalPranjalPranjalPranjalPranjalPranjalPranjalPranjalPranjalPranjalPranjalPranjalPranjalPranjalPranjalPranjal\n"
     ]
    }
   ],
   "source": [
    "print(name*100)"
   ]
  },
  {
   "cell_type": "code",
   "execution_count": 23,
   "id": "29b5e601-3f14-498e-a9dd-944d07ef4877",
   "metadata": {},
   "outputs": [],
   "source": [
    "course_name=\"Data Science Masters\""
   ]
  },
  {
   "cell_type": "code",
   "execution_count": 24,
   "id": "d9714505-e4a3-4b7c-bd3b-24eafceb5785",
   "metadata": {},
   "outputs": [
    {
     "data": {
      "text/plain": [
       "1"
      ]
     },
     "execution_count": 24,
     "metadata": {},
     "output_type": "execute_result"
    }
   ],
   "source": [
    "course_name.find(\"a\")"
   ]
  },
  {
   "cell_type": "code",
   "execution_count": 25,
   "id": "716f3703-b9f4-4855-bf8a-dda293957726",
   "metadata": {},
   "outputs": [
    {
     "data": {
      "text/plain": [
       "13"
      ]
     },
     "execution_count": 25,
     "metadata": {},
     "output_type": "execute_result"
    }
   ],
   "source": [
    "course_name.find(\"M\")"
   ]
  },
  {
   "cell_type": "code",
   "execution_count": 28,
   "id": "99316f58-c74f-4f27-b297-305e4f0827b6",
   "metadata": {},
   "outputs": [
    {
     "data": {
      "text/plain": [
       "3"
      ]
     },
     "execution_count": 28,
     "metadata": {},
     "output_type": "execute_result"
    }
   ],
   "source": [
    "course_name.count(\"a\")"
   ]
  },
  {
   "cell_type": "code",
   "execution_count": 27,
   "id": "ff3280f7-82c7-4b2d-9ac6-a37987d1e084",
   "metadata": {},
   "outputs": [
    {
     "data": {
      "text/plain": [
       "2"
      ]
     },
     "execution_count": 27,
     "metadata": {},
     "output_type": "execute_result"
    }
   ],
   "source": [
    "course_name.count(\" \")"
   ]
  },
  {
   "cell_type": "code",
   "execution_count": 30,
   "id": "49764e8e-9cea-40da-b627-22686e2d4c16",
   "metadata": {},
   "outputs": [
    {
     "data": {
      "text/plain": [
       "['Data ', ' Masters']"
      ]
     },
     "execution_count": 30,
     "metadata": {},
     "output_type": "execute_result"
    }
   ],
   "source": [
    "course_name.split(\"Science\")"
   ]
  },
  {
   "cell_type": "code",
   "execution_count": 31,
   "id": "57974110-99af-4cfb-b0ee-6cb4a2b3d8e2",
   "metadata": {},
   "outputs": [
    {
     "data": {
      "text/plain": [
       "['Data ', 'cience Masters']"
      ]
     },
     "execution_count": 31,
     "metadata": {},
     "output_type": "execute_result"
    }
   ],
   "source": [
    "course_name.split(\"S\")"
   ]
  },
  {
   "cell_type": "code",
   "execution_count": 32,
   "id": "00554532-343b-4844-ade5-decb638be850",
   "metadata": {},
   "outputs": [
    {
     "data": {
      "text/plain": [
       "('Data ', 'S', 'cience Masters')"
      ]
     },
     "execution_count": 32,
     "metadata": {},
     "output_type": "execute_result"
    }
   ],
   "source": [
    "course_name.partition(\"S\")"
   ]
  },
  {
   "cell_type": "code",
   "execution_count": 34,
   "id": "adceabd0-ed75-4b2b-affa-f92cd1cdd1f0",
   "metadata": {},
   "outputs": [
    {
     "data": {
      "text/plain": [
       "'DATA SCIENCE MASTERS'"
      ]
     },
     "execution_count": 34,
     "metadata": {},
     "output_type": "execute_result"
    }
   ],
   "source": [
    "course_name.upper()"
   ]
  },
  {
   "cell_type": "code",
   "execution_count": 35,
   "id": "1d8ea6a0-b979-4ae0-b979-8367408c92ee",
   "metadata": {},
   "outputs": [
    {
     "data": {
      "text/plain": [
       "'data science masters'"
      ]
     },
     "execution_count": 35,
     "metadata": {},
     "output_type": "execute_result"
    }
   ],
   "source": [
    "course_name.lower()"
   ]
  },
  {
   "cell_type": "code",
   "execution_count": 36,
   "id": "91c40fc2-8aa8-490f-90bc-49cc9ed1d1f4",
   "metadata": {},
   "outputs": [
    {
     "data": {
      "text/plain": [
       "'dATA sCIENCE mASTERS'"
      ]
     },
     "execution_count": 36,
     "metadata": {},
     "output_type": "execute_result"
    }
   ],
   "source": [
    "course_name.swapcase()"
   ]
  },
  {
   "cell_type": "code",
   "execution_count": 37,
   "id": "57d53b52-63d1-404a-a4c9-7aee55e9a042",
   "metadata": {},
   "outputs": [
    {
     "data": {
      "text/plain": [
       "'Data Science Masters'"
      ]
     },
     "execution_count": 37,
     "metadata": {},
     "output_type": "execute_result"
    }
   ],
   "source": [
    "course_name.title()"
   ]
  },
  {
   "cell_type": "code",
   "execution_count": 38,
   "id": "e5fbaa69-bdae-42b5-b4bc-ab16dd09a3a4",
   "metadata": {},
   "outputs": [
    {
     "name": "stdout",
     "output_type": "stream",
     "text": [
      "1\n",
      "3\n",
      "6\n",
      "10\n",
      "15\n",
      "21\n",
      "28\n",
      "36\n",
      "45\n",
      "55\n",
      "66\n",
      "78\n",
      "91\n"
     ]
    }
   ],
   "source": [
    "sum=0\n",
    "for i in range(1,100):\n",
    "    sum+=i\n",
    "    if sum>100:\n",
    "        break\n",
    "    print(sum)"
   ]
  },
  {
   "cell_type": "code",
   "execution_count": 19,
   "id": "926cc546-7d48-4e61-9c40-2d22cff4ae62",
   "metadata": {},
   "outputs": [
    {
     "ename": "SyntaxError",
     "evalue": "invalid syntax (4290431254.py, line 2)",
     "output_type": "error",
     "traceback": [
      "\u001b[0;36m  Cell \u001b[0;32mIn[19], line 2\u001b[0;36m\u001b[0m\n\u001b[0;31m    whilei<1:\u001b[0m\n\u001b[0m            ^\u001b[0m\n\u001b[0;31mSyntaxError\u001b[0m\u001b[0;31m:\u001b[0m invalid syntax\n"
     ]
    }
   ],
   "source": [
    "i=0\n",
    "whilei<1:\n",
    "    print(\"pwskills\")"
   ]
  },
  {
   "cell_type": "code",
   "execution_count": null,
   "id": "273cde85-a2e4-4079-a65a-15705311e051",
   "metadata": {},
   "outputs": [],
   "source": [
    "num=2\n",
    "sum=0\n",
    "while num"
   ]
  },
  {
   "cell_type": "code",
   "execution_count": 22,
   "id": "c9e0d9ef-a08d-459b-b924-77d8e5ab854c",
   "metadata": {},
   "outputs": [
    {
     "name": "stdout",
     "output_type": "stream",
     "text": [
      "['0', '10', '20', '30', '40', '50']\n"
     ]
    }
   ],
   "source": [
    "list_out=[]\n",
    "for i in range(0,51,10):\n",
    "    list_out.append(str(i))\n",
    "print(list_out)"
   ]
  },
  {
   "cell_type": "code",
   "execution_count": 24,
   "id": "7b3e92a2-41e3-4e7e-8e89-386d1e1c80da",
   "metadata": {},
   "outputs": [
    {
     "name": "stdout",
     "output_type": "stream",
     "text": [
      "{1, 4, 9, 16, 25}\n"
     ]
    }
   ],
   "source": [
    "numbers=(1,2,3,4,5,5,4,3,2,1)\n",
    "list=[]\n",
    "for number in numbers:\n",
    "    list.append(number**2)\n",
    "print(set(list))"
   ]
  },
  {
   "cell_type": "code",
   "execution_count": 25,
   "id": "ba174760-17ec-4b91-9c2e-19f2f37d3c10",
   "metadata": {},
   "outputs": [
    {
     "data": {
      "text/plain": [
       "'pwskills'"
      ]
     },
     "execution_count": 25,
     "metadata": {},
     "output_type": "execute_result"
    }
   ],
   "source": [
    "string=\"pwskills\"\n",
    "\"\".join(string.replace(\"\",\"\"))"
   ]
  },
  {
   "cell_type": "code",
   "execution_count": 26,
   "id": "c0c71fb0-f84d-4936-94ff-1888d26b3f9c",
   "metadata": {},
   "outputs": [
    {
     "data": {
      "text/plain": [
       "False"
      ]
     },
     "execution_count": 26,
     "metadata": {},
     "output_type": "execute_result"
    }
   ],
   "source": [
    "\"pskills\"[::-1].upper().replace(\"SLLIKSWP\",\"pwskills\").islower()"
   ]
  },
  {
   "cell_type": "code",
   "execution_count": 27,
   "id": "587e9226-9fdf-4ae4-bdb4-44fc90d21433",
   "metadata": {},
   "outputs": [
    {
     "name": "stdout",
     "output_type": "stream",
     "text": [
      "I\n",
      "Want\n",
      "To\n",
      "Be\n",
      "A\n",
      "Data\n",
      "Scientist\n"
     ]
    }
   ],
   "source": [
    "s=\"i want to be a data scientist\"\n",
    "for i in s.split():\n",
    "    i.capitalize()\n",
    "    print(i.title())"
   ]
  },
  {
   "cell_type": "markdown",
   "id": "ce1e78a5-fb94-4c37-8e45-8969f0b5095d",
   "metadata": {},
   "source": [
    "#Reversing a string "
   ]
  },
  {
   "cell_type": "code",
   "execution_count": 28,
   "id": "833c12a2-7ad7-46d2-ab06-bed37195ec8f",
   "metadata": {},
   "outputs": [
    {
     "data": {
      "text/plain": [
       "'lajnarP'"
      ]
     },
     "execution_count": 28,
     "metadata": {},
     "output_type": "execute_result"
    }
   ],
   "source": [
    "name[::-1]"
   ]
  },
  {
   "cell_type": "code",
   "execution_count": 29,
   "id": "e5687c1b-c136-4c89-aeae-b82d98243f26",
   "metadata": {},
   "outputs": [],
   "source": [
    "name= \"Data Science Masters\""
   ]
  },
  {
   "cell_type": "code",
   "execution_count": 31,
   "id": "e38cf2f1-0b6b-4274-abdc-55ac2ab568be",
   "metadata": {},
   "outputs": [
    {
     "data": {
      "text/plain": [
       "'s r e t s a M   e c n e i c S   a t a D'"
      ]
     },
     "execution_count": 31,
     "metadata": {},
     "output_type": "execute_result"
    }
   ],
   "source": [
    "\" \".join(reversed(name))"
   ]
  },
  {
   "cell_type": "code",
   "execution_count": 33,
   "id": "433778c5-8704-4c6d-8b14-81beedea31db",
   "metadata": {},
   "outputs": [
    {
     "data": {
      "text/plain": [
       "'a'"
      ]
     },
     "execution_count": 33,
     "metadata": {},
     "output_type": "execute_result"
    }
   ],
   "source": [
    "\"Krish\".join(\"a\")"
   ]
  },
  {
   "cell_type": "code",
   "execution_count": 34,
   "id": "695de2f3-4638-4ad2-9f53-e0c1f7298a6d",
   "metadata": {},
   "outputs": [
    {
     "data": {
      "text/plain": [
       "'a b c d'"
      ]
     },
     "execution_count": 34,
     "metadata": {},
     "output_type": "execute_result"
    }
   ],
   "source": [
    "\" \".join(\"abcd\")"
   ]
  },
  {
   "cell_type": "code",
   "execution_count": 37,
   "id": "f7f2e919-f58f-4469-8f9c-6bb48d558487",
   "metadata": {},
   "outputs": [
    {
     "data": {
      "text/plain": [
       "'tna'"
      ]
     },
     "execution_count": 37,
     "metadata": {},
     "output_type": "execute_result"
    }
   ],
   "source": [
    "\"\".join(reversed(\"ant\"))"
   ]
  },
  {
   "cell_type": "code",
   "execution_count": 39,
   "id": "7f1b65d6-122e-410b-9f6c-f98caba68ddb",
   "metadata": {},
   "outputs": [
    {
     "data": {
      "text/plain": [
       "'e Pwskillsd Pwskillsc Pwskillsb Pwskillsa'"
      ]
     },
     "execution_count": 39,
     "metadata": {},
     "output_type": "execute_result"
    }
   ],
   "source": [
    "\" Pwskills\".join(reversed(\"abcde\"))"
   ]
  },
  {
   "cell_type": "code",
   "execution_count": 41,
   "id": "9f37176c-f890-4208-8744-a8943951607c",
   "metadata": {},
   "outputs": [
    {
     "data": {
      "text/plain": [
       "'a Pwskillsb Pwskillsc Pwskillsd Pwskillse'"
      ]
     },
     "execution_count": 41,
     "metadata": {},
     "output_type": "execute_result"
    }
   ],
   "source": [
    "\" Pwskills\".join(\"abcde\")"
   ]
  },
  {
   "cell_type": "code",
   "execution_count": 43,
   "id": "8a2d3b2e-2121-4249-b83e-857d9e00d26d",
   "metadata": {},
   "outputs": [],
   "source": [
    "str1= \"PW is a good company\""
   ]
  },
  {
   "cell_type": "code",
   "execution_count": 46,
   "id": "f5fbe973-dcb0-421c-a89d-98e0b4563286",
   "metadata": {},
   "outputs": [
    {
     "data": {
      "text/plain": [
       "'aSkillsb'"
      ]
     },
     "execution_count": 46,
     "metadata": {},
     "output_type": "execute_result"
    }
   ],
   "source": [
    "\"Skills\".join(\"ab\")"
   ]
  },
  {
   "cell_type": "code",
   "execution_count": 49,
   "id": "96403b8e-487d-4240-996d-525add7a77e2",
   "metadata": {},
   "outputs": [
    {
     "ename": "TypeError",
     "evalue": "'list' object is not callable",
     "output_type": "error",
     "traceback": [
      "\u001b[0;31m---------------------------------------------------------------------------\u001b[0m",
      "\u001b[0;31mTypeError\u001b[0m                                 Traceback (most recent call last)",
      "Cell \u001b[0;32mIn[49], line 2\u001b[0m\n\u001b[1;32m      1\u001b[0m lst\u001b[38;5;241m=\u001b[39mname\n\u001b[0;32m----> 2\u001b[0m \u001b[38;5;28;01mfor\u001b[39;00m i \u001b[38;5;129;01min\u001b[39;00m \u001b[38;5;28;43mlist\u001b[39;49m\u001b[43m(\u001b[49m\u001b[38;5;28;43mreversed\u001b[39;49m\u001b[43m(\u001b[49m\u001b[43mname\u001b[49m\u001b[43m)\u001b[49m\u001b[43m)\u001b[49m:\n\u001b[1;32m      3\u001b[0m     \u001b[38;5;28mprint\u001b[39m(i, end\u001b[38;5;241m=\u001b[39m\u001b[38;5;124m\"\u001b[39m\u001b[38;5;124m\"\u001b[39m)\n",
      "\u001b[0;31mTypeError\u001b[0m: 'list' object is not callable"
     ]
    }
   ],
   "source": [
    "lst=name\n",
    "for i in list(reversed(name)):\n",
    "    print(i, end=\"\")"
   ]
  },
  {
   "cell_type": "code",
   "execution_count": 51,
   "id": "9b1e4ba0-33da-421c-897e-d19e1f0bb18d",
   "metadata": {},
   "outputs": [],
   "source": [
    "string_a=\" pwskills \""
   ]
  },
  {
   "cell_type": "code",
   "execution_count": 52,
   "id": "3c378273-ed45-48fe-aedc-e2aaf09048b8",
   "metadata": {},
   "outputs": [
    {
     "data": {
      "text/plain": [
       "'pwskills'"
      ]
     },
     "execution_count": 52,
     "metadata": {},
     "output_type": "execute_result"
    }
   ],
   "source": [
    "string_a.strip(\" \")"
   ]
  },
  {
   "cell_type": "code",
   "execution_count": 53,
   "id": "27b72673-4e2c-4edd-ab0c-e525b8f6ed57",
   "metadata": {},
   "outputs": [
    {
     "data": {
      "text/plain": [
       "'pwskills '"
      ]
     },
     "execution_count": 53,
     "metadata": {},
     "output_type": "execute_result"
    }
   ],
   "source": [
    "string_a.lstrip(\" \")"
   ]
  },
  {
   "cell_type": "code",
   "execution_count": 54,
   "id": "e8c3af8d-0ca5-4706-ae84-af4ece3aee74",
   "metadata": {},
   "outputs": [
    {
     "data": {
      "text/plain": [
       "' pwskills'"
      ]
     },
     "execution_count": 54,
     "metadata": {},
     "output_type": "execute_result"
    }
   ],
   "source": [
    "string_a.rstrip(\" \")"
   ]
  },
  {
   "cell_type": "code",
   "execution_count": 55,
   "id": "7b56e3bd-e684-4769-964d-30a39381c1c4",
   "metadata": {},
   "outputs": [
    {
     "data": {
      "text/plain": [
       "'Greeting from Pwskills'"
      ]
     },
     "execution_count": 55,
     "metadata": {},
     "output_type": "execute_result"
    }
   ],
   "source": [
    "string_n=\"Greeting to Pwskills\"\n",
    "string_n.replace(\"to\", \"from\")"
   ]
  },
  {
   "cell_type": "code",
   "execution_count": 56,
   "id": "b809a30a-76f1-400f-9075-4cd44a9ccc4c",
   "metadata": {},
   "outputs": [],
   "source": [
    "str1=\"Welcome to pwskills. Welcome to Dat cience Masters\"                                                                                       "
   ]
  },
  {
   "cell_type": "code",
   "execution_count": 57,
   "id": "843f8f57-e8f3-457c-b985-4c072fce7c04",
   "metadata": {},
   "outputs": [
    {
     "data": {
      "text/plain": [
       "'Welcome to pwskills. Welcome to Data Science Masters'"
      ]
     },
     "execution_count": 57,
     "metadata": {},
     "output_type": "execute_result"
    }
   ],
   "source": [
    "str1.replace(\"Dat\", \"Data\").replace(\"cience\",\"Science\")"
   ]
  },
  {
   "cell_type": "code",
   "execution_count": 58,
   "id": "476896f8-5e24-477a-bd19-f8766dc5a0b3",
   "metadata": {},
   "outputs": [
    {
     "data": {
      "text/plain": [
       "'Welcome to pwskills. Welcome to Dat cience Masters'"
      ]
     },
     "execution_count": 58,
     "metadata": {},
     "output_type": "execute_result"
    }
   ],
   "source": [
    "str1"
   ]
  },
  {
   "cell_type": "code",
   "execution_count": 59,
   "id": "cf0649e6-d43b-45ac-b94b-00f5bebf28eb",
   "metadata": {},
   "outputs": [
    {
     "data": {
      "text/plain": [
       "False"
      ]
     },
     "execution_count": 59,
     "metadata": {},
     "output_type": "execute_result"
    }
   ],
   "source": [
    "str1.isupper()"
   ]
  },
  {
   "cell_type": "code",
   "execution_count": 60,
   "id": "dd94d58c-d42d-4769-b12b-21178d64702f",
   "metadata": {},
   "outputs": [],
   "source": [
    "str1=\"KRISH\""
   ]
  },
  {
   "cell_type": "code",
   "execution_count": 61,
   "id": "dcbcbe5f-8da3-4649-84fa-d6ef30a39174",
   "metadata": {},
   "outputs": [
    {
     "data": {
      "text/plain": [
       "True"
      ]
     },
     "execution_count": 61,
     "metadata": {},
     "output_type": "execute_result"
    }
   ],
   "source": [
    "str1.isupper()"
   ]
  },
  {
   "cell_type": "code",
   "execution_count": 62,
   "id": "b13cf5c2-92b8-4ba9-9aad-c900e382b527",
   "metadata": {},
   "outputs": [
    {
     "data": {
      "text/plain": [
       "False"
      ]
     },
     "execution_count": 62,
     "metadata": {},
     "output_type": "execute_result"
    }
   ],
   "source": [
    "str1.islower()"
   ]
  },
  {
   "cell_type": "code",
   "execution_count": 64,
   "id": "e0ead5ae-014f-4ba6-82c2-c3a74e2acef0",
   "metadata": {},
   "outputs": [
    {
     "data": {
      "text/plain": [
       "False"
      ]
     },
     "execution_count": 64,
     "metadata": {},
     "output_type": "execute_result"
    }
   ],
   "source": [
    "str1.isspace()"
   ]
  },
  {
   "cell_type": "code",
   "execution_count": 65,
   "id": "dc38236a-9fb5-4fbb-b944-fd4a900486a7",
   "metadata": {},
   "outputs": [
    {
     "data": {
      "text/plain": [
       "True"
      ]
     },
     "execution_count": 65,
     "metadata": {},
     "output_type": "execute_result"
    }
   ],
   "source": [
    "\" \".isspace()"
   ]
  },
  {
   "cell_type": "code",
   "execution_count": 67,
   "id": "5fb9ada4-a2a8-4727-bab2-dcfff8e4b676",
   "metadata": {},
   "outputs": [
    {
     "name": "stdout",
     "output_type": "stream",
     "text": [
      "Hello\n"
     ]
    }
   ],
   "source": [
    "if \" \".isspace():\n",
    "    print(\"Hello\")"
   ]
  },
  {
   "cell_type": "code",
   "execution_count": 68,
   "id": "01299f8b-4d05-4d21-a4e9-167c74679a2f",
   "metadata": {},
   "outputs": [],
   "source": [
    "str2=\"pwskills\""
   ]
  },
  {
   "cell_type": "code",
   "execution_count": 69,
   "id": "a92b2e2c-6dfc-4bfe-af5f-0b89685676be",
   "metadata": {},
   "outputs": [
    {
     "data": {
      "text/plain": [
       "True"
      ]
     },
     "execution_count": 69,
     "metadata": {},
     "output_type": "execute_result"
    }
   ],
   "source": [
    "str2.endswith(\"s\")"
   ]
  },
  {
   "cell_type": "markdown",
   "id": "ee382afb-dc7d-4aef-ac77-b85ba6899993",
   "metadata": {},
   "source": [
    "#check if all the char in string are alphanumeric "
   ]
  },
  {
   "cell_type": "code",
   "execution_count": 70,
   "id": "c5962e36-28d5-473f-bcfc-76d676c36d94",
   "metadata": {},
   "outputs": [
    {
     "data": {
      "text/plain": [
       "True"
      ]
     },
     "execution_count": 70,
     "metadata": {},
     "output_type": "execute_result"
    }
   ],
   "source": [
    "a=\"abcd1234\"\n",
    "a.isalnum()"
   ]
  },
  {
   "cell_type": "markdown",
   "id": "4dda6a41-3155-4cb7-96f0-c8cdf3beb57c",
   "metadata": {},
   "source": [
    "#to count the number of character in the strings "
   ]
  },
  {
   "cell_type": "code",
   "execution_count": 72,
   "id": "d65ba8a8-da5c-4068-856e-a1b7210e9cdb",
   "metadata": {},
   "outputs": [
    {
     "name": "stdout",
     "output_type": "stream",
     "text": [
      "8\n"
     ]
    }
   ],
   "source": [
    "count=0\n",
    "for i in str2:\n",
    "    count=count+1\n",
    "\n",
    "print(count)"
   ]
  },
  {
   "cell_type": "code",
   "execution_count": 73,
   "id": "10c7b288-f8c4-486f-8368-f45e7c5e5f3a",
   "metadata": {},
   "outputs": [
    {
     "data": {
      "text/plain": [
       "8"
      ]
     },
     "execution_count": 73,
     "metadata": {},
     "output_type": "execute_result"
    }
   ],
   "source": [
    "len(str2)"
   ]
  },
  {
   "cell_type": "code",
   "execution_count": 74,
   "id": "8ae0d45e-2643-4498-a5c4-2f8129ff2be8",
   "metadata": {},
   "outputs": [
    {
     "name": "stdout",
     "output_type": "stream",
     "text": [
      "p\n",
      "w\n",
      "s\n",
      "k\n",
      "i\n",
      "l\n",
      "l\n",
      "s\n"
     ]
    }
   ],
   "source": [
    "for i in str2:\n",
    "    print(i)"
   ]
  },
  {
   "cell_type": "code",
   "execution_count": 75,
   "id": "9ed2bd73-42f0-40ba-a780-e8fcb4488e54",
   "metadata": {},
   "outputs": [
    {
     "name": "stdout",
     "output_type": "stream",
     "text": [
      "p\n",
      "w\n",
      "s\n",
      "k\n",
      "i\n",
      "l\n",
      "l\n",
      "s\n"
     ]
    }
   ],
   "source": [
    "for i in range(len(str2)):\n",
    "    print(str2[i])"
   ]
  },
  {
   "cell_type": "code",
   "execution_count": 80,
   "id": "48ef60f9-0841-43a5-a8f9-38567916cd07",
   "metadata": {},
   "outputs": [
    {
     "name": "stdout",
     "output_type": "stream",
     "text": [
      "0 = p\n",
      "1 = w\n",
      "2 = s\n",
      "3 = k\n",
      "4 = i\n",
      "5 = l\n",
      "6 = l\n",
      "7 = s\n"
     ]
    }
   ],
   "source": [
    "for i in range(len(str2)):\n",
    "    print(i,\"=\",str2[i])"
   ]
  },
  {
   "cell_type": "code",
   "execution_count": 81,
   "id": "7193ebfa-3443-4714-838b-791cff1a8b58",
   "metadata": {},
   "outputs": [
    {
     "name": "stdout",
     "output_type": "stream",
     "text": [
      "7 = s\n",
      "6 = l\n",
      "5 = l\n",
      "4 = i\n",
      "3 = k\n",
      "2 = s\n",
      "1 = w\n",
      "0 = p\n"
     ]
    }
   ],
   "source": [
    "for i in range(len(str2)-1,-1,-1):\n",
    "    print(i,\"=\",str2[i])"
   ]
  },
  {
   "cell_type": "code",
   "execution_count": 2,
   "id": "e89aab5c-6a24-45da-9024-9e84c56199ac",
   "metadata": {},
   "outputs": [
    {
     "name": "stdout",
     "output_type": "stream",
     "text": [
      "s\n",
      "l\n",
      "l\n",
      "i\n",
      "k\n",
      "s\n",
      "w\n",
      "p\n"
     ]
    }
   ],
   "source": [
    "string=\"pwskills\"\n",
    "ch=len(string)-1\n",
    "while ch>=0:\n",
    "    print(string[ch])\n",
    "    ch=ch-1"
   ]
  },
  {
   "cell_type": "code",
   "execution_count": 3,
   "id": "f8640987-498a-4876-9aa5-779b8f60826d",
   "metadata": {},
   "outputs": [],
   "source": [
    "Name= \"pwskills\"\n",
    "vowels= \"AaEeIiOoUu\""
   ]
  },
  {
   "cell_type": "code",
   "execution_count": 6,
   "id": "c633bfa0-dcf5-4889-8705-ee46522fa454",
   "metadata": {},
   "outputs": [
    {
     "name": "stdout",
     "output_type": "stream",
     "text": [
      "p is not a vowel\n",
      "w is not a vowel\n",
      "s is not a vowel\n",
      "k is not a vowel\n",
      "i is a vowel\n",
      "l is not a vowel\n",
      "l is not a vowel\n",
      "s is not a vowel\n"
     ]
    }
   ],
   "source": [
    "for ch in Name:\n",
    "    if ch in vowels:\n",
    "        print(\"{} is a vowel\".format(ch))\n",
    "    else:\n",
    "        print(\"{} is not a vowel\".format(ch))"
   ]
  },
  {
   "cell_type": "code",
   "execution_count": 7,
   "id": "8c925833-7686-4b01-a856-c8e71d3bfc92",
   "metadata": {},
   "outputs": [
    {
     "data": {
      "text/plain": [
       "list"
      ]
     },
     "execution_count": 7,
     "metadata": {},
     "output_type": "execute_result"
    }
   ],
   "source": [
    "type([])"
   ]
  },
  {
   "cell_type": "code",
   "execution_count": 8,
   "id": "ab78a0d4-6ffd-4523-b8f2-2b9a990f8a22",
   "metadata": {},
   "outputs": [
    {
     "data": {
      "text/plain": [
       "['Krish', 'Naik', 'Pwskills', 32]"
      ]
     },
     "execution_count": 8,
     "metadata": {},
     "output_type": "execute_result"
    }
   ],
   "source": [
    "[\"Krish\",\"Naik\",\"Pwskills\",32]"
   ]
  },
  {
   "cell_type": "code",
   "execution_count": 22,
   "id": "b38ded61-e4fe-49f2-83ad-1fa6e8912b58",
   "metadata": {},
   "outputs": [
    {
     "data": {
      "text/plain": [
       "[1, 2, 3, 4, 5]"
      ]
     },
     "execution_count": 22,
     "metadata": {},
     "output_type": "execute_result"
    }
   ],
   "source": [
    "list([1,2,3,4,5])"
   ]
  },
  {
   "cell_type": "code",
   "execution_count": 23,
   "id": "9d363f63-4d91-4d4d-9a20-98295b57f700",
   "metadata": {},
   "outputs": [],
   "source": [
    "str1=\"Pw Skills Data science Masters\""
   ]
  },
  {
   "cell_type": "code",
   "execution_count": 25,
   "id": "7a377e1d-eb65-4a53-baf0-37578210a3b6",
   "metadata": {},
   "outputs": [
    {
     "data": {
      "text/plain": [
       "['Pw', 'Skills', 'Data', 'science', 'Masters']"
      ]
     },
     "execution_count": 25,
     "metadata": {},
     "output_type": "execute_result"
    }
   ],
   "source": [
    "list(str1.split(\" \"))"
   ]
  },
  {
   "cell_type": "code",
   "execution_count": 26,
   "id": "b3da96f0-11f8-472f-85c9-a1656888648a",
   "metadata": {},
   "outputs": [
    {
     "data": {
      "text/plain": [
       "['Pw', 'Skills', 'Data', 'science', 'Masters']"
      ]
     },
     "execution_count": 26,
     "metadata": {},
     "output_type": "execute_result"
    }
   ],
   "source": [
    "str1.split(\" \")"
   ]
  },
  {
   "cell_type": "code",
   "execution_count": 31,
   "id": "132b1af2-58c5-4e3e-b86e-95b80cec9d43",
   "metadata": {},
   "outputs": [],
   "source": [
    "lst1=str1.split(\" \")"
   ]
  },
  {
   "cell_type": "code",
   "execution_count": 32,
   "id": "d9d0d230-93d4-41a4-8378-01fba42e9705",
   "metadata": {},
   "outputs": [
    {
     "data": {
      "text/plain": [
       "['Pw', 'Skills', 'Data', 'science', 'Masters']"
      ]
     },
     "execution_count": 32,
     "metadata": {},
     "output_type": "execute_result"
    }
   ],
   "source": [
    "lst1"
   ]
  },
  {
   "cell_type": "code",
   "execution_count": 33,
   "id": "dcf8dba5-7e72-4782-8029-31d684a65432",
   "metadata": {},
   "outputs": [
    {
     "data": {
      "text/plain": [
       "['Pw']"
      ]
     },
     "execution_count": 33,
     "metadata": {},
     "output_type": "execute_result"
    }
   ],
   "source": [
    "lst1[:1]"
   ]
  },
  {
   "cell_type": "code",
   "execution_count": 34,
   "id": "e17fe684-da83-4721-9144-f47590945fc8",
   "metadata": {},
   "outputs": [
    {
     "data": {
      "text/plain": [
       "['Skills', 'Data', 'science', 'Masters']"
      ]
     },
     "execution_count": 34,
     "metadata": {},
     "output_type": "execute_result"
    }
   ],
   "source": [
    "lst1[1:]"
   ]
  },
  {
   "cell_type": "code",
   "execution_count": 35,
   "id": "97c60765-630c-41ac-b02d-98236ab904d4",
   "metadata": {},
   "outputs": [],
   "source": [
    "lst1[2]=\"Datas\""
   ]
  },
  {
   "cell_type": "code",
   "execution_count": 36,
   "id": "d181a62f-3164-44e4-a853-4dae744917c8",
   "metadata": {},
   "outputs": [
    {
     "data": {
      "text/plain": [
       "['Pw', 'Skills', 'Datas', 'science', 'Masters']"
      ]
     },
     "execution_count": 36,
     "metadata": {},
     "output_type": "execute_result"
    }
   ],
   "source": [
    "lst1"
   ]
  },
  {
   "cell_type": "code",
   "execution_count": 37,
   "id": "e959556c-ca18-4bf9-a0be-8f34d4d2560b",
   "metadata": {},
   "outputs": [
    {
     "data": {
      "text/plain": [
       "'science'"
      ]
     },
     "execution_count": 37,
     "metadata": {},
     "output_type": "execute_result"
    }
   ],
   "source": [
    "lst1[-2]"
   ]
  },
  {
   "cell_type": "code",
   "execution_count": 38,
   "id": "3ecd7f86-78f4-4828-8fec-cae340cef76a",
   "metadata": {},
   "outputs": [
    {
     "data": {
      "text/plain": [
       "['Masters', 'Datas', 'Pw']"
      ]
     },
     "execution_count": 38,
     "metadata": {},
     "output_type": "execute_result"
    }
   ],
   "source": [
    "lst1[::-2]"
   ]
  },
  {
   "cell_type": "code",
   "execution_count": 39,
   "id": "dfca3e7f-7b34-4667-9af5-63f2d2ddc985",
   "metadata": {},
   "outputs": [
    {
     "data": {
      "text/plain": [
       "[]"
      ]
     },
     "execution_count": 39,
     "metadata": {},
     "output_type": "execute_result"
    }
   ],
   "source": [
    "lst1[-5:3:-2]"
   ]
  },
  {
   "cell_type": "code",
   "execution_count": 41,
   "id": "9055d514-8f7c-40cd-af32-069d5c54bbaa",
   "metadata": {},
   "outputs": [
    {
     "data": {
      "text/plain": [
       "['Pw', 'Skills', 'Datas', 'science', 'Masters', 'new element', 3]"
      ]
     },
     "execution_count": 41,
     "metadata": {},
     "output_type": "execute_result"
    }
   ],
   "source": [
    "lst1 + [\"new element\",3]"
   ]
  },
  {
   "cell_type": "code",
   "execution_count": 44,
   "id": "11e9f94a-d178-47ba-8be8-918217062b89",
   "metadata": {},
   "outputs": [],
   "source": [
    "lst2=lst1 + [[\"new element\",3]]"
   ]
  },
  {
   "cell_type": "code",
   "execution_count": 45,
   "id": "c14a3049-315e-4c6c-8378-36a3b129d3b4",
   "metadata": {},
   "outputs": [
    {
     "data": {
      "text/plain": [
       "'new element'"
      ]
     },
     "execution_count": 45,
     "metadata": {},
     "output_type": "execute_result"
    }
   ],
   "source": [
    "lst2[-1][0]"
   ]
  },
  {
   "cell_type": "code",
   "execution_count": 48,
   "id": "4767e772-b045-4e3d-857e-ef58fe195620",
   "metadata": {},
   "outputs": [
    {
     "name": "stdout",
     "output_type": "stream",
     "text": [
      "['Pw', 'Skills', 'Datas', 'science', 'Masters', 'Pw', 'Skills', 'Datas', 'science', 'Masters'] "
     ]
    }
   ],
   "source": [
    "print(lst1*2, end=\" \")"
   ]
  },
  {
   "cell_type": "code",
   "execution_count": 50,
   "id": "20bba7a9-dfa4-431e-836e-9871b6913466",
   "metadata": {},
   "outputs": [
    {
     "data": {
      "text/plain": [
       "['Pw',\n",
       " 'Skills',\n",
       " 'Datas',\n",
       " 'science',\n",
       " 'Masters',\n",
       " 'Pw',\n",
       " 'Skills',\n",
       " 'Datas',\n",
       " 'science',\n",
       " 'Masters']"
      ]
     },
     "execution_count": 50,
     "metadata": {},
     "output_type": "execute_result"
    }
   ],
   "source": [
    "lst1*2"
   ]
  },
  {
   "cell_type": "code",
   "execution_count": 51,
   "id": "419f5469-e5a0-49e4-8c4c-a30f4d8a75cd",
   "metadata": {},
   "outputs": [
    {
     "data": {
      "text/plain": [
       "['Pw', 'Skills', 'Datas', 'science', 'Masters']"
      ]
     },
     "execution_count": 51,
     "metadata": {},
     "output_type": "execute_result"
    }
   ],
   "source": [
    "lst1"
   ]
  },
  {
   "cell_type": "code",
   "execution_count": 54,
   "id": "54fabf67-77d3-4bde-b8ac-580e3d492411",
   "metadata": {},
   "outputs": [
    {
     "name": "stdout",
     "output_type": "stream",
     "text": [
      "Present\n"
     ]
    }
   ],
   "source": [
    "if \"science\" in lst1:\n",
    "    print(\"Present\")"
   ]
  },
  {
   "cell_type": "code",
   "execution_count": 55,
   "id": "20a30c97-b2ef-4f7f-8483-268a745c5238",
   "metadata": {},
   "outputs": [
    {
     "name": "stdout",
     "output_type": "stream",
     "text": [
      "science\n"
     ]
    }
   ],
   "source": [
    "for elements in lst1:\n",
    "    if elements==\"science\":\n",
    "        print(elements)\n",
    "        break"
   ]
  },
  {
   "cell_type": "code",
   "execution_count": 56,
   "id": "7f2dd2da-860e-4878-a231-087071d33067",
   "metadata": {},
   "outputs": [],
   "source": [
    "lst1=[\"Zebra\",\"Monkey\",\"Donkey\",\"Lion\"]\n",
    "lst2=[5,6,2,9,5,8,6]"
   ]
  },
  {
   "cell_type": "code",
   "execution_count": 57,
   "id": "f2cee559-1c96-42b0-b4a7-40843f90a796",
   "metadata": {},
   "outputs": [
    {
     "name": "stdout",
     "output_type": "stream",
     "text": [
      "Zebra\n"
     ]
    }
   ],
   "source": [
    "print(max(lst1))"
   ]
  },
  {
   "cell_type": "code",
   "execution_count": 59,
   "id": "e7a5ee86-e530-4ff8-b9c0-7e599a5faa1a",
   "metadata": {},
   "outputs": [
    {
     "data": {
      "text/plain": [
       "9"
      ]
     },
     "execution_count": 59,
     "metadata": {},
     "output_type": "execute_result"
    }
   ],
   "source": [
    "max(lst2)"
   ]
  },
  {
   "cell_type": "code",
   "execution_count": 60,
   "id": "e71a7183-c40c-4dbe-a261-9b9528a7ce4b",
   "metadata": {},
   "outputs": [
    {
     "data": {
      "text/plain": [
       "'Donkey'"
      ]
     },
     "execution_count": 60,
     "metadata": {},
     "output_type": "execute_result"
    }
   ],
   "source": [
    "min(lst1)"
   ]
  },
  {
   "cell_type": "code",
   "execution_count": 61,
   "id": "ef95d948-501a-46c7-90fd-a3130a431464",
   "metadata": {},
   "outputs": [
    {
     "data": {
      "text/plain": [
       "2"
      ]
     },
     "execution_count": 61,
     "metadata": {},
     "output_type": "execute_result"
    }
   ],
   "source": [
    "min(lst2)"
   ]
  },
  {
   "cell_type": "code",
   "execution_count": 62,
   "id": "7426af4c-711b-442a-b479-0c7bf42dacb6",
   "metadata": {},
   "outputs": [],
   "source": [
    "lst=[1,2,3,4,5,6]"
   ]
  },
  {
   "cell_type": "code",
   "execution_count": 64,
   "id": "cce44b9b-0d17-458c-85fe-016541dfd781",
   "metadata": {},
   "outputs": [
    {
     "data": {
      "text/plain": [
       "[1, 2, 3, 4, 5, 6]"
      ]
     },
     "execution_count": 64,
     "metadata": {},
     "output_type": "execute_result"
    }
   ],
   "source": [
    "lst"
   ]
  },
  {
   "cell_type": "code",
   "execution_count": 65,
   "id": "ae5081f2-148f-42e0-a450-2ac5c4fd41e4",
   "metadata": {},
   "outputs": [],
   "source": [
    "lst.append(\"Pwskills\")"
   ]
  },
  {
   "cell_type": "code",
   "execution_count": 66,
   "id": "16dfc2f4-f461-4ee1-9cb6-c569b97a3a70",
   "metadata": {},
   "outputs": [
    {
     "data": {
      "text/plain": [
       "[1, 2, 3, 4, 5, 6, 'Pwskills']"
      ]
     },
     "execution_count": 66,
     "metadata": {},
     "output_type": "execute_result"
    }
   ],
   "source": [
    "lst"
   ]
  },
  {
   "cell_type": "code",
   "execution_count": 67,
   "id": "59847e55-9a11-4465-a958-9a77af80669b",
   "metadata": {},
   "outputs": [],
   "source": [
    "lst.append([\"Data\",\"Science\",\"Masters\"])"
   ]
  },
  {
   "cell_type": "code",
   "execution_count": 68,
   "id": "e798e7aa-8a22-4b64-98ef-3d6f97b8e8b9",
   "metadata": {},
   "outputs": [
    {
     "data": {
      "text/plain": [
       "[1, 2, 3, 4, 5, 6, 'Pwskills', ['Data', 'Science', 'Masters']]"
      ]
     },
     "execution_count": 68,
     "metadata": {},
     "output_type": "execute_result"
    }
   ],
   "source": [
    "lst"
   ]
  },
  {
   "cell_type": "code",
   "execution_count": 69,
   "id": "ff97833b-ceca-42ec-96fa-ee0a3fe413df",
   "metadata": {},
   "outputs": [],
   "source": [
    "lst1=[\"Zebra\",\"Monkey\",\"Donkey\",\"Lion\"]"
   ]
  },
  {
   "cell_type": "code",
   "execution_count": 70,
   "id": "c5275cf0-5c28-4cca-9b51-d76412f94b89",
   "metadata": {},
   "outputs": [
    {
     "data": {
      "text/plain": [
       "'Lion'"
      ]
     },
     "execution_count": 70,
     "metadata": {},
     "output_type": "execute_result"
    }
   ],
   "source": [
    "lst1.pop()"
   ]
  },
  {
   "cell_type": "code",
   "execution_count": 71,
   "id": "f257e0cd-4397-4db8-b301-2f9f95edc47f",
   "metadata": {},
   "outputs": [
    {
     "data": {
      "text/plain": [
       "['Zebra', 'Monkey', 'Donkey']"
      ]
     },
     "execution_count": 71,
     "metadata": {},
     "output_type": "execute_result"
    }
   ],
   "source": [
    "lst1"
   ]
  },
  {
   "cell_type": "code",
   "execution_count": 72,
   "id": "36611bdb-c9cc-4f89-b737-0edcdc917944",
   "metadata": {},
   "outputs": [
    {
     "data": {
      "text/plain": [
       "'Monkey'"
      ]
     },
     "execution_count": 72,
     "metadata": {},
     "output_type": "execute_result"
    }
   ],
   "source": [
    "lst1.pop(1)"
   ]
  },
  {
   "cell_type": "code",
   "execution_count": 73,
   "id": "e17ac95c-6d8f-4005-a78a-46021d9566ad",
   "metadata": {},
   "outputs": [
    {
     "data": {
      "text/plain": [
       "['Zebra', 'Donkey']"
      ]
     },
     "execution_count": 73,
     "metadata": {},
     "output_type": "execute_result"
    }
   ],
   "source": [
    "lst1"
   ]
  },
  {
   "cell_type": "code",
   "execution_count": 74,
   "id": "bb933e7d-900d-4c1f-a673-693898f37331",
   "metadata": {},
   "outputs": [],
   "source": [
    "new_list=[\"q\",\"e\",\"f\",\"s\",\"t\",\"u\"]"
   ]
  },
  {
   "cell_type": "code",
   "execution_count": 75,
   "id": "04e1123b-ece4-49e0-a455-4c70d4a3c1f0",
   "metadata": {},
   "outputs": [
    {
     "data": {
      "text/plain": [
       "['q', 'e', 'f', 's', 't', 'u']"
      ]
     },
     "execution_count": 75,
     "metadata": {},
     "output_type": "execute_result"
    }
   ],
   "source": [
    "new_list"
   ]
  },
  {
   "cell_type": "code",
   "execution_count": 76,
   "id": "3351391d-383d-4c8a-97b1-7c2f49e486f9",
   "metadata": {},
   "outputs": [
    {
     "data": {
      "text/plain": [
       "['u', 't', 's', 'f', 'e', 'q']"
      ]
     },
     "execution_count": 76,
     "metadata": {},
     "output_type": "execute_result"
    }
   ],
   "source": [
    "new_list[::-1]"
   ]
  },
  {
   "cell_type": "code",
   "execution_count": 78,
   "id": "41edc9e5-ea31-4976-b993-fd6d11baf5f1",
   "metadata": {},
   "outputs": [
    {
     "data": {
      "text/plain": [
       "['u', 't', 's', 'f', 'e', 'q']"
      ]
     },
     "execution_count": 78,
     "metadata": {},
     "output_type": "execute_result"
    }
   ],
   "source": [
    "new_list.reverse()\n",
    "new_list"
   ]
  },
  {
   "cell_type": "code",
   "execution_count": 79,
   "id": "45d73694-7301-42d9-9c29-160809953dac",
   "metadata": {},
   "outputs": [
    {
     "data": {
      "text/plain": [
       "['e', 'f', 'q', 's', 't', 'u']"
      ]
     },
     "execution_count": 79,
     "metadata": {},
     "output_type": "execute_result"
    }
   ],
   "source": [
    "new_list.sort()\n",
    "new_list"
   ]
  },
  {
   "cell_type": "code",
   "execution_count": 80,
   "id": "09c07524-64a6-4480-9db3-9ebc35c0943e",
   "metadata": {},
   "outputs": [],
   "source": [
    "lst=[1,2,3,4,5,6]"
   ]
  },
  {
   "cell_type": "code",
   "execution_count": 81,
   "id": "373e6c2f-fa36-44c1-aa59-2b686d7d2426",
   "metadata": {},
   "outputs": [],
   "source": [
    "lst.append(10)"
   ]
  },
  {
   "cell_type": "code",
   "execution_count": 82,
   "id": "4963be38-245e-4d0f-982e-561704e29c70",
   "metadata": {},
   "outputs": [],
   "source": [
    "lst.append([\"PW\",\"Skills\"])"
   ]
  },
  {
   "cell_type": "code",
   "execution_count": 83,
   "id": "6acde7a5-c5d7-4627-aa60-37aeb572592a",
   "metadata": {},
   "outputs": [
    {
     "data": {
      "text/plain": [
       "[1, 2, 3, 4, 5, 6, 10, ['PW', 'Skills']]"
      ]
     },
     "execution_count": 83,
     "metadata": {},
     "output_type": "execute_result"
    }
   ],
   "source": [
    "lst"
   ]
  },
  {
   "cell_type": "code",
   "execution_count": 84,
   "id": "085d52ff-d81e-4554-8da2-1b889a60b1a9",
   "metadata": {},
   "outputs": [],
   "source": [
    "lst.extend([\"PW\",\"Skills\"])"
   ]
  },
  {
   "cell_type": "code",
   "execution_count": 85,
   "id": "2e2b91b2-d7a7-40ca-b93e-0ebee7d99c95",
   "metadata": {},
   "outputs": [
    {
     "data": {
      "text/plain": [
       "[1, 2, 3, 4, 5, 6, 10, ['PW', 'Skills'], 'PW', 'Skills']"
      ]
     },
     "execution_count": 85,
     "metadata": {},
     "output_type": "execute_result"
    }
   ],
   "source": [
    "lst"
   ]
  },
  {
   "cell_type": "code",
   "execution_count": 90,
   "id": "9804d99d-d0f4-4060-b78c-4ce580d82a54",
   "metadata": {},
   "outputs": [
    {
     "ename": "NameError",
     "evalue": "name 'reverse' is not defined",
     "output_type": "error",
     "traceback": [
      "\u001b[0;31m---------------------------------------------------------------------------\u001b[0m",
      "\u001b[0;31mNameError\u001b[0m                                 Traceback (most recent call last)",
      "Cell \u001b[0;32mIn[90], line 1\u001b[0m\n\u001b[0;32m----> 1\u001b[0m lst1\u001b[38;5;241m.\u001b[39msort(\u001b[43mreverse\u001b[49m\u001b[38;5;241m==\u001b[39m\u001b[38;5;28;01mTrue\u001b[39;00m)\n",
      "\u001b[0;31mNameError\u001b[0m: name 'reverse' is not defined"
     ]
    }
   ],
   "source": [
    "lst1.sort(reverse==True)"
   ]
  },
  {
   "cell_type": "code",
   "execution_count": 91,
   "id": "2243c469-b504-441c-a430-84cf7b3eec18",
   "metadata": {},
   "outputs": [],
   "source": [
    "lst_1=[1,2,3]\n",
    "lst_2=[4,5,6]\n",
    "lst_3=[7,8,9,]\n",
    "\n",
    "matrix=[lst_1,lst_2,lst_3]"
   ]
  },
  {
   "cell_type": "code",
   "execution_count": 92,
   "id": "0bdbb1a7-c340-4f6a-a390-d22ef947ab29",
   "metadata": {},
   "outputs": [
    {
     "data": {
      "text/plain": [
       "[[1, 2, 3], [4, 5, 6], [7, 8, 9]]"
      ]
     },
     "execution_count": 92,
     "metadata": {},
     "output_type": "execute_result"
    }
   ],
   "source": [
    "matrix"
   ]
  },
  {
   "cell_type": "code",
   "execution_count": 93,
   "id": "7afb9b9d-6264-4f88-8a66-672200bfd3ce",
   "metadata": {},
   "outputs": [
    {
     "data": {
      "text/plain": [
       "6"
      ]
     },
     "execution_count": 93,
     "metadata": {},
     "output_type": "execute_result"
    }
   ],
   "source": [
    "matrix[1][2]"
   ]
  },
  {
   "cell_type": "code",
   "execution_count": 94,
   "id": "87cc6427-2634-425a-ad6b-de9ba261a12e",
   "metadata": {},
   "outputs": [
    {
     "data": {
      "text/plain": [
       "[8, 9]"
      ]
     },
     "execution_count": 94,
     "metadata": {},
     "output_type": "execute_result"
    }
   ],
   "source": [
    "matrix[2][1:]"
   ]
  },
  {
   "cell_type": "code",
   "execution_count": 107,
   "id": "fa8374b8-e630-49f3-91e5-3471d47edc90",
   "metadata": {},
   "outputs": [
    {
     "data": {
      "text/plain": [
       "[0, 1, 2, 3, 4, 5, 6, 7, 8, 9, 10, 11, 12, 13, 14, 15, 16, 17, 18, 19]"
      ]
     },
     "execution_count": 107,
     "metadata": {},
     "output_type": "execute_result"
    }
   ],
   "source": [
    "[i for i in range(20)]"
   ]
  },
  {
   "cell_type": "code",
   "execution_count": 115,
   "id": "56538b49-552a-4bc7-b4e7-dd785ac4b7b2",
   "metadata": {},
   "outputs": [
    {
     "data": {
      "text/plain": [
       "[0,\n",
       " 'ODD',\n",
       " 2,\n",
       " 'ODD',\n",
       " 4,\n",
       " 'ODD',\n",
       " 6,\n",
       " 'ODD',\n",
       " 8,\n",
       " 'ODD',\n",
       " 10,\n",
       " 'ODD',\n",
       " 12,\n",
       " 'ODD',\n",
       " 14,\n",
       " 'ODD',\n",
       " 16,\n",
       " 'ODD',\n",
       " 18,\n",
       " 'ODD']"
      ]
     },
     "execution_count": 115,
     "metadata": {},
     "output_type": "execute_result"
    }
   ],
   "source": [
    "[i if i%2==0 else \"ODD\" for i in range(20)]"
   ]
  },
  {
   "cell_type": "code",
   "execution_count": 117,
   "id": "c70cc735-9cfe-4bb7-af9a-bd5a6a0de789",
   "metadata": {},
   "outputs": [
    {
     "data": {
      "text/plain": [
       "['even',\n",
       " 1,\n",
       " 'even',\n",
       " 3,\n",
       " 'even',\n",
       " 5,\n",
       " 'even',\n",
       " 7,\n",
       " 'even',\n",
       " 9,\n",
       " 'even',\n",
       " 11,\n",
       " 'even',\n",
       " 13,\n",
       " 'even',\n",
       " 15,\n",
       " 'even',\n",
       " 17,\n",
       " 'even',\n",
       " 19]"
      ]
     },
     "execution_count": 117,
     "metadata": {},
     "output_type": "execute_result"
    }
   ],
   "source": [
    "[i if i%2!=0 else \"even\" for i in range(20)]"
   ]
  },
  {
   "cell_type": "code",
   "execution_count": 120,
   "id": "7523f2ed-0cc8-4258-8e75-b35bf5336059",
   "metadata": {},
   "outputs": [],
   "source": [
    "lst=[1,2,3,4,5,6,7,8]"
   ]
  },
  {
   "cell_type": "code",
   "execution_count": 130,
   "id": "d39788d9-bc96-4996-8b3a-86a62cfc0504",
   "metadata": {},
   "outputs": [
    {
     "name": "stdout",
     "output_type": "stream",
     "text": [
      "20\n",
      "16\n"
     ]
    }
   ],
   "source": [
    "lst=[1,2,3,4,5,6,7,8]\n",
    "\n",
    "even_sum=0\n",
    "odd_sum=0\n",
    "for i in lst:\n",
    "    if i % 2 ==0:\n",
    "        even_sum+=i\n",
    "    else:\n",
    "        odd_sum+=i\n",
    "print(even_sum)\n",
    "print(odd_sum)"
   ]
  },
  {
   "cell_type": "code",
   "execution_count": 134,
   "id": "3b284b5e-b320-4740-87b1-346c1b6259ff",
   "metadata": {},
   "outputs": [],
   "source": [
    "even_sum=sum([num for num in lst if num%2==0])"
   ]
  },
  {
   "cell_type": "code",
   "execution_count": 135,
   "id": "b0ba1cb0-759f-43b5-9eb0-dec1de7797ae",
   "metadata": {},
   "outputs": [
    {
     "data": {
      "text/plain": [
       "20"
      ]
     },
     "execution_count": 135,
     "metadata": {},
     "output_type": "execute_result"
    }
   ],
   "source": [
    "even_sum"
   ]
  },
  {
   "cell_type": "code",
   "execution_count": 136,
   "id": "2746d7ac-ae82-4d72-8f6a-9ecff30c849d",
   "metadata": {},
   "outputs": [],
   "source": [
    "odd_sum=sum([num for num in lst if num%2!=0])"
   ]
  },
  {
   "cell_type": "code",
   "execution_count": 137,
   "id": "c1d03380-015d-40a4-a810-4d532adbb432",
   "metadata": {},
   "outputs": [
    {
     "data": {
      "text/plain": [
       "16"
      ]
     },
     "execution_count": 137,
     "metadata": {},
     "output_type": "execute_result"
    }
   ],
   "source": [
    "odd_sum"
   ]
  },
  {
   "cell_type": "code",
   "execution_count": 139,
   "id": "fbd52ceb-47f4-4275-b3b5-a19326a8b7e2",
   "metadata": {},
   "outputs": [
    {
     "data": {
      "text/plain": [
       "[1, 4, 9, 16, 25, 36, 49, 64, 81, 100]"
      ]
     },
     "execution_count": 139,
     "metadata": {},
     "output_type": "execute_result"
    }
   ],
   "source": [
    "lst=[1,2,3,4,5,6,7,8,9,10]\n",
    "[num**2 for num in lst]"
   ]
  },
  {
   "cell_type": "code",
   "execution_count": 141,
   "id": "dbb1f710-5cd3-43a9-8f7c-62a999ae27e2",
   "metadata": {},
   "outputs": [
    {
     "data": {
      "text/plain": [
       "[1, 2, 3, 4]"
      ]
     },
     "execution_count": 141,
     "metadata": {},
     "output_type": "execute_result"
    }
   ],
   "source": [
    "numbers=[-2,-1,0,1,2,3,4]\n",
    "[num for num in numbers if num>0]"
   ]
  },
  {
   "cell_type": "code",
   "execution_count": 143,
   "id": "7516c222-90c0-4567-b580-862e70b4bcb1",
   "metadata": {},
   "outputs": [
    {
     "data": {
      "text/plain": [
       "['a', 'b', 'c', 'd']"
      ]
     },
     "execution_count": 143,
     "metadata": {},
     "output_type": "execute_result"
    }
   ],
   "source": [
    "words=[\"apple\",\"banana\",\"cherry\",\"date\"]\n",
    "[word[0] for word in words]"
   ]
  },
  {
   "cell_type": "code",
   "execution_count": 144,
   "id": "fb71da74-ac99-48aa-bd00-a9be00f0872a",
   "metadata": {},
   "outputs": [
    {
     "ename": "NameError",
     "evalue": "name 'temp' is not defined",
     "output_type": "error",
     "traceback": [
      "\u001b[0;31m---------------------------------------------------------------------------\u001b[0m",
      "\u001b[0;31mNameError\u001b[0m                                 Traceback (most recent call last)",
      "Cell \u001b[0;32mIn[144], line 1\u001b[0m\n\u001b[0;32m----> 1\u001b[0m (\u001b[38;5;241m9\u001b[39m\u001b[38;5;241m/\u001b[39m\u001b[38;5;241m5\u001b[39m)\u001b[38;5;241m*\u001b[39m\u001b[43mtemp\u001b[49m\u001b[38;5;241m+\u001b[39m\u001b[38;5;241m32\u001b[39m\n",
      "\u001b[0;31mNameError\u001b[0m: name 'temp' is not defined"
     ]
    }
   ],
   "source": [
    "(9/5)*temp+32"
   ]
  },
  {
   "cell_type": "code",
   "execution_count": 145,
   "id": "2acdbb79-3860-424d-9f4b-dfee1ad1a4c7",
   "metadata": {},
   "outputs": [
    {
     "data": {
      "text/plain": [
       "[32.0, 50.0, 68.0, 86.0, 104.0, 122.0]"
      ]
     },
     "execution_count": 145,
     "metadata": {},
     "output_type": "execute_result"
    }
   ],
   "source": [
    "celsius_tempratures= [0,10,20,30,40,50]\n",
    "[(9/5)*temp+32 for temp in celsius_tempratures]"
   ]
  },
  {
   "cell_type": "code",
   "execution_count": 146,
   "id": "da99787b-d949-403d-b04c-1ade6f133b82",
   "metadata": {},
   "outputs": [],
   "source": [
    "lists=[[1,2,3,],[4,5,6],[7,8,9]]"
   ]
  },
  {
   "cell_type": "code",
   "execution_count": 147,
   "id": "ee16757e-3705-4f9c-883e-88adfba0798a",
   "metadata": {},
   "outputs": [
    {
     "data": {
      "text/plain": [
       "[1, 2, 3, 4, 5, 6, 7, 8, 9]"
      ]
     },
     "execution_count": 147,
     "metadata": {},
     "output_type": "execute_result"
    }
   ],
   "source": [
    "[num for sublist in lists for num in sublist]"
   ]
  },
  {
   "cell_type": "code",
   "execution_count": 1,
   "id": "78449c7f-e7c2-40ef-aeb3-dbd0a80c48e1",
   "metadata": {},
   "outputs": [
    {
     "data": {
      "text/plain": [
       "4"
      ]
     },
     "execution_count": 1,
     "metadata": {},
     "output_type": "execute_result"
    }
   ],
   "source": [
    "a=4\n",
    "a"
   ]
  },
  {
   "cell_type": "markdown",
   "id": "fc6bec5a-6893-44c7-8bd9-bcf345b6f695",
   "metadata": {},
   "source": [
    "#Thank you!!!!!!!!!!!!!!!!!!!!!!!!!! "
   ]
  }
 ],
 "metadata": {
  "kernelspec": {
   "display_name": "Python 3 (ipykernel)",
   "language": "python",
   "name": "python3"
  },
  "language_info": {
   "codemirror_mode": {
    "name": "ipython",
    "version": 3
   },
   "file_extension": ".py",
   "mimetype": "text/x-python",
   "name": "python",
   "nbconvert_exporter": "python",
   "pygments_lexer": "ipython3",
   "version": "3.10.8"
  }
 },
 "nbformat": 4,
 "nbformat_minor": 5
}
