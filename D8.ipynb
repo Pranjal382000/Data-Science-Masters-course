{
 "cells": [
  {
   "cell_type": "markdown",
   "id": "6d430480-ee19-41c1-8584-047c5c57a91e",
   "metadata": {},
   "source": [
    "#\"Oops\" stands for Object oriented programming system."
   ]
  },
  {
   "cell_type": "code",
   "execution_count": 1,
   "id": "a3fb408c-a265-430b-a60f-ecb2308ac6ce",
   "metadata": {},
   "outputs": [],
   "source": [
    "a=1"
   ]
  },
  {
   "cell_type": "code",
   "execution_count": 2,
   "id": "3018eb89-46d1-48da-9408-1d3eb56827e6",
   "metadata": {},
   "outputs": [
    {
     "name": "stdout",
     "output_type": "stream",
     "text": [
      "<class 'int'>\n"
     ]
    }
   ],
   "source": [
    "print(type(a))"
   ]
  },
  {
   "cell_type": "code",
   "execution_count": 4,
   "id": "2a2800fd-fc06-4a57-9ec3-4e5599f42e8b",
   "metadata": {},
   "outputs": [
    {
     "name": "stdout",
     "output_type": "stream",
     "text": [
      "<class 'str'>\n"
     ]
    }
   ],
   "source": [
    "print(type(\"pwskills\"))"
   ]
  },
  {
   "cell_type": "code",
   "execution_count": 5,
   "id": "80cd8763-63af-4bb1-b9ac-096af5f855af",
   "metadata": {},
   "outputs": [],
   "source": [
    "class test:\n",
    "    pass"
   ]
  },
  {
   "cell_type": "code",
   "execution_count": 6,
   "id": "86c16c23-b339-4507-b6e4-ff8e4ce9c74f",
   "metadata": {},
   "outputs": [],
   "source": [
    "a =test()"
   ]
  },
  {
   "cell_type": "code",
   "execution_count": 7,
   "id": "cca6a8e6-c6aa-421e-9861-e72056a12db7",
   "metadata": {},
   "outputs": [
    {
     "name": "stdout",
     "output_type": "stream",
     "text": [
      "<class '__main__.test'>\n"
     ]
    }
   ],
   "source": [
    "print(type(a))"
   ]
  },
  {
   "cell_type": "code",
   "execution_count": 11,
   "id": "b87d4dcf-4a28-4be5-804a-eeb55fe696b9",
   "metadata": {},
   "outputs": [],
   "source": [
    "class pwskills:\n",
    "    \n",
    "    def welcome_msg(self):\n",
    "        print(\"welcome to pwskills\")"
   ]
  },
  {
   "cell_type": "code",
   "execution_count": 13,
   "id": "0dfaa6fe-efc0-486a-b079-1078e4579586",
   "metadata": {},
   "outputs": [],
   "source": [
    "rohan= pwskills()"
   ]
  },
  {
   "cell_type": "code",
   "execution_count": 14,
   "id": "89b8116a-6bc8-4da9-ae84-803ba722edc6",
   "metadata": {},
   "outputs": [
    {
     "name": "stdout",
     "output_type": "stream",
     "text": [
      "welcome to pwskills\n"
     ]
    }
   ],
   "source": [
    "rohan.welcome_msg()"
   ]
  },
  {
   "cell_type": "code",
   "execution_count": 15,
   "id": "ed259d0b-cdb9-49f2-8fe4-5739df5883b0",
   "metadata": {},
   "outputs": [],
   "source": [
    "sohan= pwskills()"
   ]
  },
  {
   "cell_type": "code",
   "execution_count": 16,
   "id": "b59dbec6-1e67-4605-bcf1-758f79c39225",
   "metadata": {},
   "outputs": [
    {
     "name": "stdout",
     "output_type": "stream",
     "text": [
      "welcome to pwskills\n"
     ]
    }
   ],
   "source": [
    "sohan.welcome_msg()"
   ]
  },
  {
   "cell_type": "code",
   "execution_count": 17,
   "id": "8d3e7060-baa7-4e5b-97c9-f89a93ffb70e",
   "metadata": {},
   "outputs": [],
   "source": [
    "a=1"
   ]
  },
  {
   "cell_type": "code",
   "execution_count": 18,
   "id": "1a3d874f-000a-4c0e-b607-9d07a7e4589a",
   "metadata": {},
   "outputs": [],
   "source": [
    "b=2"
   ]
  },
  {
   "cell_type": "code",
   "execution_count": 19,
   "id": "bdb90883-137d-4f2f-bb3f-cc9dfa7cd856",
   "metadata": {},
   "outputs": [
    {
     "data": {
      "text/plain": [
       "1"
      ]
     },
     "execution_count": 19,
     "metadata": {},
     "output_type": "execute_result"
    }
   ],
   "source": [
    "a"
   ]
  },
  {
   "cell_type": "code",
   "execution_count": 20,
   "id": "5ed29ed0-11b9-4b72-ad80-224706f70313",
   "metadata": {},
   "outputs": [
    {
     "data": {
      "text/plain": [
       "2"
      ]
     },
     "execution_count": 20,
     "metadata": {},
     "output_type": "execute_result"
    }
   ],
   "source": [
    "b"
   ]
  },
  {
   "cell_type": "code",
   "execution_count": 36,
   "id": "ff00364f-44f8-4871-9a01-6f0c1c0220ba",
   "metadata": {},
   "outputs": [],
   "source": [
    "class pwskills1:\n",
    "     \n",
    "    def __init__(self, phone_number, email_id, student_id):\n",
    "            \n",
    "        self.phone_number= phone_number\n",
    "        self.email_id= email_id\n",
    "        self.student_id= student_id\n",
    "        \n",
    "    def return_student_detials(self):\n",
    "        return self.phone_number, self.email_id, self.student_id"
   ]
  },
  {
   "cell_type": "code",
   "execution_count": 38,
   "id": "378e9034-b344-4591-86f5-d3e34d83b3ca",
   "metadata": {},
   "outputs": [],
   "source": [
    "rohan= pwskills1(9543565, \"rohan@gmail.com\", 101)"
   ]
  },
  {
   "cell_type": "code",
   "execution_count": 39,
   "id": "f5cea10a-030a-4d8c-a165-05e3c2e7fa61",
   "metadata": {},
   "outputs": [
    {
     "data": {
      "text/plain": [
       "9543565"
      ]
     },
     "execution_count": 39,
     "metadata": {},
     "output_type": "execute_result"
    }
   ],
   "source": [
    "rohan.phone_number"
   ]
  },
  {
   "cell_type": "code",
   "execution_count": 40,
   "id": "d8a2de8b-c5be-4959-9d31-c1b01b02adf0",
   "metadata": {},
   "outputs": [
    {
     "data": {
      "text/plain": [
       "'rohan@gmail.com'"
      ]
     },
     "execution_count": 40,
     "metadata": {},
     "output_type": "execute_result"
    }
   ],
   "source": [
    "rohan.email_id"
   ]
  },
  {
   "cell_type": "code",
   "execution_count": 41,
   "id": "c5f2ddd8-38c7-4100-8394-cfeb455e702d",
   "metadata": {},
   "outputs": [
    {
     "data": {
      "text/plain": [
       "101"
      ]
     },
     "execution_count": 41,
     "metadata": {},
     "output_type": "execute_result"
    }
   ],
   "source": [
    "rohan.student_id"
   ]
  },
  {
   "cell_type": "code",
   "execution_count": 42,
   "id": "877e68c1-32d6-436e-b29d-8e6d8ca882e1",
   "metadata": {},
   "outputs": [],
   "source": [
    "class pwskills2:\n",
    "     \n",
    "    def __init__(sudh, phone_number, email_id, student_id):\n",
    "            \n",
    "        sudh.phone_number= phone_number\n",
    "        sudh.email_id= email_id\n",
    "        sudh.student_id= student_id\n",
    "        \n",
    "    def return_student_detials(sudh):\n",
    "        return sudh.phone_number, sudh.email_id, sudh.student_id"
   ]
  },
  {
   "cell_type": "code",
   "execution_count": 43,
   "id": "969c1ac1-7a87-4144-a3d7-d3ea1ab2db65",
   "metadata": {},
   "outputs": [],
   "source": [
    "mohan= pwskills2(95475783565, \"mohan@gmail.com\", 161)"
   ]
  },
  {
   "cell_type": "code",
   "execution_count": 44,
   "id": "b8677468-f0a5-40d6-8ff8-d876c4467fb6",
   "metadata": {},
   "outputs": [
    {
     "data": {
      "text/plain": [
       "95475783565"
      ]
     },
     "execution_count": 44,
     "metadata": {},
     "output_type": "execute_result"
    }
   ],
   "source": [
    "mohan.phone_number"
   ]
  },
  {
   "cell_type": "code",
   "execution_count": 56,
   "id": "56bc6ac8-ca98-4181-9830-fb5cb6cc57a0",
   "metadata": {},
   "outputs": [],
   "source": [
    "class pwskills3:\n",
    "     \n",
    "    def __init__(sudh, phone_number, email_id, student_id):\n",
    "            \n",
    "        sudh.phone_number1= phone_number\n",
    "        sudh.email_id= email_id\n",
    "        sudh.student_id= student_id\n",
    "        \n",
    "    def return_student_detials(sudh):\n",
    "        return sudh.phone_number1, sudh.email_id, sudh.student_id"
   ]
  },
  {
   "cell_type": "code",
   "execution_count": 59,
   "id": "b29adb99-05ad-4f19-a5c3-c59de4c063d9",
   "metadata": {},
   "outputs": [],
   "source": [
    "rohan= pwskills3(999735, \"rohan@gmail.com\", 123)"
   ]
  },
  {
   "cell_type": "code",
   "execution_count": 57,
   "id": "c03f3c57-33a7-44f7-b1c9-6013c452f575",
   "metadata": {},
   "outputs": [
    {
     "data": {
      "text/plain": [
       "999735"
      ]
     },
     "execution_count": 57,
     "metadata": {},
     "output_type": "execute_result"
    }
   ],
   "source": [
    "rohan.phone_number1"
   ]
  },
  {
   "cell_type": "code",
   "execution_count": 60,
   "id": "c2af40f0-dec7-40f9-a8ba-3a4e6c42164e",
   "metadata": {},
   "outputs": [
    {
     "data": {
      "text/plain": [
       "(999735, 'rohan@gmail.com', 123)"
      ]
     },
     "execution_count": 60,
     "metadata": {},
     "output_type": "execute_result"
    }
   ],
   "source": [
    "rohan.return_student_detials()"
   ]
  },
  {
   "cell_type": "code",
   "execution_count": null,
   "id": "2d84520a-1630-4cbc-b7eb-6a09d76a1547",
   "metadata": {},
   "outputs": [],
   "source": []
  }
 ],
 "metadata": {
  "kernelspec": {
   "display_name": "Python 3 (ipykernel)",
   "language": "python",
   "name": "python3"
  },
  "language_info": {
   "codemirror_mode": {
    "name": "ipython",
    "version": 3
   },
   "file_extension": ".py",
   "mimetype": "text/x-python",
   "name": "python",
   "nbconvert_exporter": "python",
   "pygments_lexer": "ipython3",
   "version": "3.10.8"
  }
 },
 "nbformat": 4,
 "nbformat_minor": 5
}
